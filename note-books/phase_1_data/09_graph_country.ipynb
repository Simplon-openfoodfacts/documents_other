{
 "cells": [
  {
   "cell_type": "markdown",
   "metadata": {},
   "source": [
    "---\n",
    "\n",
    "# **Notebook 9 : Tri des Pays en Langue Latine dans les Données de Produit**\n",
    "\n",
    "---\n",
    "\n",
    "### **1. Importation des bibliothèques**\n",
    "\n",
    "Cette première section est dédiée à l'importation des bibliothèques nécessaires pour la manipulation des fichiers et des données.\n"
   ]
  },
  {
   "cell_type": "code",
   "execution_count": 21,
   "metadata": {},
   "outputs": [],
   "source": [
    "# Importation des bibliothèques\n",
    "import os\n",
    "import pandas as pd\n",
    "import re"
   ]
  },
  {
   "cell_type": "markdown",
   "metadata": {},
   "source": [
    "---\n",
    "\n",
    "### **2. Définition de la fonction de comptage des pays**\n",
    "\n",
    "Cette fonction lit les fichiers dans le dossier des chunks, filtre les noms de pays pour exclure ceux en caractères non-latins, compte les occurrences de chaque pays, et organise le résultat par ordre croissant.\n"
   ]
  },
  {
   "cell_type": "code",
   "execution_count": 22,
   "metadata": {},
   "outputs": [],
   "source": [
    "def filtrer_pays_langue_latine(input_directory, output_directory):\n",
    "    # Créer le répertoire de sortie s'il n'existe pas\n",
    "    os.makedirs(output_directory, exist_ok=True)\n",
    "\n",
    "    # Parcourir les fichiers dans le dossier des chunks\n",
    "    for file_name in os.listdir(input_directory):\n",
    "        input_file_path = os.path.join(input_directory, file_name)\n",
    "        \n",
    "        # Lire chaque chunk\n",
    "        chunk_iter = pd.read_csv(input_file_path, sep=',', chunksize=10000, low_memory=False, on_bad_lines=\"skip\")\n",
    "        \n",
    "        for i, chunk in enumerate(chunk_iter):\n",
    "            if 'countries' in chunk.columns:\n",
    "                # Nettoyer et filtrer les noms de pays pour garder uniquement les caractères latins\n",
    "                chunk['countries_cleaned'] = chunk['countries'].apply(\n",
    "                    lambda x: [country.strip() for country in re.split(r',|\\s', str(x)) if re.match(r'^[a-zA-Z\\s]+$', country)]\n",
    "                )\n",
    "                \n",
    "                # Supprimer la colonne temporaire 'countries_cleaned' pour conserver les données d'origine\n",
    "                chunk = chunk.drop(columns=['countries_cleaned'])\n",
    "\n",
    "                # Définir le chemin de sortie pour le fichier chunk filtré\n",
    "                output_file_path = os.path.join(output_directory, f\"{file_name.split('.')[0]}_filtered_part_{i}.csv\")\n",
    "\n",
    "                # Enregistrer chaque chunk filtré dans un fichier distinct\n",
    "                chunk.to_csv(output_file_path, index=False)\n",
    "                print(f\"Chunk filtré sauvegardé dans {output_file_path}\")\n"
   ]
  },
  {
   "cell_type": "markdown",
   "metadata": {},
   "source": [
    "### **3. Définition des Répertoires d'Entrée et de Sortie**\n",
    "\n",
    "Cette section enregistre le tableau résultant, trié par ordre croissant, dans un fichier CSV pour une utilisation ultérieure.\n"
   ]
  },
  {
   "cell_type": "code",
   "execution_count": 23,
   "metadata": {},
   "outputs": [],
   "source": [
    "# Répertoires d'entrée et de sortie\n",
    "input_directory = 'note-books/phase_1_data/07_chunk_no_redundant_columns'\n",
    "output_directory = 'note-books/phase_1_data/08_data_countries'\n"
   ]
  },
  {
   "cell_type": "markdown",
   "metadata": {},
   "source": [
    "### **4. Exécution de la Fonction**\n",
    "\n",
    "Exécutez la fonction filtrer_pays_langue_latine pour appliquer le filtrage tout en conservant toutes les colonnes d'origine.\n"
   ]
  },
  {
   "cell_type": "code",
   "execution_count": 24,
   "metadata": {},
   "outputs": [
    {
     "name": "stdout",
     "output_type": "stream",
     "text": [
      "Chunk filtré sauvegardé dans note-books/phase_1_data/08_data_countries/chunk_17_filtered_part_0.csv\n",
      "Chunk filtré sauvegardé dans note-books/phase_1_data/08_data_countries/chunk_17_filtered_part_0.csv\n",
      "Chunk filtré sauvegardé dans note-books/phase_1_data/08_data_countries/chunk_34_filtered_part_0.csv\n",
      "Chunk filtré sauvegardé dans note-books/phase_1_data/08_data_countries/chunk_16_filtered_part_0.csv\n",
      "Chunk filtré sauvegardé dans note-books/phase_1_data/08_data_countries/chunk_31_filtered_part_0.csv\n",
      "Chunk filtré sauvegardé dans note-books/phase_1_data/08_data_countries/chunk_30_filtered_part_0.csv\n",
      "Chunk filtré sauvegardé dans note-books/phase_1_data/08_data_countries/chunk_21_filtered_part_0.csv\n",
      "Chunk filtré sauvegardé dans note-books/phase_1_data/08_data_countries/chunk_19_filtered_part_0.csv\n",
      "Chunk filtré sauvegardé dans note-books/phase_1_data/08_data_countries/chunk_20_filtered_part_0.csv\n",
      "Chunk filtré sauvegardé dans note-books/phase_1_data/08_data_countries/chunk_20_filtered_part_0.csv\n",
      "Chunk filtré sauvegardé dans note-books/phase_1_data/08_data_countries/chunk_24_filtered_part_0.csv\n",
      "Chunk filtré sauvegardé dans note-books/phase_1_data/08_data_countries/chunk_25_filtered_part_0.csv\n",
      "Chunk filtré sauvegardé dans note-books/phase_1_data/08_data_countries/chunk_24_filtered_part_0.csv\n",
      "Chunk filtré sauvegardé dans note-books/phase_1_data/08_data_countries/chunk_24_filtered_part_0.csv\n",
      "Chunk filtré sauvegardé dans note-books/phase_1_data/08_data_countries/chunk_19_filtered_part_0.csv\n",
      "Chunk filtré sauvegardé dans note-books/phase_1_data/08_data_countries/chunk_20_filtered_part_0.csv\n",
      "Chunk filtré sauvegardé dans note-books/phase_1_data/08_data_countries/chunk_30_filtered_part_0.csv\n",
      "Chunk filtré sauvegardé dans note-books/phase_1_data/08_data_countries/chunk_35_filtered_part_0.csv\n",
      "Chunk filtré sauvegardé dans note-books/phase_1_data/08_data_countries/chunk_17_filtered_part_0.csv\n",
      "Chunk filtré sauvegardé dans note-books/phase_1_data/08_data_countries/chunk_16_filtered_part_0.csv\n",
      "Chunk filtré sauvegardé dans note-books/phase_1_data/08_data_countries/chunk_34_filtered_part_0.csv\n",
      "Chunk filtré sauvegardé dans note-books/phase_1_data/08_data_countries/chunk_15_filtered_part_0.csv\n",
      "Chunk filtré sauvegardé dans note-books/phase_1_data/08_data_countries/chunk_15_filtered_part_0.csv\n",
      "Chunk filtré sauvegardé dans note-books/phase_1_data/08_data_countries/chunk_14_filtered_part_0.csv\n",
      "Chunk filtré sauvegardé dans note-books/phase_1_data/08_data_countries/chunk_33_filtered_part_0.csv\n",
      "Chunk filtré sauvegardé dans note-books/phase_1_data/08_data_countries/chunk_11_filtered_part_0.csv\n",
      "Chunk filtré sauvegardé dans note-books/phase_1_data/08_data_countries/chunk_29_filtered_part_0.csv\n",
      "Chunk filtré sauvegardé dans note-books/phase_1_data/08_data_countries/chunk_28_filtered_part_0.csv\n",
      "Chunk filtré sauvegardé dans note-books/phase_1_data/08_data_countries/chunk_23_filtered_part_0.csv\n",
      "Chunk filtré sauvegardé dans note-books/phase_1_data/08_data_countries/chunk_22_filtered_part_0.csv\n",
      "Chunk filtré sauvegardé dans note-books/phase_1_data/08_data_countries/chunk_26_filtered_part_0.csv\n",
      "Chunk filtré sauvegardé dans note-books/phase_1_data/08_data_countries/chunk_27_filtered_part_0.csv\n",
      "Chunk filtré sauvegardé dans note-books/phase_1_data/08_data_countries/chunk_26_filtered_part_0.csv\n",
      "Chunk filtré sauvegardé dans note-books/phase_1_data/08_data_countries/chunk_22_filtered_part_0.csv\n",
      "Chunk filtré sauvegardé dans note-books/phase_1_data/08_data_countries/chunk_11_filtered_part_0.csv\n",
      "Chunk filtré sauvegardé dans note-books/phase_1_data/08_data_countries/chunk_29_filtered_part_0.csv\n",
      "Chunk filtré sauvegardé dans note-books/phase_1_data/08_data_countries/chunk_28_filtered_part_0.csv\n",
      "Chunk filtré sauvegardé dans note-books/phase_1_data/08_data_countries/chunk_15_filtered_part_0.csv\n",
      "Chunk filtré sauvegardé dans note-books/phase_1_data/08_data_countries/chunk_15_filtered_part_0.csv\n",
      "Chunk filtré sauvegardé dans note-books/phase_1_data/08_data_countries/chunk_14_filtered_part_0.csv\n",
      "Chunk filtré sauvegardé dans note-books/phase_1_data/08_data_countries/chunk_14_filtered_part_0.csv\n",
      "Chunk filtré sauvegardé dans note-books/phase_1_data/08_data_countries/chunk_14_filtered_part_0.csv\n",
      "Chunk filtré sauvegardé dans note-books/phase_1_data/08_data_countries/chunk_15_filtered_part_0.csv\n",
      "Chunk filtré sauvegardé dans note-books/phase_1_data/08_data_countries/chunk_28_filtered_part_0.csv\n",
      "Chunk filtré sauvegardé dans note-books/phase_1_data/08_data_countries/chunk_33_filtered_part_0.csv\n",
      "Chunk filtré sauvegardé dans note-books/phase_1_data/08_data_countries/chunk_29_filtered_part_0.csv\n",
      "Chunk filtré sauvegardé dans note-books/phase_1_data/08_data_countries/chunk_29_filtered_part_0.csv\n",
      "Chunk filtré sauvegardé dans note-books/phase_1_data/08_data_countries/chunk_11_filtered_part_0.csv\n",
      "Chunk filtré sauvegardé dans note-books/phase_1_data/08_data_countries/chunk_23_filtered_part_0.csv\n",
      "Chunk filtré sauvegardé dans note-books/phase_1_data/08_data_countries/chunk_26_filtered_part_0.csv\n",
      "Chunk filtré sauvegardé dans note-books/phase_1_data/08_data_countries/chunk_27_filtered_part_0.csv\n",
      "Chunk filtré sauvegardé dans note-books/phase_1_data/08_data_countries/chunk_27_filtered_part_0.csv\n",
      "Chunk filtré sauvegardé dans note-books/phase_1_data/08_data_countries/chunk_27_filtered_part_0.csv\n",
      "Chunk filtré sauvegardé dans note-books/phase_1_data/08_data_countries/chunk_22_filtered_part_0.csv\n",
      "Chunk filtré sauvegardé dans note-books/phase_1_data/08_data_countries/chunk_23_filtered_part_0.csv\n",
      "Chunk filtré sauvegardé dans note-books/phase_1_data/08_data_countries/chunk_29_filtered_part_0.csv\n",
      "Chunk filtré sauvegardé dans note-books/phase_1_data/08_data_countries/chunk_33_filtered_part_0.csv\n",
      "Chunk filtré sauvegardé dans note-books/phase_1_data/08_data_countries/chunk_33_filtered_part_0.csv\n",
      "Chunk filtré sauvegardé dans note-books/phase_1_data/08_data_countries/chunk_14_filtered_part_0.csv\n",
      "Chunk filtré sauvegardé dans note-books/phase_1_data/08_data_countries/chunk_14_filtered_part_0.csv\n",
      "Chunk filtré sauvegardé dans note-books/phase_1_data/08_data_countries/chunk_15_filtered_part_0.csv\n",
      "Chunk filtré sauvegardé dans note-books/phase_1_data/08_data_countries/chunk_34_filtered_part_0.csv\n",
      "Chunk filtré sauvegardé dans note-books/phase_1_data/08_data_countries/chunk_16_filtered_part_0.csv\n",
      "Chunk filtré sauvegardé dans note-books/phase_1_data/08_data_countries/chunk_17_filtered_part_0.csv\n",
      "Chunk filtré sauvegardé dans note-books/phase_1_data/08_data_countries/chunk_35_filtered_part_0.csv\n",
      "Chunk filtré sauvegardé dans note-books/phase_1_data/08_data_countries/chunk_31_filtered_part_0.csv\n",
      "Chunk filtré sauvegardé dans note-books/phase_1_data/08_data_countries/chunk_21_filtered_part_0.csv\n",
      "Chunk filtré sauvegardé dans note-books/phase_1_data/08_data_countries/chunk_24_filtered_part_0.csv\n",
      "Chunk filtré sauvegardé dans note-books/phase_1_data/08_data_countries/chunk_25_filtered_part_0.csv\n",
      "Chunk filtré sauvegardé dans note-books/phase_1_data/08_data_countries/chunk_25_filtered_part_0.csv\n",
      "Chunk filtré sauvegardé dans note-books/phase_1_data/08_data_countries/chunk_20_filtered_part_0.csv\n",
      "Chunk filtré sauvegardé dans note-books/phase_1_data/08_data_countries/chunk_19_filtered_part_0.csv\n",
      "Chunk filtré sauvegardé dans note-books/phase_1_data/08_data_countries/chunk_21_filtered_part_0.csv\n",
      "Chunk filtré sauvegardé dans note-books/phase_1_data/08_data_countries/chunk_21_filtered_part_0.csv\n",
      "Chunk filtré sauvegardé dans note-books/phase_1_data/08_data_countries/chunk_30_filtered_part_0.csv\n",
      "Chunk filtré sauvegardé dans note-books/phase_1_data/08_data_countries/chunk_31_filtered_part_0.csv\n",
      "Chunk filtré sauvegardé dans note-books/phase_1_data/08_data_countries/chunk_31_filtered_part_0.csv\n",
      "Chunk filtré sauvegardé dans note-books/phase_1_data/08_data_countries/chunk_16_filtered_part_0.csv\n",
      "Chunk filtré sauvegardé dans note-books/phase_1_data/08_data_countries/chunk_16_filtered_part_0.csv\n",
      "Chunk filtré sauvegardé dans note-books/phase_1_data/08_data_countries/chunk_17_filtered_part_0.csv\n"
     ]
    }
   ],
   "source": [
    "# Exécuter la fonction\n",
    "filtrer_pays_langue_latine(input_directory, output_directory)\n"
   ]
  },
  {
   "cell_type": "markdown",
   "metadata": {},
   "source": [
    "### **Explications :**\n",
    "\n",
    "\n",
    "- **Filtrage des Pays en Langue Latine**: La fonction traite les données dans chaque chunk et filtre les noms de pays pour ne garder que ceux écrits avec des caractères latins.\n",
    "- **Conservation des Colonnes**: Toutes les colonnes d'origine sont conservées dans le fichier final.\n",
    "- **Enregistrement en CSV Consolidé** : Le fichier final conserve toutes les données des fichiers CSV originaux avec le filtrage appliqué sur la colonne countries.\n",
    "\n",
    "--- "
   ]
  }
 ],
 "metadata": {
  "kernelspec": {
   "display_name": ".venv",
   "language": "python",
   "name": "python3"
  },
  "language_info": {
   "codemirror_mode": {
    "name": "ipython",
    "version": 3
   },
   "file_extension": ".py",
   "mimetype": "text/x-python",
   "name": "python",
   "nbconvert_exporter": "python",
   "pygments_lexer": "ipython3",
   "version": "3.12.6"
  }
 },
 "nbformat": 4,
 "nbformat_minor": 2
}
