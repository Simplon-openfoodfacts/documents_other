{
 "cells": [
  {
   "cell_type": "markdown",
   "metadata": {},
   "source": [
    "---\n",
    "\n",
    "# **Notebook 9 : Comptage et Tri des Pays en Langue Latine dans les Données de Produit**\n",
    "\n",
    "---\n",
    "\n",
    "### **1. Importation des bibliothèques**\n",
    "\n",
    "Cette première section est dédiée à l'importation des bibliothèques nécessaires pour la manipulation des fichiers et des données.\n"
   ]
  },
  {
   "cell_type": "code",
   "execution_count": 1,
   "metadata": {},
   "outputs": [],
   "source": [
    "# Importation des bibliothèques\n",
    "import os\n",
    "import pandas as pd\n",
    "import re"
   ]
  },
  {
   "cell_type": "markdown",
   "metadata": {},
   "source": [
    "---\n",
    "\n",
    "### **2. Définition de la fonction de comptage des pays**\n",
    "\n",
    "Cette fonction lit les fichiers dans le dossier des chunks, filtre les noms de pays pour exclure ceux en caractères non-latins, compte les occurrences de chaque pays, et organise le résultat par ordre croissant.\n"
   ]
  },
  {
   "cell_type": "code",
   "execution_count": null,
   "metadata": {},
   "outputs": [],
   "source": [
    "def compter_pays(input_directory):\n",
    "    pays_counts = {}\n",
    "\n",
    "    # Parcourir les fichiers dans le dossier des chunks\n",
    "    for file_name in os.listdir(input_directory):\n",
    "        input_file_path = os.path.join(input_directory, file_name)\n",
    "        \n",
    "        # Lire chaque chunk\n",
    "        chunk_iter = pd.read_csv(input_file_path, sep=',', chunksize=10000, low_memory=False, on_bad_lines=\"skip\")\n",
    "        \n",
    "        for chunk in chunk_iter:\n",
    "            if 'countries' in chunk.columns:\n",
    "                # Nettoyer les noms de pays en ne gardant que ceux avec des caractères latins\n",
    "                chunk['countries_cleaned'] = chunk['countries'].apply(\n",
    "                    lambda x: [country.strip() for country in re.split(r',|\\s', str(x)) if re.match(r'^[a-zA-Z\\s]+$', country)]\n",
    "                )\n",
    "                \n",
    "                # Compter les occurrences des pays\n",
    "                for countries_list in chunk['countries_cleaned']:\n",
    "                    for country in countries_list:\n",
    "                        if country:  # Ignorer les valeurs vides\n",
    "                            pays_counts[country] = pays_counts.get(country, 0) + 1\n",
    "\n",
    "    # Convertir le dictionnaire en DataFrame et trier par ordre croissant\n",
    "    pays_df = pd.DataFrame(list(pays_counts.items()), columns=['Pays', 'Nombre de produits']).sort_values(by='Nombre de produits', ascending=True)\n",
    "    \n",
    "    return pays_df"
   ]
  },
  {
   "cell_type": "markdown",
   "metadata": {},
   "source": [
    "### **3. Enregistrement du DataFrame trié dans un fichier CSV**\n",
    "\n",
    "Cette section enregistre le tableau résultant, trié par ordre croissant, dans un fichier CSV pour une utilisation ultérieure.\n"
   ]
  },
  {
   "cell_type": "code",
   "execution_count": null,
   "metadata": {},
   "outputs": [],
   "source": [
    "# Définir le répertoire des chunks et exécuter la fonction\n",
    "input_directory = 'note-books/phase_1_data/07_chunk_no_redundant_columns'\n",
    "pays_df = compter_pays(input_directory)\n",
    "\n",
    "# Enregistrer le DataFrame dans un fichier CSV\n",
    "output_csv_path = 'note-books/phase_1_data/08_data_countries/pays_counts_ordre_croissant.csv'\n",
    "os.makedirs(os.path.dirname(output_csv_path), exist_ok=True)\n",
    "pays_df.to_csv(output_csv_path, index=False)\n",
    "\n",
    "print(f\"Tableau des pays trié par ordre croissant enregistré dans {output_csv_path}\")\n"
   ]
  },
  {
   "cell_type": "markdown",
   "metadata": {},
   "source": [
    "### **Explications :**\n",
    "\n",
    "- **Comptage et filtrage des pays** : La fonction `compter_pays` lit les données dans chaque chunk, filtre les noms de pays pour ne garder que ceux écrits avec des caractères latins, puis compte les occurrences de chaque pays.\n",
    "- **Organisation des données** : Le tableau final est trié par ordre croissant de nombre de produits par pays pour une meilleure visualisation.\n",
    "- **Enregistrement en CSV** : Le résultat est sauvegardé dans un fichier CSV, ce qui permet de l'exporter ou de l'utiliser dans des analyses ultérieures.\n",
    "\n",
    "--- \n"
   ]
  }
 ],
 "metadata": {
  "kernelspec": {
   "display_name": ".venv",
   "language": "python",
   "name": "python3"
  },
  "language_info": {
   "codemirror_mode": {
    "name": "ipython",
    "version": 3
   },
   "file_extension": ".py",
   "mimetype": "text/x-python",
   "name": "python",
   "nbconvert_exporter": "python",
   "pygments_lexer": "ipython3",
   "version": "3.12.6"
  }
 },
 "nbformat": 4,
 "nbformat_minor": 2
}
