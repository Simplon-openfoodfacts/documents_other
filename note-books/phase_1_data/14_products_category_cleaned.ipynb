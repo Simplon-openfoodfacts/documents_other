{
 "cells": [
  {
   "cell_type": "markdown",
   "metadata": {},
   "source": [
    "---\n",
    "\n",
    "# **Notebook 14 : Nettoyage et Sélection des Catégories et Groupes PNNS pour les Produits**\n",
    "\n",
    "---\n",
    "\n",
    "### **1. Importation des Bibliothèques**\n",
    "\n",
    "Nous commençons par importer les bibliothèques nécessaires pour le traitement des fichiers et la manipulation des données."
   ]
  },
  {
   "cell_type": "code",
   "execution_count": 1,
   "metadata": {},
   "outputs": [],
   "source": [
    "import os\n",
    "import pandas as pd\n",
    "import re"
   ]
  },
  {
   "cell_type": "markdown",
   "metadata": {},
   "source": [
    "---\n",
    "\n",
    "### **2. Définition des Répertoires d'Entrée et de Sortie**\n",
    "\n",
    "Nous définissons les chemins pour le répertoire contenant les fichiers CSV à traiter et celui où nous sauvegarderons les fichiers nettoyés."
   ]
  },
  {
   "cell_type": "code",
   "execution_count": null,
   "metadata": {},
   "outputs": [],
   "source": [
    "# Répertoires d'entrée et de sortie\n",
    "input_directory = 'note-books/phase_1_data/08_data_countries'\n",
    "output_directory = 'note-books/phase_1_data/14_categorized_data'\n",
    "os.makedirs(output_directory, exist_ok=True)"
   ]
  },
  {
   "cell_type": "markdown",
   "metadata": {},
   "source": [
    "---\n",
    "\n",
    "### **3. Fonction de Nettoyage des Colonnes `categories`, `pnns_groups_1`, et `pnns_groups_2`**\n",
    "\n",
    "Cette fonction applique les règles de nettoyage suivantes :\n",
    "\n",
    "1. **Suppression du préfixe `en:`** dans la colonne `categories`.\n",
    "2. **Conservation des accents et caractères spéciaux courants** (apostrophes, par exemple) dans les noms de catégories.\n",
    "3. **Sélection de la première catégorie** dans `categories` si plusieurs sont présentes (sauf si la première catégorie est `\"unknown\"`).\n",
    "4. **Remplacement des valeurs non conformes** ou celles contenant des caractères invalides par `\"unknown\"` dans toutes les colonnes."
   ]
  },
  {
   "cell_type": "code",
   "execution_count": null,
   "metadata": {},
   "outputs": [],
   "source": [
    "def nettoyer_valeur(valeur):\n",
    "    if pd.isna(valeur) or valeur.strip() == \"\":\n",
    "        return \"unknown\"  # Remplace les valeurs manquantes par \"unknown\"\n",
    "    \n",
    "    # Supprimer le préfixe \"en:\" uniquement pour les catégories\n",
    "    valeur = re.sub(r'^en:', '', valeur)\n",
    "    \n",
    "    # Conserver les caractères latins avec accents et apostrophes\n",
    "    valeur = re.sub(r\"[^a-zA-Zéèêëàâäîïôöùûüç'\\s,]\", '', valeur).strip()\n",
    "    \n",
    "    # Si plusieurs valeurs sont séparées par des virgules, garder la première non \"unknown\"\n",
    "    valeurs_list = [v.strip() for v in valeur.split(',') if v.strip()]\n",
    "    first_valid_value = next((v for v in valeurs_list if v.lower() != \"unknown\"), \"unknown\")\n",
    "    return first_valid_value"
   ]
  },
  {
   "cell_type": "markdown",
   "metadata": {},
   "source": [
    "---\n",
    "\n",
    "### **4. Application de la Fonction de Nettoyage et Création des Nouveaux Fichiers**\n",
    "\n",
    "Nous parcourons chaque fichier CSV dans le répertoire d'entrée, appliquons le nettoyage aux colonnes `categories`, `pnns_groups_1`, et `pnns_groups_2`, et sauvegardons les données nettoyées dans le répertoire de sortie.\n"
   ]
  },
  {
   "cell_type": "code",
   "execution_count": null,
   "metadata": {},
   "outputs": [],
   "source": [
    "# Parcourir les fichiers et appliquer le nettoyage sur les colonnes spécifiées\n",
    "for file_name in os.listdir(input_directory):\n",
    "    file_path = os.path.join(input_directory, file_name)\n",
    "    output_file_path = os.path.join(output_directory, file_name)\n",
    "    \n",
    "    # Charger le fichier avec gestion de l'encodage\n",
    "    try:\n",
    "        df = pd.read_csv(file_path, encoding='utf-8')\n",
    "    except UnicodeDecodeError:\n",
    "        print(f\"Problème d'encodage pour {file_name}, réessayé avec 'ISO-8859-1'.\")\n",
    "        df = pd.read_csv(file_path, encoding='ISO-8859-1', errors='replace')\n",
    "    \n",
    "    # Appliquer la fonction de nettoyage aux colonnes 'categories', 'pnns_groups_1', et 'pnns_groups_2'\n",
    "    for col in ['categories', 'pnns_groups_1', 'pnns_groups_2']:\n",
    "        if col in df.columns:\n",
    "            df[col] = df[col].apply(nettoyer_valeur)\n",
    "    \n",
    "    # Sauvegarder le fichier nettoyé\n",
    "    df.to_csv(output_file_path, index=False)\n",
    "    print(f\"Fichier nettoyé et sauvegardé : {output_file_path}\")"
   ]
  },
  {
   "cell_type": "markdown",
   "metadata": {},
   "source": [
    "---\n",
    "\n",
    "### **5. Explications**\n",
    "\n",
    "- **Suppression des préfixes `en:`** : Nous appliquons cette suppression uniquement à la colonne `categories`.\n",
    "- **Sélection de la première valeur valide** : Seule la première valeur est conservée dans chaque colonne si plusieurs sont présentes, sauf si elle est `unknown`.\n",
    "- **Caractères spéciaux autorisés** : Les accents, apostrophes et espaces sont conservés pour plus de précision dans les noms.\n",
    "- **Remplacement des valeurs non conformes** : Les cellules contenant des caractères non valides ou vides sont remplacées par `\"unknown\"`.\n",
    "\n",
    "--- "
   ]
  }
 ],
 "metadata": {
  "kernelspec": {
   "display_name": ".venv",
   "language": "python",
   "name": "python3"
  },
  "language_info": {
   "codemirror_mode": {
    "name": "ipython",
    "version": 3
   },
   "file_extension": ".py",
   "mimetype": "text/x-python",
   "name": "python",
   "nbconvert_exporter": "python",
   "pygments_lexer": "ipython3",
   "version": "3.12.6"
  }
 },
 "nbformat": 4,
 "nbformat_minor": 2
}
