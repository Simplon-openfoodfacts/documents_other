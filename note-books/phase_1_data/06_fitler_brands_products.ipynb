{
 "cells": [
  {
   "cell_type": "markdown",
   "metadata": {},
   "source": [
    "\n",
    "---\n",
    "\n",
    "# **Phase 6 : Suppression des doublons sur `product_name` et `brands`****\n",
    "\n",
    "---\n",
    "\n",
    "### **1. Importation des bibliothèques**\n",
    "\n",
    "La première section est dédiée à l'importation des bibliothèques nécessaires pour manipuler les fichiers et les données.\n",
    "\n"
   ]
  },
  {
   "cell_type": "markdown",
   "metadata": {},
   "source": [
    "# 1. Importation des bibliothèques\n"
   ]
  },
  {
   "cell_type": "code",
   "execution_count": 4,
   "metadata": {},
   "outputs": [],
   "source": [
    "import os\n",
    "import pandas as pd"
   ]
  },
  {
   "cell_type": "markdown",
   "metadata": {},
   "source": [
    "### **2. Définition de la fonction pour supprimer les doublons**\n",
    "\n",
    "Dans cette étape, nous allons lire les fichiers des chunks, identifier les doublons sur les colonnes **`product_name`** et **`brands`**, et supprimer les lignes redondantes avant de sauvegarder les fichiers nettoyés.\n",
    "\n",
    "# 2. Définition de la fonction pour suppression des doublons sur 'product_name' et 'brands'"
   ]
  },
  {
   "cell_type": "code",
   "execution_count": 5,
   "metadata": {},
   "outputs": [],
   "source": [
    "# 2. Définition de la fonction pour suppression des doublons sur 'product_name' et 'brands'\n",
    "\n",
    "def supprimer_doublons_sur_produits(input_directory, output_directory, chunk_size):\n",
    "    # Création du dossier de sortie s'il n'existe pas\n",
    "    if not os.path.exists(output_directory):\n",
    "        os.makedirs(output_directory)\n",
    "    \n",
    "    # Parcourir les fichiers dans le dossier des chunks\n",
    "    for file_name in os.listdir(input_directory):\n",
    "        input_file_path = os.path.join(input_directory, file_name)\n",
    "        \n",
    "        # Lire le fichier en chunks\n",
    "        chunk_iter = pd.read_csv(input_file_path, sep=',', chunksize=chunk_size, low_memory=False, on_bad_lines=\"skip\")\n",
    "        \n",
    "        for i, chunk in enumerate(chunk_iter):\n",
    "            # Vérifier si les colonnes 'product_name' et 'brands' sont présentes\n",
    "            if 'product_name' in chunk.columns and 'brands' in chunk.columns:\n",
    "                \n",
    "                # Supprimer les doublons sur les colonnes 'product_name' et 'brands'\n",
    "                chunk_cleaned = chunk.drop_duplicates(subset=['product_name', 'brands'], keep='first')\n",
    "                \n",
    "                # Sauvegarde du chunk nettoyé si non vide\n",
    "                if not chunk_cleaned.empty:\n",
    "                    output_file_path = os.path.join(output_directory, f\"{file_name}_no_duplicates_chunk_{i+1}.csv\")\n",
    "                    chunk_cleaned.to_csv(output_file_path, index=False)\n",
    "                    print(f\"Chunk {i+1} de {file_name} nettoyé et sauvegardé dans {output_file_path}.\")\n",
    "                else:\n",
    "                    print(f\"Chunk {i+1} de {file_name} est vide après suppression et est ignoré.\")\n",
    "            else:\n",
    "                print(f\"Chunk {i+1} de {file_name} ne contient pas les colonnes 'product_name' et 'brands'. Il est ignoré.\")\n"
   ]
  },
  {
   "cell_type": "markdown",
   "metadata": {},
   "source": [
    "### **3. Exécution de la fonction avec le dossier `06_chunk_no_duplicates`**\n",
    "\n",
    "# Chemins vers les répertoires de chunks et de sortie"
   ]
  },
  {
   "cell_type": "code",
   "execution_count": 6,
   "metadata": {},
   "outputs": [],
   "source": [
    "\n",
    "input_directory = 'note-books/phase_1_data/05_chunk_nutri_clean'\n",
    "output_directory = 'note-books/phase_1_data/06_chunk_no_duplicates'\n",
    "\n"
   ]
  },
  {
   "cell_type": "markdown",
   "metadata": {},
   "source": [
    "# Taille des chunks\n"
   ]
  },
  {
   "cell_type": "code",
   "execution_count": 7,
   "metadata": {},
   "outputs": [],
   "source": [
    "chunk_size = 10000  # Ajustez cette taille selon votre capacité mémoire"
   ]
  },
  {
   "cell_type": "markdown",
   "metadata": {},
   "source": [
    "# Application de la fonction"
   ]
  },
  {
   "cell_type": "code",
   "execution_count": 8,
   "metadata": {},
   "outputs": [
    {
     "name": "stdout",
     "output_type": "stream",
     "text": [
      "Chunk 1 de chunk_34.csv_filtered_chunk_1.csv_filtered_columns.csv_cleaned_chunk_2.csv nettoyé et sauvegardé dans note-books/phase_1_data/06_chunk_no_duplicates/chunk_34.csv_filtered_chunk_1.csv_filtered_columns.csv_cleaned_chunk_2.csv_no_duplicates_chunk_1.csv.\n",
      "Chunk 1 de chunk_32.csv_filtered_chunk_1.csv_filtered_columns.csv_cleaned_chunk_2.csv ne contient pas les colonnes 'product_name' et 'brands'. Il est ignoré.\n",
      "Chunk 1 de chunk_32.csv_filtered_chunk_1.csv_filtered_columns.csv_cleaned_chunk_3.csv ne contient pas les colonnes 'product_name' et 'brands'. Il est ignoré.\n",
      "Chunk 1 de chunk_34.csv_filtered_chunk_1.csv_filtered_columns.csv_cleaned_chunk_3.csv nettoyé et sauvegardé dans note-books/phase_1_data/06_chunk_no_duplicates/chunk_34.csv_filtered_chunk_1.csv_filtered_columns.csv_cleaned_chunk_3.csv_no_duplicates_chunk_1.csv.\n",
      "Chunk 1 de chunk_4.csv_filtered_chunk_1.csv_filtered_columns.csv_cleaned_chunk_6.csv ne contient pas les colonnes 'product_name' et 'brands'. Il est ignoré.\n",
      "Chunk 1 de chunk_2.csv_filtered_chunk_1.csv_filtered_columns.csv_cleaned_chunk_6.csv ne contient pas les colonnes 'product_name' et 'brands'. Il est ignoré.\n",
      "Chunk 1 de chunk_27.csv_filtered_chunk_1.csv_filtered_columns.csv_cleaned_chunk_4.csv nettoyé et sauvegardé dans note-books/phase_1_data/06_chunk_no_duplicates/chunk_27.csv_filtered_chunk_1.csv_filtered_columns.csv_cleaned_chunk_4.csv_no_duplicates_chunk_1.csv.\n",
      "Chunk 1 de chunk_21.csv_filtered_chunk_1.csv_filtered_columns.csv_cleaned_chunk_4.csv nettoyé et sauvegardé dans note-books/phase_1_data/06_chunk_no_duplicates/chunk_21.csv_filtered_chunk_1.csv_filtered_columns.csv_cleaned_chunk_4.csv_no_duplicates_chunk_1.csv.\n",
      "Chunk 1 de chunk_15.csv_filtered_chunk_1.csv_filtered_columns.csv_cleaned_chunk_1.csv nettoyé et sauvegardé dans note-books/phase_1_data/06_chunk_no_duplicates/chunk_15.csv_filtered_chunk_1.csv_filtered_columns.csv_cleaned_chunk_1.csv_no_duplicates_chunk_1.csv.\n",
      "Chunk 1 de chunk_13.csv_filtered_chunk_1.csv_filtered_columns.csv_cleaned_chunk_1.csv ne contient pas les colonnes 'product_name' et 'brands'. Il est ignoré.\n",
      "Chunk 1 de chunk_19.csv_filtered_chunk_1.csv_filtered_columns.csv_cleaned_chunk_1.csv nettoyé et sauvegardé dans note-books/phase_1_data/06_chunk_no_duplicates/chunk_19.csv_filtered_chunk_1.csv_filtered_columns.csv_cleaned_chunk_1.csv_no_duplicates_chunk_1.csv.\n",
      "Chunk 1 de chunk_19.csv_filtered_chunk_1.csv_filtered_columns.csv_cleaned_chunk_3.csv nettoyé et sauvegardé dans note-books/phase_1_data/06_chunk_no_duplicates/chunk_19.csv_filtered_chunk_1.csv_filtered_columns.csv_cleaned_chunk_3.csv_no_duplicates_chunk_1.csv.\n",
      "Chunk 1 de chunk_13.csv_filtered_chunk_1.csv_filtered_columns.csv_cleaned_chunk_3.csv ne contient pas les colonnes 'product_name' et 'brands'. Il est ignoré.\n",
      "Chunk 1 de chunk_15.csv_filtered_chunk_1.csv_filtered_columns.csv_cleaned_chunk_3.csv nettoyé et sauvegardé dans note-books/phase_1_data/06_chunk_no_duplicates/chunk_15.csv_filtered_chunk_1.csv_filtered_columns.csv_cleaned_chunk_3.csv_no_duplicates_chunk_1.csv.\n",
      "Chunk 1 de chunk_2.csv_filtered_chunk_1.csv_filtered_columns.csv_cleaned_chunk_4.csv ne contient pas les colonnes 'product_name' et 'brands'. Il est ignoré.\n",
      "Chunk 1 de chunk_4.csv_filtered_chunk_1.csv_filtered_columns.csv_cleaned_chunk_4.csv ne contient pas les colonnes 'product_name' et 'brands'. Il est ignoré.\n",
      "Chunk 1 de chunk_34.csv_filtered_chunk_1.csv_filtered_columns.csv_cleaned_chunk_1.csv nettoyé et sauvegardé dans note-books/phase_1_data/06_chunk_no_duplicates/chunk_34.csv_filtered_chunk_1.csv_filtered_columns.csv_cleaned_chunk_1.csv_no_duplicates_chunk_1.csv.\n",
      "Chunk 1 de chunk_32.csv_filtered_chunk_1.csv_filtered_columns.csv_cleaned_chunk_1.csv ne contient pas les colonnes 'product_name' et 'brands'. Il est ignoré.\n",
      "Chunk 1 de chunk_8.csv_filtered_chunk_1.csv_filtered_columns.csv_cleaned_chunk_4.csv ne contient pas les colonnes 'product_name' et 'brands'. Il est ignoré.\n",
      "Chunk 1 de chunk_4.csv_filtered_chunk_1.csv_filtered_columns.csv_cleaned_chunk_5.csv ne contient pas les colonnes 'product_name' et 'brands'. Il est ignoré.\n",
      "Chunk 1 de chunk_2.csv_filtered_chunk_1.csv_filtered_columns.csv_cleaned_chunk_5.csv ne contient pas les colonnes 'product_name' et 'brands'. Il est ignoré.\n",
      "Chunk 1 de chunk_15.csv_filtered_chunk_1.csv_filtered_columns.csv_cleaned_chunk_2.csv nettoyé et sauvegardé dans note-books/phase_1_data/06_chunk_no_duplicates/chunk_15.csv_filtered_chunk_1.csv_filtered_columns.csv_cleaned_chunk_2.csv_no_duplicates_chunk_1.csv.\n",
      "Chunk 1 de chunk_13.csv_filtered_chunk_1.csv_filtered_columns.csv_cleaned_chunk_2.csv ne contient pas les colonnes 'product_name' et 'brands'. Il est ignoré.\n",
      "Chunk 1 de chunk_19.csv_filtered_chunk_1.csv_filtered_columns.csv_cleaned_chunk_2.csv nettoyé et sauvegardé dans note-books/phase_1_data/06_chunk_no_duplicates/chunk_19.csv_filtered_chunk_1.csv_filtered_columns.csv_cleaned_chunk_2.csv_no_duplicates_chunk_1.csv.\n",
      "Chunk 1 de chunk_15.csv_filtered_chunk_1.csv_filtered_columns.csv_cleaned_chunk_6.csv nettoyé et sauvegardé dans note-books/phase_1_data/06_chunk_no_duplicates/chunk_15.csv_filtered_chunk_1.csv_filtered_columns.csv_cleaned_chunk_6.csv_no_duplicates_chunk_1.csv.\n",
      "Chunk 1 de chunk_27.csv_filtered_chunk_1.csv_filtered_columns.csv_cleaned_chunk_3.csv nettoyé et sauvegardé dans note-books/phase_1_data/06_chunk_no_duplicates/chunk_27.csv_filtered_chunk_1.csv_filtered_columns.csv_cleaned_chunk_3.csv_no_duplicates_chunk_1.csv.\n",
      "Chunk 1 de chunk_21.csv_filtered_chunk_1.csv_filtered_columns.csv_cleaned_chunk_3.csv nettoyé et sauvegardé dans note-books/phase_1_data/06_chunk_no_duplicates/chunk_21.csv_filtered_chunk_1.csv_filtered_columns.csv_cleaned_chunk_3.csv_no_duplicates_chunk_1.csv.\n",
      "Chunk 1 de chunk_4.csv_filtered_chunk_1.csv_filtered_columns.csv_cleaned_chunk_1.csv ne contient pas les colonnes 'product_name' et 'brands'. Il est ignoré.\n",
      "Chunk 1 de chunk_2.csv_filtered_chunk_1.csv_filtered_columns.csv_cleaned_chunk_1.csv ne contient pas les colonnes 'product_name' et 'brands'. Il est ignoré.\n",
      "Chunk 1 de chunk_8.csv_filtered_chunk_1.csv_filtered_columns.csv_cleaned_chunk_1.csv ne contient pas les colonnes 'product_name' et 'brands'. Il est ignoré.\n",
      "Chunk 1 de chunk_21.csv_filtered_chunk_1.csv_filtered_columns.csv_cleaned_chunk_2.csv nettoyé et sauvegardé dans note-books/phase_1_data/06_chunk_no_duplicates/chunk_21.csv_filtered_chunk_1.csv_filtered_columns.csv_cleaned_chunk_2.csv_no_duplicates_chunk_1.csv.\n",
      "Chunk 1 de chunk_27.csv_filtered_chunk_1.csv_filtered_columns.csv_cleaned_chunk_2.csv nettoyé et sauvegardé dans note-books/phase_1_data/06_chunk_no_duplicates/chunk_27.csv_filtered_chunk_1.csv_filtered_columns.csv_cleaned_chunk_2.csv_no_duplicates_chunk_1.csv.\n",
      "Chunk 1 de chunk_15.csv_filtered_chunk_1.csv_filtered_columns.csv_cleaned_chunk_5.csv nettoyé et sauvegardé dans note-books/phase_1_data/06_chunk_no_duplicates/chunk_15.csv_filtered_chunk_1.csv_filtered_columns.csv_cleaned_chunk_5.csv_no_duplicates_chunk_1.csv.\n",
      "Chunk 1 de chunk_4.csv_filtered_chunk_1.csv_filtered_columns.csv_cleaned_chunk_2.csv ne contient pas les colonnes 'product_name' et 'brands'. Il est ignoré.\n",
      "Chunk 1 de chunk_2.csv_filtered_chunk_1.csv_filtered_columns.csv_cleaned_chunk_2.csv ne contient pas les colonnes 'product_name' et 'brands'. Il est ignoré.\n",
      "Chunk 1 de chunk_8.csv_filtered_chunk_1.csv_filtered_columns.csv_cleaned_chunk_2.csv ne contient pas les colonnes 'product_name' et 'brands'. Il est ignoré.\n",
      "Chunk 1 de chunk_8.csv_filtered_chunk_1.csv_filtered_columns.csv_cleaned_chunk_3.csv ne contient pas les colonnes 'product_name' et 'brands'. Il est ignoré.\n",
      "Chunk 1 de chunk_2.csv_filtered_chunk_1.csv_filtered_columns.csv_cleaned_chunk_3.csv ne contient pas les colonnes 'product_name' et 'brands'. Il est ignoré.\n",
      "Chunk 1 de chunk_4.csv_filtered_chunk_1.csv_filtered_columns.csv_cleaned_chunk_3.csv ne contient pas les colonnes 'product_name' et 'brands'. Il est ignoré.\n",
      "Chunk 1 de chunk_21.csv_filtered_chunk_1.csv_filtered_columns.csv_cleaned_chunk_1.csv nettoyé et sauvegardé dans note-books/phase_1_data/06_chunk_no_duplicates/chunk_21.csv_filtered_chunk_1.csv_filtered_columns.csv_cleaned_chunk_1.csv_no_duplicates_chunk_1.csv.\n",
      "Chunk 1 de chunk_27.csv_filtered_chunk_1.csv_filtered_columns.csv_cleaned_chunk_1.csv nettoyé et sauvegardé dans note-books/phase_1_data/06_chunk_no_duplicates/chunk_27.csv_filtered_chunk_1.csv_filtered_columns.csv_cleaned_chunk_1.csv_no_duplicates_chunk_1.csv.\n",
      "Chunk 1 de chunk_15.csv_filtered_chunk_1.csv_filtered_columns.csv_cleaned_chunk_4.csv nettoyé et sauvegardé dans note-books/phase_1_data/06_chunk_no_duplicates/chunk_15.csv_filtered_chunk_1.csv_filtered_columns.csv_cleaned_chunk_4.csv_no_duplicates_chunk_1.csv.\n",
      "Chunk 1 de chunk_33.csv_filtered_chunk_1.csv_filtered_columns.csv_cleaned_chunk_3.csv nettoyé et sauvegardé dans note-books/phase_1_data/06_chunk_no_duplicates/chunk_33.csv_filtered_chunk_1.csv_filtered_columns.csv_cleaned_chunk_3.csv_no_duplicates_chunk_1.csv.\n",
      "Chunk 1 de chunk_20.csv_filtered_chunk_1.csv_filtered_columns.csv_cleaned_chunk_4.csv nettoyé et sauvegardé dans note-books/phase_1_data/06_chunk_no_duplicates/chunk_20.csv_filtered_chunk_1.csv_filtered_columns.csv_cleaned_chunk_4.csv_no_duplicates_chunk_1.csv.\n",
      "Chunk 1 de chunk_14.csv_filtered_chunk_1.csv_filtered_columns.csv_cleaned_chunk_1.csv nettoyé et sauvegardé dans note-books/phase_1_data/06_chunk_no_duplicates/chunk_14.csv_filtered_chunk_1.csv_filtered_columns.csv_cleaned_chunk_1.csv_no_duplicates_chunk_1.csv.\n",
      "Chunk 1 de chunk_12.csv_filtered_chunk_1.csv_filtered_columns.csv_cleaned_chunk_1.csv ne contient pas les colonnes 'product_name' et 'brands'. Il est ignoré.\n",
      "Chunk 1 de chunk_18.csv_filtered_chunk_1.csv_filtered_columns.csv_cleaned_chunk_1.csv ne contient pas les colonnes 'product_name' et 'brands'. Il est ignoré.\n",
      "Chunk 1 de chunk_35.csv_filtered_chunk_1.csv_filtered_columns.csv_cleaned_chunk_2.csv nettoyé et sauvegardé dans note-books/phase_1_data/06_chunk_no_duplicates/chunk_35.csv_filtered_chunk_1.csv_filtered_columns.csv_cleaned_chunk_2.csv_no_duplicates_chunk_1.csv.\n",
      "Chunk 1 de chunk_33.csv_filtered_chunk_1.csv_filtered_columns.csv_cleaned_chunk_2.csv nettoyé et sauvegardé dans note-books/phase_1_data/06_chunk_no_duplicates/chunk_33.csv_filtered_chunk_1.csv_filtered_columns.csv_cleaned_chunk_2.csv_no_duplicates_chunk_1.csv.\n",
      "Chunk 1 de chunk_14.csv_filtered_chunk_1.csv_filtered_columns.csv_cleaned_chunk_2.csv nettoyé et sauvegardé dans note-books/phase_1_data/06_chunk_no_duplicates/chunk_14.csv_filtered_chunk_1.csv_filtered_columns.csv_cleaned_chunk_2.csv_no_duplicates_chunk_1.csv.\n",
      "Chunk 1 de chunk_12.csv_filtered_chunk_1.csv_filtered_columns.csv_cleaned_chunk_2.csv ne contient pas les colonnes 'product_name' et 'brands'. Il est ignoré.\n",
      "Chunk 1 de chunk_18.csv_filtered_chunk_1.csv_filtered_columns.csv_cleaned_chunk_2.csv ne contient pas les colonnes 'product_name' et 'brands'. Il est ignoré.\n",
      "Chunk 1 de chunk_18.csv_filtered_chunk_1.csv_filtered_columns.csv_cleaned_chunk_3.csv ne contient pas les colonnes 'product_name' et 'brands'. Il est ignoré.\n",
      "Chunk 1 de chunk_12.csv_filtered_chunk_1.csv_filtered_columns.csv_cleaned_chunk_3.csv ne contient pas les colonnes 'product_name' et 'brands'. Il est ignoré.\n",
      "Chunk 1 de chunk_14.csv_filtered_chunk_1.csv_filtered_columns.csv_cleaned_chunk_3.csv nettoyé et sauvegardé dans note-books/phase_1_data/06_chunk_no_duplicates/chunk_14.csv_filtered_chunk_1.csv_filtered_columns.csv_cleaned_chunk_3.csv_no_duplicates_chunk_1.csv.\n",
      "Chunk 1 de chunk_3.csv_filtered_chunk_1.csv_filtered_columns.csv_cleaned_chunk_4.csv ne contient pas les colonnes 'product_name' et 'brands'. Il est ignoré.\n",
      "Chunk 1 de chunk_5.csv_filtered_chunk_1.csv_filtered_columns.csv_cleaned_chunk_4.csv ne contient pas les colonnes 'product_name' et 'brands'. Il est ignoré.\n",
      "Chunk 1 de chunk_35.csv_filtered_chunk_1.csv_filtered_columns.csv_cleaned_chunk_1.csv nettoyé et sauvegardé dans note-books/phase_1_data/06_chunk_no_duplicates/chunk_35.csv_filtered_chunk_1.csv_filtered_columns.csv_cleaned_chunk_1.csv_no_duplicates_chunk_1.csv.\n",
      "Chunk 1 de chunk_33.csv_filtered_chunk_1.csv_filtered_columns.csv_cleaned_chunk_1.csv nettoyé et sauvegardé dans note-books/phase_1_data/06_chunk_no_duplicates/chunk_33.csv_filtered_chunk_1.csv_filtered_columns.csv_cleaned_chunk_1.csv_no_duplicates_chunk_1.csv.\n",
      "Chunk 1 de chunk_9.csv_filtered_chunk_1.csv_filtered_columns.csv_cleaned_chunk_4.csv ne contient pas les colonnes 'product_name' et 'brands'. Il est ignoré.\n",
      "Chunk 1 de chunk_20.csv_filtered_chunk_1.csv_filtered_columns.csv_cleaned_chunk_2.csv nettoyé et sauvegardé dans note-books/phase_1_data/06_chunk_no_duplicates/chunk_20.csv_filtered_chunk_1.csv_filtered_columns.csv_cleaned_chunk_2.csv_no_duplicates_chunk_1.csv.\n",
      "Chunk 1 de chunk_26.csv_filtered_chunk_1.csv_filtered_columns.csv_cleaned_chunk_2.csv nettoyé et sauvegardé dans note-books/phase_1_data/06_chunk_no_duplicates/chunk_26.csv_filtered_chunk_1.csv_filtered_columns.csv_cleaned_chunk_2.csv_no_duplicates_chunk_1.csv.\n",
      "Chunk 1 de chunk_14.csv_filtered_chunk_1.csv_filtered_columns.csv_cleaned_chunk_6.csv nettoyé et sauvegardé dans note-books/phase_1_data/06_chunk_no_duplicates/chunk_14.csv_filtered_chunk_1.csv_filtered_columns.csv_cleaned_chunk_6.csv_no_duplicates_chunk_1.csv.\n",
      "Chunk 1 de chunk_26.csv_filtered_chunk_1.csv_filtered_columns.csv_cleaned_chunk_3.csv nettoyé et sauvegardé dans note-books/phase_1_data/06_chunk_no_duplicates/chunk_26.csv_filtered_chunk_1.csv_filtered_columns.csv_cleaned_chunk_3.csv_no_duplicates_chunk_1.csv.\n",
      "Chunk 1 de chunk_20.csv_filtered_chunk_1.csv_filtered_columns.csv_cleaned_chunk_3.csv nettoyé et sauvegardé dans note-books/phase_1_data/06_chunk_no_duplicates/chunk_20.csv_filtered_chunk_1.csv_filtered_columns.csv_cleaned_chunk_3.csv_no_duplicates_chunk_1.csv.\n",
      "Chunk 1 de chunk_5.csv_filtered_chunk_1.csv_filtered_columns.csv_cleaned_chunk_1.csv ne contient pas les colonnes 'product_name' et 'brands'. Il est ignoré.\n",
      "Chunk 1 de chunk_3.csv_filtered_chunk_1.csv_filtered_columns.csv_cleaned_chunk_1.csv ne contient pas les colonnes 'product_name' et 'brands'. Il est ignoré.\n",
      "Chunk 1 de chunk_33.csv_filtered_chunk_1.csv_filtered_columns.csv_cleaned_chunk_4.csv nettoyé et sauvegardé dans note-books/phase_1_data/06_chunk_no_duplicates/chunk_33.csv_filtered_chunk_1.csv_filtered_columns.csv_cleaned_chunk_4.csv_no_duplicates_chunk_1.csv.\n",
      "Chunk 1 de chunk_9.csv_filtered_chunk_1.csv_filtered_columns.csv_cleaned_chunk_1.csv ne contient pas les colonnes 'product_name' et 'brands'. Il est ignoré.\n",
      "Chunk 1 de chunk_9.csv_filtered_chunk_1.csv_filtered_columns.csv_cleaned_chunk_3.csv ne contient pas les colonnes 'product_name' et 'brands'. Il est ignoré.\n",
      "Chunk 1 de chunk_3.csv_filtered_chunk_1.csv_filtered_columns.csv_cleaned_chunk_3.csv ne contient pas les colonnes 'product_name' et 'brands'. Il est ignoré.\n",
      "Chunk 1 de chunk_5.csv_filtered_chunk_1.csv_filtered_columns.csv_cleaned_chunk_3.csv ne contient pas les colonnes 'product_name' et 'brands'. Il est ignoré.\n",
      "Chunk 1 de chunk_20.csv_filtered_chunk_1.csv_filtered_columns.csv_cleaned_chunk_1.csv nettoyé et sauvegardé dans note-books/phase_1_data/06_chunk_no_duplicates/chunk_20.csv_filtered_chunk_1.csv_filtered_columns.csv_cleaned_chunk_1.csv_no_duplicates_chunk_1.csv.\n",
      "Chunk 1 de chunk_26.csv_filtered_chunk_1.csv_filtered_columns.csv_cleaned_chunk_1.csv nettoyé et sauvegardé dans note-books/phase_1_data/06_chunk_no_duplicates/chunk_26.csv_filtered_chunk_1.csv_filtered_columns.csv_cleaned_chunk_1.csv_no_duplicates_chunk_1.csv.\n",
      "Chunk 1 de chunk_14.csv_filtered_chunk_1.csv_filtered_columns.csv_cleaned_chunk_4.csv nettoyé et sauvegardé dans note-books/phase_1_data/06_chunk_no_duplicates/chunk_14.csv_filtered_chunk_1.csv_filtered_columns.csv_cleaned_chunk_4.csv_no_duplicates_chunk_1.csv.\n",
      "Chunk 1 de chunk_18.csv_filtered_chunk_1.csv_filtered_columns.csv_cleaned_chunk_4.csv ne contient pas les colonnes 'product_name' et 'brands'. Il est ignoré.\n",
      "Chunk 1 de chunk_14.csv_filtered_chunk_1.csv_filtered_columns.csv_cleaned_chunk_5.csv nettoyé et sauvegardé dans note-books/phase_1_data/06_chunk_no_duplicates/chunk_14.csv_filtered_chunk_1.csv_filtered_columns.csv_cleaned_chunk_5.csv_no_duplicates_chunk_1.csv.\n",
      "Chunk 1 de chunk_5.csv_filtered_chunk_1.csv_filtered_columns.csv_cleaned_chunk_2.csv ne contient pas les colonnes 'product_name' et 'brands'. Il est ignoré.\n",
      "Chunk 1 de chunk_3.csv_filtered_chunk_1.csv_filtered_columns.csv_cleaned_chunk_2.csv ne contient pas les colonnes 'product_name' et 'brands'. Il est ignoré.\n",
      "Chunk 1 de chunk_9.csv_filtered_chunk_1.csv_filtered_columns.csv_cleaned_chunk_2.csv ne contient pas les colonnes 'product_name' et 'brands'. Il est ignoré.\n",
      "Chunk 1 de chunk_17.csv_filtered_chunk_1.csv_filtered_columns.csv_cleaned_chunk_3.csv nettoyé et sauvegardé dans note-books/phase_1_data/06_chunk_no_duplicates/chunk_17.csv_filtered_chunk_1.csv_filtered_columns.csv_cleaned_chunk_3.csv_no_duplicates_chunk_1.csv.\n",
      "Chunk 1 de chunk_11.csv_filtered_chunk_1.csv_filtered_columns.csv_cleaned_chunk_3.csv nettoyé et sauvegardé dans note-books/phase_1_data/06_chunk_no_duplicates/chunk_11.csv_filtered_chunk_1.csv_filtered_columns.csv_cleaned_chunk_3.csv_no_duplicates_chunk_1.csv.\n",
      "Chunk 1 de chunk_30.csv_filtered_chunk_1.csv_filtered_columns.csv_cleaned_chunk_1.csv nettoyé et sauvegardé dans note-books/phase_1_data/06_chunk_no_duplicates/chunk_30.csv_filtered_chunk_1.csv_filtered_columns.csv_cleaned_chunk_1.csv_no_duplicates_chunk_1.csv.\n",
      "Chunk 1 de chunk_11.csv_filtered_chunk_1.csv_filtered_columns.csv_cleaned_chunk_2.csv nettoyé et sauvegardé dans note-books/phase_1_data/06_chunk_no_duplicates/chunk_11.csv_filtered_chunk_1.csv_filtered_columns.csv_cleaned_chunk_2.csv_no_duplicates_chunk_1.csv.\n",
      "Chunk 1 de chunk_17.csv_filtered_chunk_1.csv_filtered_columns.csv_cleaned_chunk_2.csv nettoyé et sauvegardé dans note-books/phase_1_data/06_chunk_no_duplicates/chunk_17.csv_filtered_chunk_1.csv_filtered_columns.csv_cleaned_chunk_2.csv_no_duplicates_chunk_1.csv.\n",
      "Chunk 1 de chunk_29.csv_filtered_chunk_1.csv_filtered_columns.csv_cleaned_chunk_5.csv nettoyé et sauvegardé dans note-books/phase_1_data/06_chunk_no_duplicates/chunk_29.csv_filtered_chunk_1.csv_filtered_columns.csv_cleaned_chunk_5.csv_no_duplicates_chunk_1.csv.\n",
      "Chunk 1 de chunk_30.csv_filtered_chunk_1.csv_filtered_columns.csv_cleaned_chunk_2.csv nettoyé et sauvegardé dans note-books/phase_1_data/06_chunk_no_duplicates/chunk_30.csv_filtered_chunk_1.csv_filtered_columns.csv_cleaned_chunk_2.csv_no_duplicates_chunk_1.csv.\n",
      "Chunk 1 de chunk_30.csv_filtered_chunk_1.csv_filtered_columns.csv_cleaned_chunk_3.csv nettoyé et sauvegardé dans note-books/phase_1_data/06_chunk_no_duplicates/chunk_30.csv_filtered_chunk_1.csv_filtered_columns.csv_cleaned_chunk_3.csv_no_duplicates_chunk_1.csv.\n",
      "Chunk 1 de chunk_29.csv_filtered_chunk_1.csv_filtered_columns.csv_cleaned_chunk_4.csv nettoyé et sauvegardé dans note-books/phase_1_data/06_chunk_no_duplicates/chunk_29.csv_filtered_chunk_1.csv_filtered_columns.csv_cleaned_chunk_4.csv_no_duplicates_chunk_1.csv.\n",
      "Chunk 1 de chunk_11.csv_filtered_chunk_1.csv_filtered_columns.csv_cleaned_chunk_1.csv nettoyé et sauvegardé dans note-books/phase_1_data/06_chunk_no_duplicates/chunk_11.csv_filtered_chunk_1.csv_filtered_columns.csv_cleaned_chunk_1.csv_no_duplicates_chunk_1.csv.\n",
      "Chunk 1 de chunk_17.csv_filtered_chunk_1.csv_filtered_columns.csv_cleaned_chunk_1.csv nettoyé et sauvegardé dans note-books/phase_1_data/06_chunk_no_duplicates/chunk_17.csv_filtered_chunk_1.csv_filtered_columns.csv_cleaned_chunk_1.csv_no_duplicates_chunk_1.csv.\n",
      "Chunk 1 de chunk_17.csv_filtered_chunk_1.csv_filtered_columns.csv_cleaned_chunk_5.csv nettoyé et sauvegardé dans note-books/phase_1_data/06_chunk_no_duplicates/chunk_17.csv_filtered_chunk_1.csv_filtered_columns.csv_cleaned_chunk_5.csv_no_duplicates_chunk_1.csv.\n",
      "Chunk 1 de chunk_6.csv_filtered_chunk_1.csv_filtered_columns.csv_cleaned_chunk_2.csv ne contient pas les colonnes 'product_name' et 'brands'. Il est ignoré.\n",
      "Chunk 1 de chunk_25.csv_filtered_chunk_1.csv_filtered_columns.csv_cleaned_chunk_1.csv nettoyé et sauvegardé dans note-books/phase_1_data/06_chunk_no_duplicates/chunk_25.csv_filtered_chunk_1.csv_filtered_columns.csv_cleaned_chunk_1.csv_no_duplicates_chunk_1.csv.\n",
      "Chunk 1 de chunk_23.csv_filtered_chunk_1.csv_filtered_columns.csv_cleaned_chunk_1.csv nettoyé et sauvegardé dans note-books/phase_1_data/06_chunk_no_duplicates/chunk_23.csv_filtered_chunk_1.csv_filtered_columns.csv_cleaned_chunk_1.csv_no_duplicates_chunk_1.csv.\n",
      "Chunk 1 de chunk_29.csv_filtered_chunk_1.csv_filtered_columns.csv_cleaned_chunk_1.csv nettoyé et sauvegardé dans note-books/phase_1_data/06_chunk_no_duplicates/chunk_29.csv_filtered_chunk_1.csv_filtered_columns.csv_cleaned_chunk_1.csv_no_duplicates_chunk_1.csv.\n",
      "Chunk 1 de chunk_17.csv_filtered_chunk_1.csv_filtered_columns.csv_cleaned_chunk_4.csv nettoyé et sauvegardé dans note-books/phase_1_data/06_chunk_no_duplicates/chunk_17.csv_filtered_chunk_1.csv_filtered_columns.csv_cleaned_chunk_4.csv_no_duplicates_chunk_1.csv.\n",
      "Chunk 1 de chunk_29.csv_filtered_chunk_1.csv_filtered_columns.csv_cleaned_chunk_3.csv nettoyé et sauvegardé dans note-books/phase_1_data/06_chunk_no_duplicates/chunk_29.csv_filtered_chunk_1.csv_filtered_columns.csv_cleaned_chunk_3.csv_no_duplicates_chunk_1.csv.\n",
      "Chunk 1 de chunk_23.csv_filtered_chunk_1.csv_filtered_columns.csv_cleaned_chunk_3.csv nettoyé et sauvegardé dans note-books/phase_1_data/06_chunk_no_duplicates/chunk_23.csv_filtered_chunk_1.csv_filtered_columns.csv_cleaned_chunk_3.csv_no_duplicates_chunk_1.csv.\n",
      "Chunk 1 de chunk_25.csv_filtered_chunk_1.csv_filtered_columns.csv_cleaned_chunk_3.csv nettoyé et sauvegardé dans note-books/phase_1_data/06_chunk_no_duplicates/chunk_25.csv_filtered_chunk_1.csv_filtered_columns.csv_cleaned_chunk_3.csv_no_duplicates_chunk_1.csv.\n",
      "Chunk 1 de chunk_6.csv_filtered_chunk_1.csv_filtered_columns.csv_cleaned_chunk_1.csv ne contient pas les colonnes 'product_name' et 'brands'. Il est ignoré.\n",
      "Chunk 1 de chunk_25.csv_filtered_chunk_1.csv_filtered_columns.csv_cleaned_chunk_2.csv nettoyé et sauvegardé dans note-books/phase_1_data/06_chunk_no_duplicates/chunk_25.csv_filtered_chunk_1.csv_filtered_columns.csv_cleaned_chunk_2.csv_no_duplicates_chunk_1.csv.\n",
      "Chunk 1 de chunk_23.csv_filtered_chunk_1.csv_filtered_columns.csv_cleaned_chunk_2.csv nettoyé et sauvegardé dans note-books/phase_1_data/06_chunk_no_duplicates/chunk_23.csv_filtered_chunk_1.csv_filtered_columns.csv_cleaned_chunk_2.csv_no_duplicates_chunk_1.csv.\n",
      "Chunk 1 de chunk_29.csv_filtered_chunk_1.csv_filtered_columns.csv_cleaned_chunk_2.csv nettoyé et sauvegardé dans note-books/phase_1_data/06_chunk_no_duplicates/chunk_29.csv_filtered_chunk_1.csv_filtered_columns.csv_cleaned_chunk_2.csv_no_duplicates_chunk_1.csv.\n",
      "Chunk 1 de chunk_1.csv_filtered_chunk_1.csv_filtered_columns.csv_cleaned_chunk_5.csv ne contient pas les colonnes 'product_name' et 'brands'. Il est ignoré.\n",
      "Chunk 1 de chunk_10.csv_filtered_chunk_1.csv_filtered_columns.csv_cleaned_chunk_2.csv ne contient pas les colonnes 'product_name' et 'brands'. Il est ignoré.\n",
      "Chunk 1 de chunk_16.csv_filtered_chunk_1.csv_filtered_columns.csv_cleaned_chunk_2.csv nettoyé et sauvegardé dans note-books/phase_1_data/06_chunk_no_duplicates/chunk_16.csv_filtered_chunk_1.csv_filtered_columns.csv_cleaned_chunk_2.csv_no_duplicates_chunk_1.csv.\n",
      "Chunk 1 de chunk_16.csv_filtered_chunk_1.csv_filtered_columns.csv_cleaned_chunk_3.csv nettoyé et sauvegardé dans note-books/phase_1_data/06_chunk_no_duplicates/chunk_16.csv_filtered_chunk_1.csv_filtered_columns.csv_cleaned_chunk_3.csv_no_duplicates_chunk_1.csv.\n",
      "Chunk 1 de chunk_10.csv_filtered_chunk_1.csv_filtered_columns.csv_cleaned_chunk_3.csv ne contient pas les colonnes 'product_name' et 'brands'. Il est ignoré.\n",
      "Chunk 1 de chunk_1.csv_filtered_chunk_1.csv_filtered_columns.csv_cleaned_chunk_4.csv ne contient pas les colonnes 'product_name' et 'brands'. Il est ignoré.\n",
      "Chunk 1 de chunk_31.csv_filtered_chunk_1.csv_filtered_columns.csv_cleaned_chunk_1.csv nettoyé et sauvegardé dans note-books/phase_1_data/06_chunk_no_duplicates/chunk_31.csv_filtered_chunk_1.csv_filtered_columns.csv_cleaned_chunk_1.csv_no_duplicates_chunk_1.csv.\n",
      "Chunk 1 de chunk_31.csv_filtered_chunk_1.csv_filtered_columns.csv_cleaned_chunk_3.csv nettoyé et sauvegardé dans note-books/phase_1_data/06_chunk_no_duplicates/chunk_31.csv_filtered_chunk_1.csv_filtered_columns.csv_cleaned_chunk_3.csv_no_duplicates_chunk_1.csv.\n",
      "Chunk 1 de chunk_24.csv_filtered_chunk_1.csv_filtered_columns.csv_cleaned_chunk_4.csv nettoyé et sauvegardé dans note-books/phase_1_data/06_chunk_no_duplicates/chunk_24.csv_filtered_chunk_1.csv_filtered_columns.csv_cleaned_chunk_4.csv_no_duplicates_chunk_1.csv.\n",
      "Chunk 1 de chunk_10.csv_filtered_chunk_1.csv_filtered_columns.csv_cleaned_chunk_1.csv ne contient pas les colonnes 'product_name' et 'brands'. Il est ignoré.\n",
      "Chunk 1 de chunk_16.csv_filtered_chunk_1.csv_filtered_columns.csv_cleaned_chunk_1.csv nettoyé et sauvegardé dans note-books/phase_1_data/06_chunk_no_duplicates/chunk_16.csv_filtered_chunk_1.csv_filtered_columns.csv_cleaned_chunk_1.csv_no_duplicates_chunk_1.csv.\n",
      "Chunk 1 de chunk_31.csv_filtered_chunk_1.csv_filtered_columns.csv_cleaned_chunk_2.csv nettoyé et sauvegardé dans note-books/phase_1_data/06_chunk_no_duplicates/chunk_31.csv_filtered_chunk_1.csv_filtered_columns.csv_cleaned_chunk_2.csv_no_duplicates_chunk_1.csv.\n",
      "Chunk 1 de chunk_7.csv_filtered_chunk_1.csv_filtered_columns.csv_cleaned_chunk_3.csv ne contient pas les colonnes 'product_name' et 'brands'. Il est ignoré.\n",
      "Chunk 1 de chunk_1.csv_filtered_chunk_1.csv_filtered_columns.csv_cleaned_chunk_3.csv ne contient pas les colonnes 'product_name' et 'brands'. Il est ignoré.\n",
      "Chunk 1 de chunk_24.csv_filtered_chunk_1.csv_filtered_columns.csv_cleaned_chunk_1.csv nettoyé et sauvegardé dans note-books/phase_1_data/06_chunk_no_duplicates/chunk_24.csv_filtered_chunk_1.csv_filtered_columns.csv_cleaned_chunk_1.csv_no_duplicates_chunk_1.csv.\n",
      "Chunk 1 de chunk_22.csv_filtered_chunk_1.csv_filtered_columns.csv_cleaned_chunk_1.csv nettoyé et sauvegardé dans note-books/phase_1_data/06_chunk_no_duplicates/chunk_22.csv_filtered_chunk_1.csv_filtered_columns.csv_cleaned_chunk_1.csv_no_duplicates_chunk_1.csv.\n",
      "Chunk 1 de chunk_28.csv_filtered_chunk_1.csv_filtered_columns.csv_cleaned_chunk_1.csv nettoyé et sauvegardé dans note-books/phase_1_data/06_chunk_no_duplicates/chunk_28.csv_filtered_chunk_1.csv_filtered_columns.csv_cleaned_chunk_1.csv_no_duplicates_chunk_1.csv.\n",
      "Chunk 1 de chunk_16.csv_filtered_chunk_1.csv_filtered_columns.csv_cleaned_chunk_4.csv nettoyé et sauvegardé dans note-books/phase_1_data/06_chunk_no_duplicates/chunk_16.csv_filtered_chunk_1.csv_filtered_columns.csv_cleaned_chunk_4.csv_no_duplicates_chunk_1.csv.\n",
      "Chunk 1 de chunk_16.csv_filtered_chunk_1.csv_filtered_columns.csv_cleaned_chunk_5.csv nettoyé et sauvegardé dans note-books/phase_1_data/06_chunk_no_duplicates/chunk_16.csv_filtered_chunk_1.csv_filtered_columns.csv_cleaned_chunk_5.csv_no_duplicates_chunk_1.csv.\n",
      "Chunk 1 de chunk_1.csv_filtered_chunk_1.csv_filtered_columns.csv_cleaned_chunk_2.csv ne contient pas les colonnes 'product_name' et 'brands'. Il est ignoré.\n",
      "Chunk 1 de chunk_7.csv_filtered_chunk_1.csv_filtered_columns.csv_cleaned_chunk_2.csv ne contient pas les colonnes 'product_name' et 'brands'. Il est ignoré.\n",
      "Chunk 1 de chunk_24.csv_filtered_chunk_1.csv_filtered_columns.csv_cleaned_chunk_2.csv nettoyé et sauvegardé dans note-books/phase_1_data/06_chunk_no_duplicates/chunk_24.csv_filtered_chunk_1.csv_filtered_columns.csv_cleaned_chunk_2.csv_no_duplicates_chunk_1.csv.\n",
      "Chunk 1 de chunk_22.csv_filtered_chunk_1.csv_filtered_columns.csv_cleaned_chunk_2.csv nettoyé et sauvegardé dans note-books/phase_1_data/06_chunk_no_duplicates/chunk_22.csv_filtered_chunk_1.csv_filtered_columns.csv_cleaned_chunk_2.csv_no_duplicates_chunk_1.csv.\n",
      "Chunk 1 de chunk_28.csv_filtered_chunk_1.csv_filtered_columns.csv_cleaned_chunk_2.csv nettoyé et sauvegardé dans note-books/phase_1_data/06_chunk_no_duplicates/chunk_28.csv_filtered_chunk_1.csv_filtered_columns.csv_cleaned_chunk_2.csv_no_duplicates_chunk_1.csv.\n",
      "Chunk 1 de chunk_28.csv_filtered_chunk_1.csv_filtered_columns.csv_cleaned_chunk_3.csv nettoyé et sauvegardé dans note-books/phase_1_data/06_chunk_no_duplicates/chunk_28.csv_filtered_chunk_1.csv_filtered_columns.csv_cleaned_chunk_3.csv_no_duplicates_chunk_1.csv.\n",
      "Chunk 1 de chunk_22.csv_filtered_chunk_1.csv_filtered_columns.csv_cleaned_chunk_3.csv nettoyé et sauvegardé dans note-books/phase_1_data/06_chunk_no_duplicates/chunk_22.csv_filtered_chunk_1.csv_filtered_columns.csv_cleaned_chunk_3.csv_no_duplicates_chunk_1.csv.\n",
      "Chunk 1 de chunk_24.csv_filtered_chunk_1.csv_filtered_columns.csv_cleaned_chunk_3.csv nettoyé et sauvegardé dans note-books/phase_1_data/06_chunk_no_duplicates/chunk_24.csv_filtered_chunk_1.csv_filtered_columns.csv_cleaned_chunk_3.csv_no_duplicates_chunk_1.csv.\n",
      "Chunk 1 de chunk_1.csv_filtered_chunk_1.csv_filtered_columns.csv_cleaned_chunk_1.csv ne contient pas les colonnes 'product_name' et 'brands'. Il est ignoré.\n",
      "Chunk 1 de chunk_7.csv_filtered_chunk_1.csv_filtered_columns.csv_cleaned_chunk_1.csv ne contient pas les colonnes 'product_name' et 'brands'. Il est ignoré.\n",
      "Chunk 1 de chunk_31.csv_filtered_chunk_1.csv_filtered_columns.csv_cleaned_chunk_4.csv nettoyé et sauvegardé dans note-books/phase_1_data/06_chunk_no_duplicates/chunk_31.csv_filtered_chunk_1.csv_filtered_columns.csv_cleaned_chunk_4.csv_no_duplicates_chunk_1.csv.\n"
     ]
    }
   ],
   "source": [
    "supprimer_doublons_sur_produits(input_directory, output_directory, chunk_size)"
   ]
  },
  {
   "cell_type": "markdown",
   "metadata": {},
   "source": [
    "### **Explication :**\n",
    "\n",
    "- **`drop_duplicates()`** : Supprime les doublons dans les colonnes **`product_name`** et **`brands`**, tout en conservant la première occurrence de chaque combinaison unique.\n",
    "- **Conditions de suppression** : Les doublons ne sont supprimés que si **`product_name`** et **`brands`** sont identiques sur la même ligne. Si l'une des deux colonnes a une valeur différente, la ligne n'est pas considérée comme un doublon.\n",
    "\n",
    "---\n"
   ]
  }
 ],
 "metadata": {
  "kernelspec": {
   "display_name": ".venv",
   "language": "python",
   "name": "python3"
  },
  "language_info": {
   "codemirror_mode": {
    "name": "ipython",
    "version": 3
   },
   "file_extension": ".py",
   "mimetype": "text/x-python",
   "name": "python",
   "nbconvert_exporter": "python",
   "pygments_lexer": "ipython3",
   "version": "3.12.6"
  }
 },
 "nbformat": 4,
 "nbformat_minor": 2
}
