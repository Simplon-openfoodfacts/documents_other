{
 "cells": [
  {
   "cell_type": "markdown",
   "metadata": {},
   "source": [
    "---\n",
    "\n",
    "# **Notebook 16 : Vérification des Valeurs Manquantes dans les Données**\n",
    "\n",
    "---\n",
    "\n",
    "### **1. Importation des Bibliothèques**\n",
    "\n",
    "Nous commençons par importer les bibliothèques nécessaires pour la manipulation des données."
   ]
  },
  {
   "cell_type": "code",
   "execution_count": 13,
   "metadata": {},
   "outputs": [],
   "source": [
    "import os\n",
    "import pandas as pd"
   ]
  },
  {
   "cell_type": "markdown",
   "metadata": {},
   "source": [
    "### **2. Chargement des Données**\n",
    "\n",
    "Nous allons charger les données depuis le dossier `14_categorized_data` où sont stockés les fichiers nettoyés."
   ]
  },
  {
   "cell_type": "code",
   "execution_count": 14,
   "metadata": {},
   "outputs": [
    {
     "name": "stdout",
     "output_type": "stream",
     "text": [
      ".DS_Store ignoré car ce n'est pas un fichier CSV.\n",
      "Chargement des données terminé.\n"
     ]
    }
   ],
   "source": [
    "# Définir le répertoire d'entrée\n",
    "input_directory = 'note-books/phase_1_data/14_categorized_data'\n",
    "\n",
    "# Initialiser un DataFrame pour stocker toutes les données combinées\n",
    "full_data = pd.DataFrame()\n",
    "\n",
    "# Parcourir chaque fichier dans le dossier et les charger dans full_data\n",
    "for file_name in os.listdir(input_directory):\n",
    "    file_path = os.path.join(input_directory, file_name)\n",
    "    \n",
    "    if file_name.endswith('.csv'):  # Vérifier si le fichier est bien un CSV\n",
    "        try:\n",
    "            df = pd.read_csv(file_path, encoding='ISO-8859-1')\n",
    "        except UnicodeDecodeError:\n",
    "            print(f\"Problème d'encodage pour {file_name}, tentative avec 'utf-8'.\")\n",
    "            df = pd.read_csv(file_path, encoding='utf-8', errors='replace')\n",
    "        \n",
    "        # Ajouter les données au DataFrame complet\n",
    "        full_data = pd.concat([full_data, df], ignore_index=True)\n",
    "    else:\n",
    "        print(f\"{file_name} ignoré car ce n'est pas un fichier CSV.\")\n",
    "\n",
    "# Vérifier si full_data contient des données\n",
    "if full_data.empty:\n",
    "    print(\"Erreur : Aucun fichier de données n'a été chargé.\")\n",
    "else:\n",
    "    print(\"Chargement des données terminé.\")\n"
   ]
  },
  {
   "cell_type": "markdown",
   "metadata": {},
   "source": [
    "### **3. Aperçu Statistique des Données**\n",
    "\n",
    "Pour obtenir un aperçu statistique des données et vérifier les valeurs manquantes, nous utiliserons `df.describe()` et `df.isnull().sum()`."
   ]
  },
  {
   "cell_type": "code",
   "execution_count": 15,
   "metadata": {},
   "outputs": [],
   "source": [
    "# Calcul des statistiques descriptives générales avec toutes les colonnes\n",
    "stats = full_data.describe(include='all').to_string()\n",
    "\n",
    "# Calcul des valeurs manquantes par colonne\n",
    "missing_values = full_data.isnull().sum()\n",
    "missing_percentage = (missing_values / len(full_data)) * 100\n",
    "missing_info = pd.DataFrame({\n",
    "    'Valeurs manquantes': missing_values,\n",
    "    'Pourcentage manquant (%)': missing_percentage\n",
    "}).to_string()\n"
   ]
  },
  {
   "cell_type": "markdown",
   "metadata": {},
   "source": [
    "### **4. Export des Résultats en Fichiers Texte**\n",
    "\n",
    "Nous enregistrons les résultats dans le dossier 16_data_summary."
   ]
  },
  {
   "cell_type": "code",
   "execution_count": 16,
   "metadata": {},
   "outputs": [
    {
     "name": "stdout",
     "output_type": "stream",
     "text": [
      "Statistiques descriptives exportées vers note-books/phase_1_data/16_data_summary/statistiques_descriptives.txt\n",
      "Informations de valeurs manquantes exportées vers note-books/phase_1_data/16_data_summary/valeurs_manquantes.txt\n"
     ]
    }
   ],
   "source": [
    "# Définir le répertoire de sortie et créer le dossier\n",
    "output_directory = 'note-books/phase_1_data/16_data_summary'\n",
    "os.makedirs(output_directory, exist_ok=True)\n",
    "\n",
    "# Exporter les statistiques descriptives en fichier texte\n",
    "stats_path = os.path.join(output_directory, 'statistiques_descriptives.txt')\n",
    "with open(stats_path, 'w') as f:\n",
    "    f.write(\"Statistiques Descriptives\\n\\n\")\n",
    "    f.write(stats)\n",
    "print(f\"Statistiques descriptives exportées vers {stats_path}\")\n",
    "\n",
    "# Exporter les informations de valeurs manquantes en fichier texte\n",
    "missing_info_path = os.path.join(output_directory, 'valeurs_manquantes.txt')\n",
    "with open(missing_info_path, 'w') as f:\n",
    "    f.write(\"Informations de Valeurs Manquantes\\n\\n\")\n",
    "    f.write(missing_info)\n",
    "print(f\"Informations de valeurs manquantes exportées vers {missing_info_path}\")\n"
   ]
  },
  {
   "cell_type": "markdown",
   "metadata": {},
   "source": [
    "---\n",
    "\n",
    "### **Explications**\n",
    "\n",
    "- **Statistiques Descriptives** : La commande `describe()` donne un aperçu des valeurs principales pour chaque colonne numérique (ou toutes les colonnes avec `include='all'`), comme la moyenne, l'écart-type, etc.\n",
    "- **Valeurs Manquantes** : La commande `isnull().sum()` permet de visualiser le nombre de valeurs manquantes par colonne, facilitant l’identification des colonnes nécessitant un traitement.\n",
    "\n",
    "---"
   ]
  }
 ],
 "metadata": {
  "kernelspec": {
   "display_name": ".venv",
   "language": "python",
   "name": "python3"
  },
  "language_info": {
   "codemirror_mode": {
    "name": "ipython",
    "version": 3
   },
   "file_extension": ".py",
   "mimetype": "text/x-python",
   "name": "python",
   "nbconvert_exporter": "python",
   "pygments_lexer": "ipython3",
   "version": "3.12.6"
  }
 },
 "nbformat": 4,
 "nbformat_minor": 2
}
