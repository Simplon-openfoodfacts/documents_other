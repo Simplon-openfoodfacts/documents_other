{
 "cells": [
  {
   "cell_type": "markdown",
   "metadata": {},
   "source": [
    "---\n",
    "\n",
    "# **Notebook 18: Analyse des Valeurs Aberrantes et Nettoyage des Données pour la Modélisation**\n",
    "\n",
    "---\n",
    "\n",
    "### **1. Importation des Bibliothèques**\n",
    "\n",
    "Nous importons les bibliothèques nécessaires pour la manipulation des données et la création de graphiques."
   ]
  },
  {
   "cell_type": "code",
   "execution_count": null,
   "metadata": {},
   "outputs": [],
   "source": [
    "import os\n",
    "import pandas as pd\n",
    "import numpy as np\n",
    "import matplotlib.pyplot as plt\n",
    "import seaborn as sns"
   ]
  },
  {
   "cell_type": "markdown",
   "metadata": {},
   "source": [
    "---\n",
    "\n",
    "### **2. Définition des Répertoires d'Entrée et de Sortie**\n",
    "\n",
    "Nous définissons les répertoires contenant les fichiers de données à traiter et celui où les fichiers nettoyés et les graphiques seront sauvegardés."
   ]
  },
  {
   "cell_type": "code",
   "execution_count": null,
   "metadata": {},
   "outputs": [],
   "source": [
    "# Répertoires d'entrée et de sortie\n",
    "input_directory = 'note-books/phase_1_data/17_cleaned_data'\n",
    "output_directory = 'note-books/phase_1_data/18_cleaned_for_modeling'\n",
    "output_graphs_directory = 'note-books/phase_1_data/18_graphs'\n",
    "os.makedirs(output_directory, exist_ok=True)\n",
    "os.makedirs(output_graphs_directory, exist_ok=True)"
   ]
  },
  {
   "cell_type": "code",
   "execution_count": null,
   "metadata": {},
   "outputs": [],
   "source": [
    "---\n",
    "\n",
    "### **3. Fonction de Détection et de Suppression des Valeurs Extrêmes**\n",
    "\n",
    "Cette fonction identifie les valeurs aberrantes en fonction de l'écart interquartile (IQR) et les remplace par `NaN`."
   ]
  },
  {
   "cell_type": "code",
   "execution_count": null,
   "metadata": {},
   "outputs": [],
   "source": [
    "def nettoyer_outliers(df, column):\n",
    "    \"\"\"\n",
    "    Remplace les valeurs extrêmes dans une colonne donnée en utilisant la méthode IQR.\n",
    "    \"\"\"\n",
    "    Q1 = df[column].quantile(0.25)\n",
    "    Q3 = df[column].quantile(0.75)\n",
    "    IQR = Q3 - Q1\n",
    "    lower_bound = Q1 - 1.5 * IQR\n",
    "    upper_bound = Q3 + 1.5 * IQR\n",
    "    df[column] = np.where((df[column] < lower_bound) | (df[column] > upper_bound), np.nan, df[column])"
   ]
  },
  {
   "cell_type": "markdown",
   "metadata": {},
   "source": [
    "---\n",
    "\n",
    "### **4. Chargement, Visualisation et Nettoyage des Fichiers**\n",
    "\n",
    "Pour chaque fichier dans le dossier d’entrée :\n",
    "1. Charger les données et filtrer les colonnes numériques.\n",
    "2. Générer un graphique de boîte pour la distribution des données avant nettoyage.\n",
    "3. Appliquer la fonction de nettoyage des valeurs extrêmes.\n",
    "4. Générer un graphique de boîte après nettoyage.\n",
    "5. Enregistrer le fichier nettoyé."
   ]
  },
  {
   "cell_type": "code",
   "execution_count": null,
   "metadata": {},
   "outputs": [],
   "source": [
    "# Liste pour stocker les statistiques des valeurs min et max\n",
    "outliers_data = []\n",
    "\n",
    "for file_name in os.listdir(input_directory):\n",
    "    file_path = os.path.join(input_directory, file_name)\n",
    "    \n",
    "    # Vérifier si le fichier est vide\n",
    "    if os.path.getsize(file_path) == 0:\n",
    "        print(f\"{file_name} est vide et sera ignoré.\")\n",
    "        continue\n",
    "    \n",
    "    # Charger le fichier\n",
    "    try:\n",
    "        df = pd.read_csv(file_path)\n",
    "        if df.empty:\n",
    "            print(f\"{file_name} ne contient aucune donnée. Ignoré.\")\n",
    "            continue\n",
    "    except pd.errors.EmptyDataError:\n",
    "        print(f\"{file_name} est vide et sera ignoré.\")\n",
    "        continue\n",
    "\n",
    "    # Sélectionner uniquement les colonnes numériques\n",
    "    numeric_df = df.select_dtypes(include=[np.number])\n",
    "    \n",
    "    # Calculer les valeurs min et max pour les statistiques\n",
    "    stats = numeric_df.describe().T[['min', 'max']]\n",
    "    stats['column'] = stats.index\n",
    "    stats['file'] = file_name\n",
    "    outliers_data.append(stats)\n",
    "    \n",
    "    # Générer le graphique de boîte avant nettoyage\n",
    "    plt.figure(figsize=(10, 6))\n",
    "    sns.boxplot(data=numeric_df, palette=\"Set3\")\n",
    "    plt.title(f'Distribution avant nettoyage - {file_name}')\n",
    "    plt.xticks(rotation=45)\n",
    "    plt.tight_layout()\n",
    "    pre_clean_graph_path = os.path.join(output_graphs_directory, f\"{file_name}_before_cleaning.png\")\n",
    "    plt.savefig(pre_clean_graph_path)\n",
    "    plt.close()\n",
    "    print(f\"Graphique avant nettoyage sauvegardé : {pre_clean_graph_path}\")\n",
    "    \n",
    "    # Appliquer le nettoyage des valeurs extrêmes\n",
    "    for col in numeric_df.columns:\n",
    "        nettoyer_outliers(df, col)\n",
    "    \n",
    "    # Générer le graphique de boîte après nettoyage\n",
    "    plt.figure(figsize=(10, 6))\n",
    "    sns.boxplot(data=df.select_dtypes(include=[np.number]), palette=\"Set2\")\n",
    "    plt.title(f'Distribution après nettoyage - {file_name}')\n",
    "    plt.xticks(rotation=45)\n",
    "    plt.tight_layout()\n",
    "    post_clean_graph_path = os.path.join(output_graphs_directory, f\"{file_name}_after_cleaning.png\")\n",
    "    plt.savefig(post_clean_graph_path)\n",
    "    plt.close()\n",
    "    print(f\"Graphique après nettoyage sauvegardé : {post_clean_graph_path}\")\n",
    "    \n",
    "    # Sauvegarder le fichier nettoyé\n",
    "    output_file_path = os.path.join(output_directory, file_name)\n",
    "    df.to_csv(output_file_path, index=False)\n",
    "    print(f\"Fichier nettoyé et sauvegardé : {output_file_path}\")\n",
    "\n",
    "# Fusionner les données de statistiques et enregistrer en fichier texte\n",
    "if outliers_data:\n",
    "    all_outliers = pd.concat(outliers_data, ignore_index=True)\n",
    "    output_stats_path = os.path.join(output_directory, 'outliers_summary.txt')\n",
    "    with open(output_stats_path, 'w') as f:\n",
    "        f.write(\"Valeurs min et max par colonne et par fichier\\n\\n\")\n",
    "        f.write(all_outliers.to_string(index=False))\n",
    "    print(f\"Résumé des valeurs extrêmes sauvegardé dans {output_stats_path}\")\n",
    "else:\n",
    "    print(\"Aucune donnée numérique trouvée dans les fichiers traités.\")"
   ]
  },
  {
   "cell_type": "markdown",
   "metadata": {},
   "source": [
    "---\n",
    "\n",
    "### **5. Explications**\n",
    "\n",
    "- **Visualisation avant et après nettoyage** : Les graphiques permettent de visualiser les valeurs extrêmes avant et après leur traitement pour vérifier leur suppression.\n",
    "- **Méthode de nettoyage des valeurs extrêmes** : La méthode IQR identifie les valeurs aberrantes, qui sont ensuite remplacées par `NaN`.\n",
    "- **Organisation structurée** : Les fichiers nettoyés et les graphiques sont sauvegardés pour une analyse détaillée.\n",
    "\n",
    "---"
   ]
  }
 ],
 "metadata": {
  "kernelspec": {
   "display_name": ".venv",
   "language": "python",
   "name": "python3"
  },
  "language_info": {
   "codemirror_mode": {
    "name": "ipython",
    "version": 3
   },
   "file_extension": ".py",
   "mimetype": "text/x-python",
   "name": "python",
   "nbconvert_exporter": "python",
   "pygments_lexer": "ipython3",
   "version": "3.12.6"
  }
 },
 "nbformat": 4,
 "nbformat_minor": 2
}
