{
 "cells": [
  {
   "cell_type": "markdown",
   "metadata": {},
   "source": [
    "---\n",
    "\n",
    "# **Notebook 11 : Visualisation du Nombre de Produits par Pays**\n",
    "\n",
    "---\n",
    "\n",
    "### **1. Importation des Bibliothèques**\n",
    "\n",
    "La première section est dédiée à l'importation des bibliothèques nécessaires pour la manipulation des données et la visualisation.\n"
   ]
  },
  {
   "cell_type": "code",
   "execution_count": 6,
   "metadata": {},
   "outputs": [],
   "source": [
    "import os\n",
    "import pandas as pd\n",
    "import matplotlib.pyplot as plt\n",
    "import seaborn as sns"
   ]
  },
  {
   "cell_type": "markdown",
   "metadata": {},
   "source": [
    "---\n",
    "\n",
    "### **2. Chargement et Agrégation des Données**\n",
    "\n",
    "Dans cette section, nous chargeons les fichiers CSV depuis le répertoire `09_translated_countries`, nous comptons le nombre de produits par pays, et nous créons un DataFrame agrégé."
   ]
  },
  {
   "cell_type": "code",
   "execution_count": 7,
   "metadata": {},
   "outputs": [],
   "source": [
    "# Définir le répertoire contenant les fichiers de pays traduits\n",
    "input_directory = 'note-books/phase_1_data/09_translated_countries'\n",
    "\n",
    "# Initialiser un dictionnaire pour stocker le comptage de produits par pays\n",
    "produits_par_pays = {}\n",
    "\n",
    "# Parcourir les fichiers CSV dans le répertoire\n",
    "for file_name in os.listdir(input_directory):\n",
    "    file_path = os.path.join(input_directory, file_name)\n",
    "    \n",
    "    # Charger le CSV\n",
    "    df = pd.read_csv(file_path)\n",
    "    \n",
    "# Comptage du nombre de produits par pays\n",
    "for pays in df['countries_translated']:\n",
    "    if isinstance(pays, str):  # Vérifie si 'pays' est une chaîne de caractères\n",
    "        pays_list = pays.split(', ')  # Si plusieurs pays sont listés dans une cellule, les séparer\n",
    "        for p in pays_list:\n",
    "            if p:\n",
    "                produits_par_pays[p] = produits_par_pays.get(p, 0) + 1\n",
    "\n",
    "# Convertir en DataFrame et trier\n",
    "pays_df = pd.DataFrame(list(produits_par_pays.items()), columns=['Pays', 'Nombre de produits'])\n",
    "pays_df = pays_df.sort_values(by='Nombre de produits', ascending=True)"
   ]
  },
  {
   "cell_type": "markdown",
   "metadata": {},
   "source": [
    "---\n",
    "\n",
    "### **3. Création du Graphique**\n",
    "\n",
    "Dans cette section, nous générons un graphique en barres montrant le nombre de produits par pays, avec les pays sur l'axe Y et le nombre de produits sur l'axe X."
   ]
  },
  {
   "cell_type": "code",
   "execution_count": null,
   "metadata": {},
   "outputs": [],
   "source": [
    "# Paramètres de taille du graphique\n",
    "plt.figure(figsize=(10, 20))  # Adapter la taille pour que tous les pays soient visibles\n",
    "\n",
    "# Création du graphique\n",
    "sns.barplot(x='Nombre de produits', y='Pays', data=pays_df, palette='viridis')\n",
    "plt.title('Nombre de Produits par Pays')\n",
    "plt.xlabel('Nombre de produits')\n",
    "plt.ylabel('Pays')\n",
    "\n",
    "# Affichage et sauvegarde du graphique\n",
    "output_graph_path = 'note-books/phase_1_data/graphique/produits_par_pays.png'\n",
    "plt.tight_layout()\n",
    "plt.savefig(output_graph_path)\n",
    "plt.show()\n",
    "\n",
    "print(f\"Graphique sauvegardé dans {output_graph_path}.\")"
   ]
  },
  {
   "cell_type": "markdown",
   "metadata": {},
   "source": [
    "\n",
    "```\n",
    "\n",
    "---\n",
    "\n",
    "### **Explications**\n",
    "\n",
    "- **Chargement des données** : Nous avons agrégé les données de tous les fichiers CSV pour obtenir un comptage total par pays.\n",
    "- **Graphique ordonné** : Les pays sont affichés par ordre croissant en fonction du nombre de produits, facilitant la comparaison visuelle.\n",
    "- **Sauvegarde du graphique** : Le graphique est enregistré pour une utilisation ultérieure.\n",
    "\n",
    "---\n",
    "\n"
   ]
  }
 ],
 "metadata": {
  "kernelspec": {
   "display_name": ".venv",
   "language": "python",
   "name": "python3"
  },
  "language_info": {
   "codemirror_mode": {
    "name": "ipython",
    "version": 3
   },
   "file_extension": ".py",
   "mimetype": "text/x-python",
   "name": "python",
   "nbconvert_exporter": "python",
   "pygments_lexer": "ipython3",
   "version": "3.12.6"
  }
 },
 "nbformat": 4,
 "nbformat_minor": 2
}
