{
 "cells": [
  {
   "cell_type": "markdown",
   "metadata": {},
   "source": [
    "---\n",
    "\n",
    "# **Notebook : Visualisation des Produits par Année de Création et de Modifications**\n",
    "\n",
    "---\n",
    "\n",
    "## **Phase 4 : Création de Graphiques**\n",
    "\n",
    "---\n",
    "\n",
    "### **1. Importation des bibliothèques**\n",
    "\n",
    "Dans cette section, nous importons les bibliothèques nécessaires pour manipuler les données et créer les graphiques.\n",
    "\n",
    "\n"
   ]
  },
  {
   "cell_type": "markdown",
   "metadata": {},
   "source": [
    "# 1. Importation des bibliothèques\n"
   ]
  },
  {
   "cell_type": "code",
   "execution_count": 1,
   "metadata": {},
   "outputs": [],
   "source": [
    "import os\n",
    "import pandas as pd\n",
    "import matplotlib.pyplot as plt"
   ]
  },
  {
   "cell_type": "markdown",
   "metadata": {},
   "source": [
    "### **2.Définition de la Fonction de Visualisation**\n",
    "\n",
    "Cette fonction va lire chaque chunk, extraire les années de création et de modification, puis créer et sauvegarder les graphiques.\n"
   ]
  },
  {
   "cell_type": "code",
   "execution_count": 2,
   "metadata": {},
   "outputs": [],
   "source": [
    "def creer_graphiques_annees(input_directory, output_directory):\n",
    "    # Créer le dossier de sortie pour les graphiques s'il n'existe pas\n",
    "    if not os.path.exists(output_directory):\n",
    "        os.makedirs(output_directory)\n",
    "    \n",
    "    # Listes pour stocker les années de création et de modification\n",
    "    annees_creation = []\n",
    "    annees_modification = []\n",
    "    \n",
    "    # Parcourir les fichiers dans le dossier des chunks filtrés par complétude\n",
    "    for file_name in os.listdir(input_directory):\n",
    "        input_file_path = os.path.join(input_directory, file_name)\n",
    "        \n",
    "        # Lire chaque fichier chunk\n",
    "        try:\n",
    "            chunk = pd.read_csv(input_file_path, sep=',', low_memory=False)\n",
    "            \n",
    "            # Extraire les années de création et de modification\n",
    "            if 'created_datetime' in chunk.columns:\n",
    "                annees_creation.extend(pd.to_datetime(chunk['created_datetime'], errors='coerce').dt.year.dropna().astype(int))\n",
    "            if 'last_modified_datetime' in chunk.columns:\n",
    "                annees_modification.extend(pd.to_datetime(chunk['last_modified_datetime'], errors='coerce').dt.year.dropna().astype(int))\n",
    "        \n",
    "        except Exception as e:\n",
    "            print(f\"Erreur lors du traitement de {file_name}: {e}\")\n",
    "    \n",
    "    # Création des graphiques\n",
    "    # 2a. Graphique des produits par année de création\n",
    "    plt.figure(figsize=(10, 6))\n",
    "    pd.Series(annees_creation).value_counts().sort_index().plot(kind='bar')\n",
    "    plt.title(\"Distribution des Produits par Année de Création\")\n",
    "    plt.xlabel(\"Année de Création\")\n",
    "    plt.ylabel(\"Nombre de Produits\")\n",
    "    plt.xticks(rotation=45)\n",
    "    plt.tight_layout()\n",
    "    plt.savefig(os.path.join(output_directory, 'produits_par_annee_creation.png'))\n",
    "    plt.close()\n",
    "    \n",
    "    # 2b. Graphique des produits par année de dernière modification\n",
    "    plt.figure(figsize=(10, 6))\n",
    "    pd.Series(annees_modification).value_counts().sort_index().plot(kind='bar')\n",
    "    plt.title(\"Distribution des Produits par Année de Dernière Modification\")\n",
    "    plt.xlabel(\"Année de Dernière Modification\")\n",
    "    plt.ylabel(\"Nombre de Produits\")\n",
    "    plt.xticks(rotation=45)\n",
    "    plt.tight_layout()\n",
    "    plt.savefig(os.path.join(output_directory, 'produits_par_annee_modification.png'))\n",
    "    plt.close()\n",
    "    \n",
    "    print(\"Les graphiques ont été sauvegardés dans le dossier :\", output_directory)"
   ]
  },
  {
   "cell_type": "markdown",
   "metadata": {},
   "source": [
    "### **3. Application de la Fonction avec le Dossier `graphique`**\n",
    "\n",
    "Nous appliquons la fonction aux fichiers dans le dossier **`04_chunk_filtered_columns`** et sauvegardons les graphiques dans **`note-books/phase_1_data/graphique`**.\n",
    "\n",
    "# Chemins des répertoires d'entrée et de sortie"
   ]
  },
  {
   "cell_type": "code",
   "execution_count": 3,
   "metadata": {},
   "outputs": [],
   "source": [
    "input_directory = 'note-books/phase_1_data/04_chunk_filtered_columns'\n",
    "output_directory = 'note-books/phase_1_data/graphique'"
   ]
  },
  {
   "cell_type": "markdown",
   "metadata": {},
   "source": [
    "# Exécution de la fonction pour créer et sauvegarder les graphiques"
   ]
  },
  {
   "cell_type": "code",
   "execution_count": 4,
   "metadata": {},
   "outputs": [
    {
     "name": "stdout",
     "output_type": "stream",
     "text": [
      "Les graphiques ont été sauvegardés dans le dossier : note-books/phase_1_data/graphique\n"
     ]
    }
   ],
   "source": [
    "creer_graphiques_annees(input_directory, output_directory)"
   ]
  },
  {
   "cell_type": "markdown",
   "metadata": {},
   "source": [
    "---\n",
    "\n",
    "### **Explication :**\n",
    "\n",
    "- **`pd.to_datetime()`** : Cette méthode convertit les colonnes de dates en format datetime, permettant d'extraire les années.\n",
    "- **`value_counts()` et `sort_index()`** : Ces méthodes comptent et trient les années pour chaque graphique.\n",
    "- **`plt.savefig()`** : Chaque graphique est sauvegardé au format PNG dans le dossier spécifié.\n",
    "\n",
    "---\n",
    "\n",
    "Après avoir exécuté ce code, vous trouverez deux graphiques dans **`note-books/phase_1_data/graphique`** :\n",
    "- `produits_par_annee_creation.png`\n",
    "- `produits_par_annee_modification.png` \n",
    "\n",
    "Ces graphiques illustreront la répartition des produits par année de création et de modification."
   ]
  }
 ],
 "metadata": {
  "kernelspec": {
   "display_name": ".venv",
   "language": "python",
   "name": "python3"
  },
  "language_info": {
   "codemirror_mode": {
    "name": "ipython",
    "version": 3
   },
   "file_extension": ".py",
   "mimetype": "text/x-python",
   "name": "python",
   "nbconvert_exporter": "python",
   "pygments_lexer": "ipython3",
   "version": "3.12.6"
  }
 },
 "nbformat": 4,
 "nbformat_minor": 2
}
