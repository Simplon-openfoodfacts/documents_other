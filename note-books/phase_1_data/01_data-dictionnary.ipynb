{
 "cells": [
  {
   "cell_type": "markdown",
   "metadata": {},
   "source": [
    "---\n",
    "\n",
    "# **Création d'un data dictionnary**\n",
    "\n",
    "---\n",
    "\n",
    "L'idée est de pouvoir ici accéder aux catégories du fichier CSV volumineux\n",
    "\n",
    "## **1. Importation des bibliothèques**\n",
    "\n",
    "Cette première section importe toutes les bibliothèques nécessaires pour la manipulation des données, les graphiques et la création de nuages de mots. Ces bibliothèques sont utilisées tout au long du notebook."
   ]
  },
  {
   "cell_type": "code",
   "execution_count": 17,
   "metadata": {},
   "outputs": [],
   "source": [
    "import pandas as pd"
   ]
  },
  {
   "cell_type": "markdown",
   "metadata": {},
   "source": [
    "# Chemin du fichier CSV volumineux"
   ]
  },
  {
   "cell_type": "code",
   "execution_count": 18,
   "metadata": {},
   "outputs": [],
   "source": [
    "\n",
    "csv_file_path = 'note-books/phase_1_data/en.openfoodfacts.org.products.csv'"
   ]
  },
  {
   "cell_type": "markdown",
   "metadata": {},
   "source": [
    "# Chemin du fichier de sortie avec uniquement les colonnes"
   ]
  },
  {
   "cell_type": "code",
   "execution_count": 19,
   "metadata": {},
   "outputs": [],
   "source": [
    "output_csv_file = 'note-books/phase_1_data/01_data-dictionnary/colonnes_exclusives.csv'"
   ]
  },
  {
   "cell_type": "markdown",
   "metadata": {},
   "source": [
    "# Lire seulement les noms de colonnes du fichier d'origine"
   ]
  },
  {
   "cell_type": "code",
   "execution_count": 20,
   "metadata": {},
   "outputs": [],
   "source": [
    "df = pd.read_csv(csv_file_path, sep='\\t', nrows=0)"
   ]
  },
  {
   "cell_type": "markdown",
   "metadata": {},
   "source": [
    "# Extraire les noms des colonnes"
   ]
  },
  {
   "cell_type": "code",
   "execution_count": 21,
   "metadata": {},
   "outputs": [],
   "source": [
    "colonnes = pd.DataFrame(df.columns)"
   ]
  },
  {
   "cell_type": "markdown",
   "metadata": {},
   "source": [
    "# Sauvegarder ces colonnes dans un nouveau fichier CSV"
   ]
  },
  {
   "cell_type": "code",
   "execution_count": 22,
   "metadata": {},
   "outputs": [
    {
     "name": "stdout",
     "output_type": "stream",
     "text": [
      "Les noms de colonnes ont été sauvegardés dans note-books/phase_1_data/01_data-dictionnary/colonnes_exclusives.csv\n"
     ]
    }
   ],
   "source": [
    "colonnes.to_csv(output_csv_file, header=False, index=False)\n",
    "\n",
    "print(f\"Les noms de colonnes ont été sauvegardés dans {output_csv_file}\")\n"
   ]
  },
  {
   "cell_type": "markdown",
   "metadata": {},
   "source": []
  }
 ],
 "metadata": {
  "kernelspec": {
   "display_name": ".venv",
   "language": "python",
   "name": "python3"
  },
  "language_info": {
   "codemirror_mode": {
    "name": "ipython",
    "version": 3
   },
   "file_extension": ".py",
   "mimetype": "text/x-python",
   "name": "python",
   "nbconvert_exporter": "python",
   "pygments_lexer": "ipython3",
   "version": "3.12.6"
  }
 },
 "nbformat": 4,
 "nbformat_minor": 2
}
