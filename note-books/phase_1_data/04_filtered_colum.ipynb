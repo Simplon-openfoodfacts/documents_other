{
 "cells": [
  {
   "cell_type": "markdown",
   "metadata": {},
   "source": [
    "---\n",
    "\n",
    "# **Notebook : Analyse et Nettoyage de Données Open Food Facts avec Chunks**\n",
    "\n",
    "---\n",
    "\n",
    "\n",
    "# **Phase 3 : Suppression des Colonnes avec Moins de 61% de Données**\n",
    "\n",
    "---\n",
    "\n",
    "### **1. Importation des bibliothèques**\n",
    "\n",
    "La première section est dédiée à l'importation des bibliothèques nécessaires pour manipuler les fichiers et les données.\n",
    "\n"
   ]
  },
  {
   "cell_type": "markdown",
   "metadata": {},
   "source": [
    "# 1. Importation des bibliothèques\n"
   ]
  },
  {
   "cell_type": "code",
   "execution_count": 1,
   "metadata": {},
   "outputs": [],
   "source": [
    "import os\n",
    "import pandas as pd"
   ]
  },
  {
   "cell_type": "markdown",
   "metadata": {},
   "source": [
    "### **2. Définition de la Fonction de Filtrage des Colonnes**\n",
    "\n",
    "Cette fonction va lire chaque chunk, évaluer la complétude des colonnes, supprimer celles qui ont moins de 61% de valeurs non manquantes, puis sauvegarder les fichiers nettoyés dans un nouveau dossier **`04_chunk_filtered_columns`**.\n"
   ]
  },
  {
   "cell_type": "code",
   "execution_count": 2,
   "metadata": {},
   "outputs": [],
   "source": [
    "def filtrer_colonnes_par_completude(input_directory, output_directory, seuil=0.61):\n",
    "    # Vérifier l'existence du dossier de sortie\n",
    "    if not os.path.exists(output_directory):\n",
    "        os.makedirs(output_directory)"
   ]
  },
  {
   "cell_type": "markdown",
   "metadata": {},
   "source": [
    "# 2. Définition de la fonction de filtrage des colonnes"
   ]
  },
  {
   "cell_type": "code",
   "execution_count": 3,
   "metadata": {},
   "outputs": [],
   "source": [
    "def filtrer_colonnes_par_completude(input_directory, output_directory, seuil=0.75):\n",
    "    # Vérifier l'existence du dossier de sortie\n",
    "    if not os.path.exists(output_directory):\n",
    "        os.makedirs(output_directory)\n",
    "    \n",
    "    # Parcourir les fichiers dans le dossier des chunks filtrés\n",
    "    for file_name in os.listdir(input_directory):\n",
    "        input_file_path = os.path.join(input_directory, file_name)\n",
    "        \n",
    "        # Lire chaque fichier chunk\n",
    "        try:\n",
    "            chunk = pd.read_csv(input_file_path, sep=',', low_memory=False)\n",
    "            \n",
    "            # Calculer le pourcentage de données non manquantes\n",
    "            completude_colonnes = chunk.notna().mean()\n",
    "            \n",
    "            # Garder uniquement les colonnes ayant une complétude supérieure ou égale au seuil\n",
    "            colonnes_a_conserver = completude_colonnes[completude_colonnes >= seuil].index\n",
    "            chunk_filtre = chunk[colonnes_a_conserver]\n",
    "            \n",
    "            # Sauvegarder le chunk filtré dans le répertoire de sortie\n",
    "            output_file_path = os.path.join(output_directory, f\"{file_name}_filtered_columns.csv\")\n",
    "            chunk_filtre.to_csv(output_file_path, index=False)\n",
    "            print(f\"Fichier {file_name} traité et sauvegardé dans {output_file_path}.\")\n",
    "        \n",
    "        except Exception as e:\n",
    "            print(f\"Erreur lors du traitement de {file_name}: {e}\")"
   ]
  },
  {
   "cell_type": "markdown",
   "metadata": {},
   "source": [
    "### **3. Application de la Fonction avec le Dossier `04_chunk_filtered_columns`**\n",
    "\n",
    "Dans cette section, nous appliquons la fonction de filtrage aux chunks présents dans **`03_chunk_nutri`** et sauvegardons les fichiers nettoyés dans **`04_chunk_filtered_columns`**.\n"
   ]
  },
  {
   "cell_type": "markdown",
   "metadata": {},
   "source": [
    "# Chemins des répertoires d'entrée et de sortie"
   ]
  },
  {
   "cell_type": "code",
   "execution_count": 4,
   "metadata": {},
   "outputs": [],
   "source": [
    "\n",
    "\n",
    "input_directory = 'note-books/phase_1_data/03_chunk_nutri'\n",
    "output_directory = 'note-books/phase_1_data/04_chunk_filtered_columns'"
   ]
  },
  {
   "cell_type": "markdown",
   "metadata": {},
   "source": [
    "# Exécution de la fonction pour filtrer les colonnes par complétude\n"
   ]
  },
  {
   "cell_type": "code",
   "execution_count": 5,
   "metadata": {},
   "outputs": [
    {
     "name": "stdout",
     "output_type": "stream",
     "text": [
      "Fichier chunk_8.csv_filtered_chunk_1.csv traité et sauvegardé dans note-books/phase_1_data/04_chunk_filtered_columns/chunk_8.csv_filtered_chunk_1.csv_filtered_columns.csv.\n",
      "Fichier chunk_31.csv_filtered_chunk_1.csv traité et sauvegardé dans note-books/phase_1_data/04_chunk_filtered_columns/chunk_31.csv_filtered_chunk_1.csv_filtered_columns.csv.\n",
      "Fichier chunk_4.csv_filtered_chunk_1.csv traité et sauvegardé dans note-books/phase_1_data/04_chunk_filtered_columns/chunk_4.csv_filtered_chunk_1.csv_filtered_columns.csv.\n",
      "Fichier chunk_35.csv_filtered_chunk_1.csv traité et sauvegardé dans note-books/phase_1_data/04_chunk_filtered_columns/chunk_35.csv_filtered_chunk_1.csv_filtered_columns.csv.\n",
      "Fichier chunk_18.csv_filtered_chunk_1.csv traité et sauvegardé dans note-books/phase_1_data/04_chunk_filtered_columns/chunk_18.csv_filtered_chunk_1.csv_filtered_columns.csv.\n",
      "Fichier chunk_14.csv_filtered_chunk_1.csv traité et sauvegardé dans note-books/phase_1_data/04_chunk_filtered_columns/chunk_14.csv_filtered_chunk_1.csv_filtered_columns.csv.\n",
      "Fichier chunk_23.csv_filtered_chunk_1.csv traité et sauvegardé dans note-books/phase_1_data/04_chunk_filtered_columns/chunk_23.csv_filtered_chunk_1.csv_filtered_columns.csv.\n",
      "Fichier chunk_27.csv_filtered_chunk_1.csv traité et sauvegardé dans note-books/phase_1_data/04_chunk_filtered_columns/chunk_27.csv_filtered_chunk_1.csv_filtered_columns.csv.\n",
      "Fichier chunk_10.csv_filtered_chunk_1.csv traité et sauvegardé dans note-books/phase_1_data/04_chunk_filtered_columns/chunk_10.csv_filtered_chunk_1.csv_filtered_columns.csv.\n",
      "Fichier chunk_19.csv_filtered_chunk_1.csv traité et sauvegardé dans note-books/phase_1_data/04_chunk_filtered_columns/chunk_19.csv_filtered_chunk_1.csv_filtered_columns.csv.\n",
      "Fichier chunk_26.csv_filtered_chunk_1.csv traité et sauvegardé dans note-books/phase_1_data/04_chunk_filtered_columns/chunk_26.csv_filtered_chunk_1.csv_filtered_columns.csv.\n",
      "Fichier chunk_11.csv_filtered_chunk_1.csv traité et sauvegardé dans note-books/phase_1_data/04_chunk_filtered_columns/chunk_11.csv_filtered_chunk_1.csv_filtered_columns.csv.\n",
      "Fichier chunk_15.csv_filtered_chunk_1.csv traité et sauvegardé dans note-books/phase_1_data/04_chunk_filtered_columns/chunk_15.csv_filtered_chunk_1.csv_filtered_columns.csv.\n",
      "Fichier chunk_22.csv_filtered_chunk_1.csv traité et sauvegardé dans note-books/phase_1_data/04_chunk_filtered_columns/chunk_22.csv_filtered_chunk_1.csv_filtered_columns.csv.\n",
      "Fichier chunk_9.csv_filtered_chunk_1.csv traité et sauvegardé dans note-books/phase_1_data/04_chunk_filtered_columns/chunk_9.csv_filtered_chunk_1.csv_filtered_columns.csv.\n",
      "Fichier chunk_34.csv_filtered_chunk_1.csv traité et sauvegardé dans note-books/phase_1_data/04_chunk_filtered_columns/chunk_34.csv_filtered_chunk_1.csv_filtered_columns.csv.\n",
      "Fichier chunk_5.csv_filtered_chunk_1.csv traité et sauvegardé dans note-books/phase_1_data/04_chunk_filtered_columns/chunk_5.csv_filtered_chunk_1.csv_filtered_columns.csv.\n",
      "Fichier chunk_30.csv_filtered_chunk_1.csv traité et sauvegardé dans note-books/phase_1_data/04_chunk_filtered_columns/chunk_30.csv_filtered_chunk_1.csv_filtered_columns.csv.\n",
      "Fichier chunk_1.csv_filtered_chunk_1.csv traité et sauvegardé dans note-books/phase_1_data/04_chunk_filtered_columns/chunk_1.csv_filtered_chunk_1.csv_filtered_columns.csv.\n",
      "Fichier chunk_17.csv_filtered_chunk_1.csv traité et sauvegardé dans note-books/phase_1_data/04_chunk_filtered_columns/chunk_17.csv_filtered_chunk_1.csv_filtered_columns.csv.\n",
      "Fichier chunk_20.csv_filtered_chunk_1.csv traité et sauvegardé dans note-books/phase_1_data/04_chunk_filtered_columns/chunk_20.csv_filtered_chunk_1.csv_filtered_columns.csv.\n",
      "Fichier chunk_24.csv_filtered_chunk_1.csv traité et sauvegardé dans note-books/phase_1_data/04_chunk_filtered_columns/chunk_24.csv_filtered_chunk_1.csv_filtered_columns.csv.\n",
      "Fichier chunk_13.csv_filtered_chunk_1.csv traité et sauvegardé dans note-books/phase_1_data/04_chunk_filtered_columns/chunk_13.csv_filtered_chunk_1.csv_filtered_columns.csv.\n",
      "Fichier chunk_28.csv_filtered_chunk_1.csv traité et sauvegardé dans note-books/phase_1_data/04_chunk_filtered_columns/chunk_28.csv_filtered_chunk_1.csv_filtered_columns.csv.\n",
      "Fichier chunk_32.csv_filtered_chunk_1.csv traité et sauvegardé dans note-books/phase_1_data/04_chunk_filtered_columns/chunk_32.csv_filtered_chunk_1.csv_filtered_columns.csv.\n",
      "Fichier chunk_3.csv_filtered_chunk_1.csv traité et sauvegardé dans note-books/phase_1_data/04_chunk_filtered_columns/chunk_3.csv_filtered_chunk_1.csv_filtered_columns.csv.\n",
      "Fichier chunk_7.csv_filtered_chunk_1.csv traité et sauvegardé dans note-books/phase_1_data/04_chunk_filtered_columns/chunk_7.csv_filtered_chunk_1.csv_filtered_columns.csv.\n",
      "Fichier chunk_6.csv_filtered_chunk_1.csv traité et sauvegardé dans note-books/phase_1_data/04_chunk_filtered_columns/chunk_6.csv_filtered_chunk_1.csv_filtered_columns.csv.\n",
      "Fichier chunk_2.csv_filtered_chunk_1.csv traité et sauvegardé dans note-books/phase_1_data/04_chunk_filtered_columns/chunk_2.csv_filtered_chunk_1.csv_filtered_columns.csv.\n",
      "Fichier chunk_33.csv_filtered_chunk_1.csv traité et sauvegardé dans note-books/phase_1_data/04_chunk_filtered_columns/chunk_33.csv_filtered_chunk_1.csv_filtered_columns.csv.\n",
      "Fichier chunk_25.csv_filtered_chunk_1.csv traité et sauvegardé dans note-books/phase_1_data/04_chunk_filtered_columns/chunk_25.csv_filtered_chunk_1.csv_filtered_columns.csv.\n",
      "Fichier chunk_12.csv_filtered_chunk_1.csv traité et sauvegardé dans note-books/phase_1_data/04_chunk_filtered_columns/chunk_12.csv_filtered_chunk_1.csv_filtered_columns.csv.\n",
      "Fichier chunk_16.csv_filtered_chunk_1.csv traité et sauvegardé dans note-books/phase_1_data/04_chunk_filtered_columns/chunk_16.csv_filtered_chunk_1.csv_filtered_columns.csv.\n",
      "Fichier chunk_21.csv_filtered_chunk_1.csv traité et sauvegardé dans note-books/phase_1_data/04_chunk_filtered_columns/chunk_21.csv_filtered_chunk_1.csv_filtered_columns.csv.\n",
      "Fichier chunk_29.csv_filtered_chunk_1.csv traité et sauvegardé dans note-books/phase_1_data/04_chunk_filtered_columns/chunk_29.csv_filtered_chunk_1.csv_filtered_columns.csv.\n"
     ]
    }
   ],
   "source": [
    "filtrer_colonnes_par_completude(input_directory, output_directory, seuil=0.75)"
   ]
  },
  {
   "cell_type": "markdown",
   "metadata": {},
   "source": [
    "### **Explication :**\n",
    "\n",
    "- **`seuil=0.75`** : Ce paramètre indique que seules les colonnes ayant au moins 75% de valeurs non manquantes seront conservées.\n",
    "- **`chunk.notna().mean()`** : Cette opération calcule le pourcentage de valeurs non manquantes pour chaque colonne.\n",
    "- **`colonnes_a_conserver`** : Cette variable stocke les noms des colonnes à conserver, celles ayant une complétude supérieure ou égale au seuil défini.\n",
    "\n",
    "---\n",
    "\n",
    "Après avoir exécuté ce code, les chunks dans le dossier **`04_chunk_filtered_columns`** contiendront uniquement les colonnes ayant au moins 75% de données."
   ]
  }
 ],
 "metadata": {
  "kernelspec": {
   "display_name": ".venv",
   "language": "python",
   "name": "python3"
  },
  "language_info": {
   "codemirror_mode": {
    "name": "ipython",
    "version": 3
   },
   "file_extension": ".py",
   "mimetype": "text/x-python",
   "name": "python",
   "nbconvert_exporter": "python",
   "pygments_lexer": "ipython3",
   "version": "3.12.6"
  }
 },
 "nbformat": 4,
 "nbformat_minor": 2
}
