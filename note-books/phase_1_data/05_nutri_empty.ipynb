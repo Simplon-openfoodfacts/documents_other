{
 "cells": [
  {
   "cell_type": "markdown",
   "metadata": {},
   "source": [
    "---\n",
    "\n",
    "# **Notebook : Suppression des lignes sans données de nutriments***\n",
    "\n",
    "---\n",
    "\n",
    "\n",
    "# **Phase 5 : Suppression des lignes de nutriments vides**\n",
    "\n",
    "---\n",
    "\n",
    "### **1. Importation des bibliothèques**\n",
    "\n",
    "La première section est dédiée à l'importation des bibliothèques nécessaires pour manipuler les fichiers et les données.\n",
    "\n"
   ]
  },
  {
   "cell_type": "markdown",
   "metadata": {},
   "source": [
    "# 1. Importation des bibliothèques\n"
   ]
  },
  {
   "cell_type": "code",
   "execution_count": 1,
   "metadata": {},
   "outputs": [],
   "source": [
    "import os\n",
    "import pandas as pd"
   ]
  },
  {
   "cell_type": "markdown",
   "metadata": {},
   "source": [
    "---\n",
    "\n",
    "### **2. Définition de la fonction pour supprimer les lignes sans données de nutriments**\n",
    "\n",
    "Cette fonction lit chaque chunk de données, vérifie les colonnes de nutriments (`energy_100g`, `fat_100g`, `carbohydrates_100g`, `proteins_100g`), et supprime les lignes qui sont entièrement vides pour ces colonnes.\n",
    "\n",
    "\n",
    "# 2. Définition de la fonction de suppression des lignes sans nutriments"
   ]
  },
  {
   "cell_type": "code",
   "execution_count": 2,
   "metadata": {},
   "outputs": [],
   "source": [
    "def supprimer_lignes_sans_nutriments(input_directory, output_directory, nutriment_columns, chunk_size):\n",
    "    # Création du dossier de sortie si inexistant\n",
    "    if not os.path.exists(output_directory):\n",
    "        os.makedirs(output_directory)\n",
    "    \n",
    "    # Parcourir les fichiers dans le dossier des chunks\n",
    "    for file_name in os.listdir(input_directory):\n",
    "        input_file_path = os.path.join(input_directory, file_name)\n",
    "        \n",
    "        # Lire le fichier en chunks\n",
    "        chunk_iter = pd.read_csv(input_file_path, sep=',', chunksize=chunk_size, low_memory=False, on_bad_lines=\"skip\")\n",
    "        \n",
    "        for i, chunk in enumerate(chunk_iter):\n",
    "            # Vérifier les colonnes présentes dans le chunk\n",
    "            columns_present = [col for col in nutriment_columns if col in chunk.columns]\n",
    "            \n",
    "            # Suppression des lignes où tous les nutriments sont vides\n",
    "            if columns_present:\n",
    "                chunk = chunk.dropna(subset=columns_present, how='all')\n",
    "                \n",
    "                # Sauvegarde du chunk filtré si non vide\n",
    "                if not chunk.empty:\n",
    "                    output_file_path = os.path.join(output_directory, f\"{file_name}_cleaned_chunk_{i+1}.csv\")\n",
    "                    chunk.to_csv(output_file_path, index=False)\n",
    "                    print(f\"Chunk {i+1} de {file_name} sauvegardé dans {output_file_path}.\")\n",
    "                else:\n",
    "                    print(f\"Chunk {i+1} de {file_name} est vide après suppression et est ignoré.\")\n",
    "            else:\n",
    "                print(f\"Chunk {i+1} de {file_name} ne contient pas les colonnes de nutriments spécifiées. Il est ignoré.\")"
   ]
  },
  {
   "cell_type": "markdown",
   "metadata": {},
   "source": [
    "---\n",
    "\n",
    "### **3. Exécution de la fonction avec le dossier `05_chunk_nutri_clean`**\n",
    "\n",
    "# Chemins vers les répertoires de chunks et de sortie"
   ]
  },
  {
   "cell_type": "code",
   "execution_count": 3,
   "metadata": {},
   "outputs": [],
   "source": [
    "input_directory = 'note-books/phase_1_data/04_chunk_filtered_columns'\n",
    "output_directory = 'note-books/phase_1_data/05_chunk_nutri_clean'"
   ]
  },
  {
   "cell_type": "markdown",
   "metadata": {},
   "source": [
    "# Colonnes de nutriments à vérifier"
   ]
  },
  {
   "cell_type": "code",
   "execution_count": 4,
   "metadata": {},
   "outputs": [],
   "source": [
    "nutriment_columns = ['energy_100g', 'fat_100g', 'carbohydrates_100g', 'proteins_100g']\n",
    "chunk_size = 10000  # Taille des chunks"
   ]
  },
  {
   "cell_type": "markdown",
   "metadata": {},
   "source": [
    "# Application de la fonction"
   ]
  },
  {
   "cell_type": "code",
   "execution_count": 5,
   "metadata": {},
   "outputs": [
    {
     "name": "stdout",
     "output_type": "stream",
     "text": [
      "Chunk 1 de chunk_30.csv_filtered_chunk_1.csv_filtered_columns.csv sauvegardé dans note-books/phase_1_data/05_chunk_nutri_clean/chunk_30.csv_filtered_chunk_1.csv_filtered_columns.csv_cleaned_chunk_1.csv.\n",
      "Chunk 2 de chunk_30.csv_filtered_chunk_1.csv_filtered_columns.csv sauvegardé dans note-books/phase_1_data/05_chunk_nutri_clean/chunk_30.csv_filtered_chunk_1.csv_filtered_columns.csv_cleaned_chunk_2.csv.\n",
      "Chunk 3 de chunk_30.csv_filtered_chunk_1.csv_filtered_columns.csv sauvegardé dans note-books/phase_1_data/05_chunk_nutri_clean/chunk_30.csv_filtered_chunk_1.csv_filtered_columns.csv_cleaned_chunk_3.csv.\n",
      "Chunk 1 de chunk_5.csv_filtered_chunk_1.csv_filtered_columns.csv sauvegardé dans note-books/phase_1_data/05_chunk_nutri_clean/chunk_5.csv_filtered_chunk_1.csv_filtered_columns.csv_cleaned_chunk_1.csv.\n",
      "Chunk 2 de chunk_5.csv_filtered_chunk_1.csv_filtered_columns.csv sauvegardé dans note-books/phase_1_data/05_chunk_nutri_clean/chunk_5.csv_filtered_chunk_1.csv_filtered_columns.csv_cleaned_chunk_2.csv.\n",
      "Chunk 3 de chunk_5.csv_filtered_chunk_1.csv_filtered_columns.csv sauvegardé dans note-books/phase_1_data/05_chunk_nutri_clean/chunk_5.csv_filtered_chunk_1.csv_filtered_columns.csv_cleaned_chunk_3.csv.\n",
      "Chunk 4 de chunk_5.csv_filtered_chunk_1.csv_filtered_columns.csv sauvegardé dans note-books/phase_1_data/05_chunk_nutri_clean/chunk_5.csv_filtered_chunk_1.csv_filtered_columns.csv_cleaned_chunk_4.csv.\n",
      "Chunk 1 de chunk_13.csv_filtered_chunk_1.csv_filtered_columns.csv sauvegardé dans note-books/phase_1_data/05_chunk_nutri_clean/chunk_13.csv_filtered_chunk_1.csv_filtered_columns.csv_cleaned_chunk_1.csv.\n",
      "Chunk 2 de chunk_13.csv_filtered_chunk_1.csv_filtered_columns.csv sauvegardé dans note-books/phase_1_data/05_chunk_nutri_clean/chunk_13.csv_filtered_chunk_1.csv_filtered_columns.csv_cleaned_chunk_2.csv.\n",
      "Chunk 3 de chunk_13.csv_filtered_chunk_1.csv_filtered_columns.csv sauvegardé dans note-books/phase_1_data/05_chunk_nutri_clean/chunk_13.csv_filtered_chunk_1.csv_filtered_columns.csv_cleaned_chunk_3.csv.\n",
      "Chunk 1 de chunk_9.csv_filtered_chunk_1.csv_filtered_columns.csv sauvegardé dans note-books/phase_1_data/05_chunk_nutri_clean/chunk_9.csv_filtered_chunk_1.csv_filtered_columns.csv_cleaned_chunk_1.csv.\n",
      "Chunk 2 de chunk_9.csv_filtered_chunk_1.csv_filtered_columns.csv sauvegardé dans note-books/phase_1_data/05_chunk_nutri_clean/chunk_9.csv_filtered_chunk_1.csv_filtered_columns.csv_cleaned_chunk_2.csv.\n",
      "Chunk 3 de chunk_9.csv_filtered_chunk_1.csv_filtered_columns.csv sauvegardé dans note-books/phase_1_data/05_chunk_nutri_clean/chunk_9.csv_filtered_chunk_1.csv_filtered_columns.csv_cleaned_chunk_3.csv.\n",
      "Chunk 4 de chunk_9.csv_filtered_chunk_1.csv_filtered_columns.csv sauvegardé dans note-books/phase_1_data/05_chunk_nutri_clean/chunk_9.csv_filtered_chunk_1.csv_filtered_columns.csv_cleaned_chunk_4.csv.\n",
      "Chunk 1 de chunk_27.csv_filtered_chunk_1.csv_filtered_columns.csv sauvegardé dans note-books/phase_1_data/05_chunk_nutri_clean/chunk_27.csv_filtered_chunk_1.csv_filtered_columns.csv_cleaned_chunk_1.csv.\n",
      "Chunk 2 de chunk_27.csv_filtered_chunk_1.csv_filtered_columns.csv sauvegardé dans note-books/phase_1_data/05_chunk_nutri_clean/chunk_27.csv_filtered_chunk_1.csv_filtered_columns.csv_cleaned_chunk_2.csv.\n",
      "Chunk 3 de chunk_27.csv_filtered_chunk_1.csv_filtered_columns.csv sauvegardé dans note-books/phase_1_data/05_chunk_nutri_clean/chunk_27.csv_filtered_chunk_1.csv_filtered_columns.csv_cleaned_chunk_3.csv.\n",
      "Chunk 4 de chunk_27.csv_filtered_chunk_1.csv_filtered_columns.csv sauvegardé dans note-books/phase_1_data/05_chunk_nutri_clean/chunk_27.csv_filtered_chunk_1.csv_filtered_columns.csv_cleaned_chunk_4.csv.\n",
      "Chunk 1 de chunk_31.csv_filtered_chunk_1.csv_filtered_columns.csv sauvegardé dans note-books/phase_1_data/05_chunk_nutri_clean/chunk_31.csv_filtered_chunk_1.csv_filtered_columns.csv_cleaned_chunk_1.csv.\n",
      "Chunk 2 de chunk_31.csv_filtered_chunk_1.csv_filtered_columns.csv sauvegardé dans note-books/phase_1_data/05_chunk_nutri_clean/chunk_31.csv_filtered_chunk_1.csv_filtered_columns.csv_cleaned_chunk_2.csv.\n",
      "Chunk 3 de chunk_31.csv_filtered_chunk_1.csv_filtered_columns.csv sauvegardé dans note-books/phase_1_data/05_chunk_nutri_clean/chunk_31.csv_filtered_chunk_1.csv_filtered_columns.csv_cleaned_chunk_3.csv.\n",
      "Chunk 4 de chunk_31.csv_filtered_chunk_1.csv_filtered_columns.csv sauvegardé dans note-books/phase_1_data/05_chunk_nutri_clean/chunk_31.csv_filtered_chunk_1.csv_filtered_columns.csv_cleaned_chunk_4.csv.\n",
      "Chunk 1 de chunk_4.csv_filtered_chunk_1.csv_filtered_columns.csv sauvegardé dans note-books/phase_1_data/05_chunk_nutri_clean/chunk_4.csv_filtered_chunk_1.csv_filtered_columns.csv_cleaned_chunk_1.csv.\n",
      "Chunk 2 de chunk_4.csv_filtered_chunk_1.csv_filtered_columns.csv sauvegardé dans note-books/phase_1_data/05_chunk_nutri_clean/chunk_4.csv_filtered_chunk_1.csv_filtered_columns.csv_cleaned_chunk_2.csv.\n",
      "Chunk 3 de chunk_4.csv_filtered_chunk_1.csv_filtered_columns.csv sauvegardé dans note-books/phase_1_data/05_chunk_nutri_clean/chunk_4.csv_filtered_chunk_1.csv_filtered_columns.csv_cleaned_chunk_3.csv.\n",
      "Chunk 4 de chunk_4.csv_filtered_chunk_1.csv_filtered_columns.csv sauvegardé dans note-books/phase_1_data/05_chunk_nutri_clean/chunk_4.csv_filtered_chunk_1.csv_filtered_columns.csv_cleaned_chunk_4.csv.\n",
      "Chunk 5 de chunk_4.csv_filtered_chunk_1.csv_filtered_columns.csv sauvegardé dans note-books/phase_1_data/05_chunk_nutri_clean/chunk_4.csv_filtered_chunk_1.csv_filtered_columns.csv_cleaned_chunk_5.csv.\n",
      "Chunk 6 de chunk_4.csv_filtered_chunk_1.csv_filtered_columns.csv sauvegardé dans note-books/phase_1_data/05_chunk_nutri_clean/chunk_4.csv_filtered_chunk_1.csv_filtered_columns.csv_cleaned_chunk_6.csv.\n",
      "Chunk 1 de chunk_8.csv_filtered_chunk_1.csv_filtered_columns.csv sauvegardé dans note-books/phase_1_data/05_chunk_nutri_clean/chunk_8.csv_filtered_chunk_1.csv_filtered_columns.csv_cleaned_chunk_1.csv.\n",
      "Chunk 2 de chunk_8.csv_filtered_chunk_1.csv_filtered_columns.csv sauvegardé dans note-books/phase_1_data/05_chunk_nutri_clean/chunk_8.csv_filtered_chunk_1.csv_filtered_columns.csv_cleaned_chunk_2.csv.\n",
      "Chunk 3 de chunk_8.csv_filtered_chunk_1.csv_filtered_columns.csv sauvegardé dans note-books/phase_1_data/05_chunk_nutri_clean/chunk_8.csv_filtered_chunk_1.csv_filtered_columns.csv_cleaned_chunk_3.csv.\n",
      "Chunk 4 de chunk_8.csv_filtered_chunk_1.csv_filtered_columns.csv sauvegardé dans note-books/phase_1_data/05_chunk_nutri_clean/chunk_8.csv_filtered_chunk_1.csv_filtered_columns.csv_cleaned_chunk_4.csv.\n",
      "Chunk 1 de chunk_12.csv_filtered_chunk_1.csv_filtered_columns.csv sauvegardé dans note-books/phase_1_data/05_chunk_nutri_clean/chunk_12.csv_filtered_chunk_1.csv_filtered_columns.csv_cleaned_chunk_1.csv.\n",
      "Chunk 2 de chunk_12.csv_filtered_chunk_1.csv_filtered_columns.csv sauvegardé dans note-books/phase_1_data/05_chunk_nutri_clean/chunk_12.csv_filtered_chunk_1.csv_filtered_columns.csv_cleaned_chunk_2.csv.\n",
      "Chunk 3 de chunk_12.csv_filtered_chunk_1.csv_filtered_columns.csv sauvegardé dans note-books/phase_1_data/05_chunk_nutri_clean/chunk_12.csv_filtered_chunk_1.csv_filtered_columns.csv_cleaned_chunk_3.csv.\n",
      "Chunk 1 de chunk_26.csv_filtered_chunk_1.csv_filtered_columns.csv sauvegardé dans note-books/phase_1_data/05_chunk_nutri_clean/chunk_26.csv_filtered_chunk_1.csv_filtered_columns.csv_cleaned_chunk_1.csv.\n",
      "Chunk 2 de chunk_26.csv_filtered_chunk_1.csv_filtered_columns.csv sauvegardé dans note-books/phase_1_data/05_chunk_nutri_clean/chunk_26.csv_filtered_chunk_1.csv_filtered_columns.csv_cleaned_chunk_2.csv.\n",
      "Chunk 3 de chunk_26.csv_filtered_chunk_1.csv_filtered_columns.csv sauvegardé dans note-books/phase_1_data/05_chunk_nutri_clean/chunk_26.csv_filtered_chunk_1.csv_filtered_columns.csv_cleaned_chunk_3.csv.\n",
      "Chunk 1 de chunk_11.csv_filtered_chunk_1.csv_filtered_columns.csv sauvegardé dans note-books/phase_1_data/05_chunk_nutri_clean/chunk_11.csv_filtered_chunk_1.csv_filtered_columns.csv_cleaned_chunk_1.csv.\n",
      "Chunk 2 de chunk_11.csv_filtered_chunk_1.csv_filtered_columns.csv sauvegardé dans note-books/phase_1_data/05_chunk_nutri_clean/chunk_11.csv_filtered_chunk_1.csv_filtered_columns.csv_cleaned_chunk_2.csv.\n",
      "Chunk 3 de chunk_11.csv_filtered_chunk_1.csv_filtered_columns.csv sauvegardé dans note-books/phase_1_data/05_chunk_nutri_clean/chunk_11.csv_filtered_chunk_1.csv_filtered_columns.csv_cleaned_chunk_3.csv.\n",
      "Chunk 1 de chunk_7.csv_filtered_chunk_1.csv_filtered_columns.csv sauvegardé dans note-books/phase_1_data/05_chunk_nutri_clean/chunk_7.csv_filtered_chunk_1.csv_filtered_columns.csv_cleaned_chunk_1.csv.\n",
      "Chunk 2 de chunk_7.csv_filtered_chunk_1.csv_filtered_columns.csv sauvegardé dans note-books/phase_1_data/05_chunk_nutri_clean/chunk_7.csv_filtered_chunk_1.csv_filtered_columns.csv_cleaned_chunk_2.csv.\n",
      "Chunk 3 de chunk_7.csv_filtered_chunk_1.csv_filtered_columns.csv sauvegardé dans note-books/phase_1_data/05_chunk_nutri_clean/chunk_7.csv_filtered_chunk_1.csv_filtered_columns.csv_cleaned_chunk_3.csv.\n",
      "Chunk 1 de chunk_32.csv_filtered_chunk_1.csv_filtered_columns.csv sauvegardé dans note-books/phase_1_data/05_chunk_nutri_clean/chunk_32.csv_filtered_chunk_1.csv_filtered_columns.csv_cleaned_chunk_1.csv.\n",
      "Chunk 2 de chunk_32.csv_filtered_chunk_1.csv_filtered_columns.csv sauvegardé dans note-books/phase_1_data/05_chunk_nutri_clean/chunk_32.csv_filtered_chunk_1.csv_filtered_columns.csv_cleaned_chunk_2.csv.\n",
      "Chunk 3 de chunk_32.csv_filtered_chunk_1.csv_filtered_columns.csv sauvegardé dans note-books/phase_1_data/05_chunk_nutri_clean/chunk_32.csv_filtered_chunk_1.csv_filtered_columns.csv_cleaned_chunk_3.csv.\n",
      "Chunk 1 de chunk_29.csv_filtered_chunk_1.csv_filtered_columns.csv sauvegardé dans note-books/phase_1_data/05_chunk_nutri_clean/chunk_29.csv_filtered_chunk_1.csv_filtered_columns.csv_cleaned_chunk_1.csv.\n",
      "Chunk 2 de chunk_29.csv_filtered_chunk_1.csv_filtered_columns.csv sauvegardé dans note-books/phase_1_data/05_chunk_nutri_clean/chunk_29.csv_filtered_chunk_1.csv_filtered_columns.csv_cleaned_chunk_2.csv.\n",
      "Chunk 3 de chunk_29.csv_filtered_chunk_1.csv_filtered_columns.csv sauvegardé dans note-books/phase_1_data/05_chunk_nutri_clean/chunk_29.csv_filtered_chunk_1.csv_filtered_columns.csv_cleaned_chunk_3.csv.\n",
      "Chunk 4 de chunk_29.csv_filtered_chunk_1.csv_filtered_columns.csv sauvegardé dans note-books/phase_1_data/05_chunk_nutri_clean/chunk_29.csv_filtered_chunk_1.csv_filtered_columns.csv_cleaned_chunk_4.csv.\n",
      "Chunk 5 de chunk_29.csv_filtered_chunk_1.csv_filtered_columns.csv sauvegardé dans note-books/phase_1_data/05_chunk_nutri_clean/chunk_29.csv_filtered_chunk_1.csv_filtered_columns.csv_cleaned_chunk_5.csv.\n",
      "Chunk 1 de chunk_25.csv_filtered_chunk_1.csv_filtered_columns.csv sauvegardé dans note-books/phase_1_data/05_chunk_nutri_clean/chunk_25.csv_filtered_chunk_1.csv_filtered_columns.csv_cleaned_chunk_1.csv.\n",
      "Chunk 2 de chunk_25.csv_filtered_chunk_1.csv_filtered_columns.csv sauvegardé dans note-books/phase_1_data/05_chunk_nutri_clean/chunk_25.csv_filtered_chunk_1.csv_filtered_columns.csv_cleaned_chunk_2.csv.\n",
      "Chunk 3 de chunk_25.csv_filtered_chunk_1.csv_filtered_columns.csv sauvegardé dans note-books/phase_1_data/05_chunk_nutri_clean/chunk_25.csv_filtered_chunk_1.csv_filtered_columns.csv_cleaned_chunk_3.csv.\n",
      "Chunk 1 de chunk_10.csv_filtered_chunk_1.csv_filtered_columns.csv sauvegardé dans note-books/phase_1_data/05_chunk_nutri_clean/chunk_10.csv_filtered_chunk_1.csv_filtered_columns.csv_cleaned_chunk_1.csv.\n",
      "Chunk 2 de chunk_10.csv_filtered_chunk_1.csv_filtered_columns.csv sauvegardé dans note-books/phase_1_data/05_chunk_nutri_clean/chunk_10.csv_filtered_chunk_1.csv_filtered_columns.csv_cleaned_chunk_2.csv.\n",
      "Chunk 3 de chunk_10.csv_filtered_chunk_1.csv_filtered_columns.csv sauvegardé dans note-books/phase_1_data/05_chunk_nutri_clean/chunk_10.csv_filtered_chunk_1.csv_filtered_columns.csv_cleaned_chunk_3.csv.\n",
      "Chunk 1 de chunk_6.csv_filtered_chunk_1.csv_filtered_columns.csv sauvegardé dans note-books/phase_1_data/05_chunk_nutri_clean/chunk_6.csv_filtered_chunk_1.csv_filtered_columns.csv_cleaned_chunk_1.csv.\n",
      "Chunk 2 de chunk_6.csv_filtered_chunk_1.csv_filtered_columns.csv sauvegardé dans note-books/phase_1_data/05_chunk_nutri_clean/chunk_6.csv_filtered_chunk_1.csv_filtered_columns.csv_cleaned_chunk_2.csv.\n",
      "Chunk 1 de chunk_33.csv_filtered_chunk_1.csv_filtered_columns.csv sauvegardé dans note-books/phase_1_data/05_chunk_nutri_clean/chunk_33.csv_filtered_chunk_1.csv_filtered_columns.csv_cleaned_chunk_1.csv.\n",
      "Chunk 2 de chunk_33.csv_filtered_chunk_1.csv_filtered_columns.csv sauvegardé dans note-books/phase_1_data/05_chunk_nutri_clean/chunk_33.csv_filtered_chunk_1.csv_filtered_columns.csv_cleaned_chunk_2.csv.\n",
      "Chunk 3 de chunk_33.csv_filtered_chunk_1.csv_filtered_columns.csv sauvegardé dans note-books/phase_1_data/05_chunk_nutri_clean/chunk_33.csv_filtered_chunk_1.csv_filtered_columns.csv_cleaned_chunk_3.csv.\n",
      "Chunk 4 de chunk_33.csv_filtered_chunk_1.csv_filtered_columns.csv sauvegardé dans note-books/phase_1_data/05_chunk_nutri_clean/chunk_33.csv_filtered_chunk_1.csv_filtered_columns.csv_cleaned_chunk_4.csv.\n",
      "Chunk 1 de chunk_28.csv_filtered_chunk_1.csv_filtered_columns.csv sauvegardé dans note-books/phase_1_data/05_chunk_nutri_clean/chunk_28.csv_filtered_chunk_1.csv_filtered_columns.csv_cleaned_chunk_1.csv.\n",
      "Chunk 2 de chunk_28.csv_filtered_chunk_1.csv_filtered_columns.csv sauvegardé dans note-books/phase_1_data/05_chunk_nutri_clean/chunk_28.csv_filtered_chunk_1.csv_filtered_columns.csv_cleaned_chunk_2.csv.\n",
      "Chunk 3 de chunk_28.csv_filtered_chunk_1.csv_filtered_columns.csv sauvegardé dans note-books/phase_1_data/05_chunk_nutri_clean/chunk_28.csv_filtered_chunk_1.csv_filtered_columns.csv_cleaned_chunk_3.csv.\n",
      "Chunk 1 de chunk_24.csv_filtered_chunk_1.csv_filtered_columns.csv sauvegardé dans note-books/phase_1_data/05_chunk_nutri_clean/chunk_24.csv_filtered_chunk_1.csv_filtered_columns.csv_cleaned_chunk_1.csv.\n",
      "Chunk 2 de chunk_24.csv_filtered_chunk_1.csv_filtered_columns.csv sauvegardé dans note-books/phase_1_data/05_chunk_nutri_clean/chunk_24.csv_filtered_chunk_1.csv_filtered_columns.csv_cleaned_chunk_2.csv.\n",
      "Chunk 3 de chunk_24.csv_filtered_chunk_1.csv_filtered_columns.csv sauvegardé dans note-books/phase_1_data/05_chunk_nutri_clean/chunk_24.csv_filtered_chunk_1.csv_filtered_columns.csv_cleaned_chunk_3.csv.\n",
      "Chunk 4 de chunk_24.csv_filtered_chunk_1.csv_filtered_columns.csv sauvegardé dans note-books/phase_1_data/05_chunk_nutri_clean/chunk_24.csv_filtered_chunk_1.csv_filtered_columns.csv_cleaned_chunk_4.csv.\n",
      "Chunk 1 de chunk_23.csv_filtered_chunk_1.csv_filtered_columns.csv sauvegardé dans note-books/phase_1_data/05_chunk_nutri_clean/chunk_23.csv_filtered_chunk_1.csv_filtered_columns.csv_cleaned_chunk_1.csv.\n",
      "Chunk 2 de chunk_23.csv_filtered_chunk_1.csv_filtered_columns.csv sauvegardé dans note-books/phase_1_data/05_chunk_nutri_clean/chunk_23.csv_filtered_chunk_1.csv_filtered_columns.csv_cleaned_chunk_2.csv.\n",
      "Chunk 3 de chunk_23.csv_filtered_chunk_1.csv_filtered_columns.csv sauvegardé dans note-books/phase_1_data/05_chunk_nutri_clean/chunk_23.csv_filtered_chunk_1.csv_filtered_columns.csv_cleaned_chunk_3.csv.\n",
      "Chunk 1 de chunk_34.csv_filtered_chunk_1.csv_filtered_columns.csv sauvegardé dans note-books/phase_1_data/05_chunk_nutri_clean/chunk_34.csv_filtered_chunk_1.csv_filtered_columns.csv_cleaned_chunk_1.csv.\n",
      "Chunk 2 de chunk_34.csv_filtered_chunk_1.csv_filtered_columns.csv sauvegardé dans note-books/phase_1_data/05_chunk_nutri_clean/chunk_34.csv_filtered_chunk_1.csv_filtered_columns.csv_cleaned_chunk_2.csv.\n",
      "Chunk 3 de chunk_34.csv_filtered_chunk_1.csv_filtered_columns.csv sauvegardé dans note-books/phase_1_data/05_chunk_nutri_clean/chunk_34.csv_filtered_chunk_1.csv_filtered_columns.csv_cleaned_chunk_3.csv.\n",
      "Chunk 1 de chunk_1.csv_filtered_chunk_1.csv_filtered_columns.csv sauvegardé dans note-books/phase_1_data/05_chunk_nutri_clean/chunk_1.csv_filtered_chunk_1.csv_filtered_columns.csv_cleaned_chunk_1.csv.\n",
      "Chunk 2 de chunk_1.csv_filtered_chunk_1.csv_filtered_columns.csv sauvegardé dans note-books/phase_1_data/05_chunk_nutri_clean/chunk_1.csv_filtered_chunk_1.csv_filtered_columns.csv_cleaned_chunk_2.csv.\n",
      "Chunk 3 de chunk_1.csv_filtered_chunk_1.csv_filtered_columns.csv sauvegardé dans note-books/phase_1_data/05_chunk_nutri_clean/chunk_1.csv_filtered_chunk_1.csv_filtered_columns.csv_cleaned_chunk_3.csv.\n",
      "Chunk 4 de chunk_1.csv_filtered_chunk_1.csv_filtered_columns.csv sauvegardé dans note-books/phase_1_data/05_chunk_nutri_clean/chunk_1.csv_filtered_chunk_1.csv_filtered_columns.csv_cleaned_chunk_4.csv.\n",
      "Chunk 5 de chunk_1.csv_filtered_chunk_1.csv_filtered_columns.csv sauvegardé dans note-books/phase_1_data/05_chunk_nutri_clean/chunk_1.csv_filtered_chunk_1.csv_filtered_columns.csv_cleaned_chunk_5.csv.\n",
      "Chunk 1 de chunk_17.csv_filtered_chunk_1.csv_filtered_columns.csv sauvegardé dans note-books/phase_1_data/05_chunk_nutri_clean/chunk_17.csv_filtered_chunk_1.csv_filtered_columns.csv_cleaned_chunk_1.csv.\n",
      "Chunk 2 de chunk_17.csv_filtered_chunk_1.csv_filtered_columns.csv sauvegardé dans note-books/phase_1_data/05_chunk_nutri_clean/chunk_17.csv_filtered_chunk_1.csv_filtered_columns.csv_cleaned_chunk_2.csv.\n",
      "Chunk 3 de chunk_17.csv_filtered_chunk_1.csv_filtered_columns.csv sauvegardé dans note-books/phase_1_data/05_chunk_nutri_clean/chunk_17.csv_filtered_chunk_1.csv_filtered_columns.csv_cleaned_chunk_3.csv.\n",
      "Chunk 4 de chunk_17.csv_filtered_chunk_1.csv_filtered_columns.csv sauvegardé dans note-books/phase_1_data/05_chunk_nutri_clean/chunk_17.csv_filtered_chunk_1.csv_filtered_columns.csv_cleaned_chunk_4.csv.\n",
      "Chunk 5 de chunk_17.csv_filtered_chunk_1.csv_filtered_columns.csv sauvegardé dans note-books/phase_1_data/05_chunk_nutri_clean/chunk_17.csv_filtered_chunk_1.csv_filtered_columns.csv_cleaned_chunk_5.csv.\n",
      "Chunk 1 de chunk_22.csv_filtered_chunk_1.csv_filtered_columns.csv sauvegardé dans note-books/phase_1_data/05_chunk_nutri_clean/chunk_22.csv_filtered_chunk_1.csv_filtered_columns.csv_cleaned_chunk_1.csv.\n",
      "Chunk 2 de chunk_22.csv_filtered_chunk_1.csv_filtered_columns.csv sauvegardé dans note-books/phase_1_data/05_chunk_nutri_clean/chunk_22.csv_filtered_chunk_1.csv_filtered_columns.csv_cleaned_chunk_2.csv.\n",
      "Chunk 3 de chunk_22.csv_filtered_chunk_1.csv_filtered_columns.csv sauvegardé dans note-books/phase_1_data/05_chunk_nutri_clean/chunk_22.csv_filtered_chunk_1.csv_filtered_columns.csv_cleaned_chunk_3.csv.\n",
      "Chunk 1 de chunk_35.csv_filtered_chunk_1.csv_filtered_columns.csv sauvegardé dans note-books/phase_1_data/05_chunk_nutri_clean/chunk_35.csv_filtered_chunk_1.csv_filtered_columns.csv_cleaned_chunk_1.csv.\n",
      "Chunk 2 de chunk_35.csv_filtered_chunk_1.csv_filtered_columns.csv sauvegardé dans note-books/phase_1_data/05_chunk_nutri_clean/chunk_35.csv_filtered_chunk_1.csv_filtered_columns.csv_cleaned_chunk_2.csv.\n",
      "Chunk 1 de chunk_16.csv_filtered_chunk_1.csv_filtered_columns.csv sauvegardé dans note-books/phase_1_data/05_chunk_nutri_clean/chunk_16.csv_filtered_chunk_1.csv_filtered_columns.csv_cleaned_chunk_1.csv.\n",
      "Chunk 2 de chunk_16.csv_filtered_chunk_1.csv_filtered_columns.csv sauvegardé dans note-books/phase_1_data/05_chunk_nutri_clean/chunk_16.csv_filtered_chunk_1.csv_filtered_columns.csv_cleaned_chunk_2.csv.\n",
      "Chunk 3 de chunk_16.csv_filtered_chunk_1.csv_filtered_columns.csv sauvegardé dans note-books/phase_1_data/05_chunk_nutri_clean/chunk_16.csv_filtered_chunk_1.csv_filtered_columns.csv_cleaned_chunk_3.csv.\n",
      "Chunk 4 de chunk_16.csv_filtered_chunk_1.csv_filtered_columns.csv sauvegardé dans note-books/phase_1_data/05_chunk_nutri_clean/chunk_16.csv_filtered_chunk_1.csv_filtered_columns.csv_cleaned_chunk_4.csv.\n",
      "Chunk 5 de chunk_16.csv_filtered_chunk_1.csv_filtered_columns.csv sauvegardé dans note-books/phase_1_data/05_chunk_nutri_clean/chunk_16.csv_filtered_chunk_1.csv_filtered_columns.csv_cleaned_chunk_5.csv.\n",
      "Chunk 1 de chunk_21.csv_filtered_chunk_1.csv_filtered_columns.csv sauvegardé dans note-books/phase_1_data/05_chunk_nutri_clean/chunk_21.csv_filtered_chunk_1.csv_filtered_columns.csv_cleaned_chunk_1.csv.\n",
      "Chunk 2 de chunk_21.csv_filtered_chunk_1.csv_filtered_columns.csv sauvegardé dans note-books/phase_1_data/05_chunk_nutri_clean/chunk_21.csv_filtered_chunk_1.csv_filtered_columns.csv_cleaned_chunk_2.csv.\n",
      "Chunk 3 de chunk_21.csv_filtered_chunk_1.csv_filtered_columns.csv sauvegardé dans note-books/phase_1_data/05_chunk_nutri_clean/chunk_21.csv_filtered_chunk_1.csv_filtered_columns.csv_cleaned_chunk_3.csv.\n",
      "Chunk 4 de chunk_21.csv_filtered_chunk_1.csv_filtered_columns.csv sauvegardé dans note-books/phase_1_data/05_chunk_nutri_clean/chunk_21.csv_filtered_chunk_1.csv_filtered_columns.csv_cleaned_chunk_4.csv.\n",
      "Chunk 1 de chunk_15.csv_filtered_chunk_1.csv_filtered_columns.csv sauvegardé dans note-books/phase_1_data/05_chunk_nutri_clean/chunk_15.csv_filtered_chunk_1.csv_filtered_columns.csv_cleaned_chunk_1.csv.\n",
      "Chunk 2 de chunk_15.csv_filtered_chunk_1.csv_filtered_columns.csv sauvegardé dans note-books/phase_1_data/05_chunk_nutri_clean/chunk_15.csv_filtered_chunk_1.csv_filtered_columns.csv_cleaned_chunk_2.csv.\n",
      "Chunk 3 de chunk_15.csv_filtered_chunk_1.csv_filtered_columns.csv sauvegardé dans note-books/phase_1_data/05_chunk_nutri_clean/chunk_15.csv_filtered_chunk_1.csv_filtered_columns.csv_cleaned_chunk_3.csv.\n",
      "Chunk 4 de chunk_15.csv_filtered_chunk_1.csv_filtered_columns.csv sauvegardé dans note-books/phase_1_data/05_chunk_nutri_clean/chunk_15.csv_filtered_chunk_1.csv_filtered_columns.csv_cleaned_chunk_4.csv.\n",
      "Chunk 5 de chunk_15.csv_filtered_chunk_1.csv_filtered_columns.csv sauvegardé dans note-books/phase_1_data/05_chunk_nutri_clean/chunk_15.csv_filtered_chunk_1.csv_filtered_columns.csv_cleaned_chunk_5.csv.\n",
      "Chunk 6 de chunk_15.csv_filtered_chunk_1.csv_filtered_columns.csv sauvegardé dans note-books/phase_1_data/05_chunk_nutri_clean/chunk_15.csv_filtered_chunk_1.csv_filtered_columns.csv_cleaned_chunk_6.csv.\n",
      "Chunk 1 de chunk_19.csv_filtered_chunk_1.csv_filtered_columns.csv sauvegardé dans note-books/phase_1_data/05_chunk_nutri_clean/chunk_19.csv_filtered_chunk_1.csv_filtered_columns.csv_cleaned_chunk_1.csv.\n",
      "Chunk 2 de chunk_19.csv_filtered_chunk_1.csv_filtered_columns.csv sauvegardé dans note-books/phase_1_data/05_chunk_nutri_clean/chunk_19.csv_filtered_chunk_1.csv_filtered_columns.csv_cleaned_chunk_2.csv.\n",
      "Chunk 3 de chunk_19.csv_filtered_chunk_1.csv_filtered_columns.csv sauvegardé dans note-books/phase_1_data/05_chunk_nutri_clean/chunk_19.csv_filtered_chunk_1.csv_filtered_columns.csv_cleaned_chunk_3.csv.\n",
      "Chunk 1 de chunk_3.csv_filtered_chunk_1.csv_filtered_columns.csv sauvegardé dans note-books/phase_1_data/05_chunk_nutri_clean/chunk_3.csv_filtered_chunk_1.csv_filtered_columns.csv_cleaned_chunk_1.csv.\n",
      "Chunk 2 de chunk_3.csv_filtered_chunk_1.csv_filtered_columns.csv sauvegardé dans note-books/phase_1_data/05_chunk_nutri_clean/chunk_3.csv_filtered_chunk_1.csv_filtered_columns.csv_cleaned_chunk_2.csv.\n",
      "Chunk 3 de chunk_3.csv_filtered_chunk_1.csv_filtered_columns.csv sauvegardé dans note-books/phase_1_data/05_chunk_nutri_clean/chunk_3.csv_filtered_chunk_1.csv_filtered_columns.csv_cleaned_chunk_3.csv.\n",
      "Chunk 4 de chunk_3.csv_filtered_chunk_1.csv_filtered_columns.csv sauvegardé dans note-books/phase_1_data/05_chunk_nutri_clean/chunk_3.csv_filtered_chunk_1.csv_filtered_columns.csv_cleaned_chunk_4.csv.\n",
      "Chunk 1 de chunk_20.csv_filtered_chunk_1.csv_filtered_columns.csv sauvegardé dans note-books/phase_1_data/05_chunk_nutri_clean/chunk_20.csv_filtered_chunk_1.csv_filtered_columns.csv_cleaned_chunk_1.csv.\n",
      "Chunk 2 de chunk_20.csv_filtered_chunk_1.csv_filtered_columns.csv sauvegardé dans note-books/phase_1_data/05_chunk_nutri_clean/chunk_20.csv_filtered_chunk_1.csv_filtered_columns.csv_cleaned_chunk_2.csv.\n",
      "Chunk 3 de chunk_20.csv_filtered_chunk_1.csv_filtered_columns.csv sauvegardé dans note-books/phase_1_data/05_chunk_nutri_clean/chunk_20.csv_filtered_chunk_1.csv_filtered_columns.csv_cleaned_chunk_3.csv.\n",
      "Chunk 4 de chunk_20.csv_filtered_chunk_1.csv_filtered_columns.csv sauvegardé dans note-books/phase_1_data/05_chunk_nutri_clean/chunk_20.csv_filtered_chunk_1.csv_filtered_columns.csv_cleaned_chunk_4.csv.\n",
      "Chunk 1 de chunk_14.csv_filtered_chunk_1.csv_filtered_columns.csv sauvegardé dans note-books/phase_1_data/05_chunk_nutri_clean/chunk_14.csv_filtered_chunk_1.csv_filtered_columns.csv_cleaned_chunk_1.csv.\n",
      "Chunk 2 de chunk_14.csv_filtered_chunk_1.csv_filtered_columns.csv sauvegardé dans note-books/phase_1_data/05_chunk_nutri_clean/chunk_14.csv_filtered_chunk_1.csv_filtered_columns.csv_cleaned_chunk_2.csv.\n",
      "Chunk 3 de chunk_14.csv_filtered_chunk_1.csv_filtered_columns.csv sauvegardé dans note-books/phase_1_data/05_chunk_nutri_clean/chunk_14.csv_filtered_chunk_1.csv_filtered_columns.csv_cleaned_chunk_3.csv.\n",
      "Chunk 4 de chunk_14.csv_filtered_chunk_1.csv_filtered_columns.csv sauvegardé dans note-books/phase_1_data/05_chunk_nutri_clean/chunk_14.csv_filtered_chunk_1.csv_filtered_columns.csv_cleaned_chunk_4.csv.\n",
      "Chunk 5 de chunk_14.csv_filtered_chunk_1.csv_filtered_columns.csv sauvegardé dans note-books/phase_1_data/05_chunk_nutri_clean/chunk_14.csv_filtered_chunk_1.csv_filtered_columns.csv_cleaned_chunk_5.csv.\n",
      "Chunk 6 de chunk_14.csv_filtered_chunk_1.csv_filtered_columns.csv sauvegardé dans note-books/phase_1_data/05_chunk_nutri_clean/chunk_14.csv_filtered_chunk_1.csv_filtered_columns.csv_cleaned_chunk_6.csv.\n",
      "Chunk 1 de chunk_2.csv_filtered_chunk_1.csv_filtered_columns.csv sauvegardé dans note-books/phase_1_data/05_chunk_nutri_clean/chunk_2.csv_filtered_chunk_1.csv_filtered_columns.csv_cleaned_chunk_1.csv.\n",
      "Chunk 2 de chunk_2.csv_filtered_chunk_1.csv_filtered_columns.csv sauvegardé dans note-books/phase_1_data/05_chunk_nutri_clean/chunk_2.csv_filtered_chunk_1.csv_filtered_columns.csv_cleaned_chunk_2.csv.\n",
      "Chunk 3 de chunk_2.csv_filtered_chunk_1.csv_filtered_columns.csv sauvegardé dans note-books/phase_1_data/05_chunk_nutri_clean/chunk_2.csv_filtered_chunk_1.csv_filtered_columns.csv_cleaned_chunk_3.csv.\n",
      "Chunk 4 de chunk_2.csv_filtered_chunk_1.csv_filtered_columns.csv sauvegardé dans note-books/phase_1_data/05_chunk_nutri_clean/chunk_2.csv_filtered_chunk_1.csv_filtered_columns.csv_cleaned_chunk_4.csv.\n",
      "Chunk 5 de chunk_2.csv_filtered_chunk_1.csv_filtered_columns.csv sauvegardé dans note-books/phase_1_data/05_chunk_nutri_clean/chunk_2.csv_filtered_chunk_1.csv_filtered_columns.csv_cleaned_chunk_5.csv.\n",
      "Chunk 6 de chunk_2.csv_filtered_chunk_1.csv_filtered_columns.csv sauvegardé dans note-books/phase_1_data/05_chunk_nutri_clean/chunk_2.csv_filtered_chunk_1.csv_filtered_columns.csv_cleaned_chunk_6.csv.\n",
      "Chunk 1 de chunk_18.csv_filtered_chunk_1.csv_filtered_columns.csv sauvegardé dans note-books/phase_1_data/05_chunk_nutri_clean/chunk_18.csv_filtered_chunk_1.csv_filtered_columns.csv_cleaned_chunk_1.csv.\n",
      "Chunk 2 de chunk_18.csv_filtered_chunk_1.csv_filtered_columns.csv sauvegardé dans note-books/phase_1_data/05_chunk_nutri_clean/chunk_18.csv_filtered_chunk_1.csv_filtered_columns.csv_cleaned_chunk_2.csv.\n",
      "Chunk 3 de chunk_18.csv_filtered_chunk_1.csv_filtered_columns.csv sauvegardé dans note-books/phase_1_data/05_chunk_nutri_clean/chunk_18.csv_filtered_chunk_1.csv_filtered_columns.csv_cleaned_chunk_3.csv.\n",
      "Chunk 4 de chunk_18.csv_filtered_chunk_1.csv_filtered_columns.csv sauvegardé dans note-books/phase_1_data/05_chunk_nutri_clean/chunk_18.csv_filtered_chunk_1.csv_filtered_columns.csv_cleaned_chunk_4.csv.\n"
     ]
    }
   ],
   "source": [
    "supprimer_lignes_sans_nutriments(input_directory, output_directory, nutriment_columns, chunk_size)"
   ]
  },
  {
   "cell_type": "markdown",
   "metadata": {},
   "source": [
    "### **Explication :**\n",
    "\n",
    "- **`dropna()` avec `how='all'`** : Supprime les lignes où toutes les valeurs dans les colonnes de nutriments sont manquantes.\n",
    "- **Vérification des colonnes de nutriments** : La fonction vérifie que les colonnes de nutriments sont présentes dans chaque chunk avant de procéder à la suppression.\n",
    "\n",
    "---\n",
    "\n",
    "Les chunks nettoyés seront enregistrés dans le dossier **`05_chunk_nutri_clean`** une fois cette étape terminée. Fais-moi savoir si tu souhaites d'autres ajustements ou si nous passons à une autre étape !"
   ]
  }
 ],
 "metadata": {
  "kernelspec": {
   "display_name": ".venv",
   "language": "python",
   "name": "python3"
  },
  "language_info": {
   "codemirror_mode": {
    "name": "ipython",
    "version": 3
   },
   "file_extension": ".py",
   "mimetype": "text/x-python",
   "name": "python",
   "nbconvert_exporter": "python",
   "pygments_lexer": "ipython3",
   "version": "3.12.6"
  }
 },
 "nbformat": 4,
 "nbformat_minor": 2
}
