{
 "cells": [
  {
   "cell_type": "markdown",
   "metadata": {},
   "source": [
    "---\n",
    "\n",
    "# **Notebook 12 : Filtrage et Normalisation des Noms de Pays pour les Pays Affiliés au Nutri-Score**\n",
    "\n",
    "---\n",
    "\n",
    "### **1. Importation des Bibliothèques**\n"
   ]
  },
  {
   "cell_type": "code",
   "execution_count": 1,
   "metadata": {},
   "outputs": [],
   "source": [
    "import os\n",
    "import pandas as pd"
   ]
  },
  {
   "cell_type": "markdown",
   "metadata": {},
   "source": [
    "### **2. Définition de la Liste des Pays Affiliés au Nutri-Score**\n",
    "\n",
    "Voici la liste des pays affiliés que nous allons garder pour l'analyse."
   ]
  },
  {
   "cell_type": "code",
   "execution_count": 2,
   "metadata": {},
   "outputs": [],
   "source": [
    "# Liste des pays affiliés au Nutri-Score en français\n",
    "pays_affilies_nutri_score = [\n",
    "    \"France\", \"Belgique\", \"Allemagne\", \"Luxembourg\",\n",
    "    \"Pays-Bas\", \"Espagne\", \"Suisse\"\n",
    "]"
   ]
  },
  {
   "cell_type": "markdown",
   "metadata": {},
   "source": [
    "### **3. Dictionnaire de Correspondance des Noms de Pays**\n",
    "\n",
    "Nous allons créer un dictionnaire qui mappe les noms de pays dans différentes langues vers leur équivalent en français."
   ]
  },
  {
   "cell_type": "code",
   "execution_count": 3,
   "metadata": {},
   "outputs": [],
   "source": [
    "# Dictionnaire de correspondance des noms de pays avec synonymes\n",
    "synonymes_pays = {\n",
    "    \"France\": [\"France\", \"Frankreich\", \"Francia\", \"França\"],\n",
    "    \"Belgique\": [\"Belgium\", \"Belgique\", \"België\", \"Belgie\"],\n",
    "    \"Allemagne\": [\"Germany\", \"Deutschland\", \"Allemagne\", \"Alemania\"],\n",
    "    \"Luxembourg\": [\"Luxembourg\", \"Luxemburg\"],\n",
    "    \"Pays-Bas\": [\"Netherlands\", \"Pays-Bas\", \"Nederland\", \"Holland\"],\n",
    "    \"Espagne\": [\"Spain\", \"Espagne\", \"España\"],\n",
    "    \"Suisse\": [\"Switzerland\", \"Suisse\", \"Schweiz\", \"Svizzera\"],\n",
    "    # Ajoutez d'autres correspondances si nécessaire\n",
    "}\n",
    "\n",
    "# Création du dictionnaire de correspondance\n",
    "correspondance_pays = {synonyme: pays for pays, synonymes in synonymes_pays.items() for synonyme in synonymes}\n"
   ]
  },
  {
   "cell_type": "markdown",
   "metadata": {},
   "source": [
    "---\n",
    "\n",
    "### **4. Fonction de Filtrage et de Normalisation des Données**\n",
    "\n",
    "Cette fonction parcourt les fichiers, normalise les noms de pays en utilisant le dictionnaire `correspondance_pays`, puis applique le filtre pour conserver uniquement les pays affiliés."
   ]
  },
  {
   "cell_type": "code",
   "execution_count": 4,
   "metadata": {},
   "outputs": [
    {
     "name": "stdout",
     "output_type": "stream",
     "text": [
      "Fichier filtré et sauvegardé : note-books/phase_1_data/12_filtrage_pays_nutri_score/chunk_35_filtered_part_0.csv\n",
      "Fichier filtré et sauvegardé : note-books/phase_1_data/12_filtrage_pays_nutri_score/chunk_34_filtered_part_0.csv\n",
      "Colonne 'countries' non trouvée dans .DS_Store. Fichier ignoré.\n",
      "Fichier filtré et sauvegardé : note-books/phase_1_data/12_filtrage_pays_nutri_score/chunk_33_filtered_part_0.csv\n",
      "Fichier filtré et sauvegardé : note-books/phase_1_data/12_filtrage_pays_nutri_score/chunk_29_filtered_part_0.csv\n",
      "Fichier filtré et sauvegardé : note-books/phase_1_data/12_filtrage_pays_nutri_score/chunk_30_filtered_part_0.csv\n",
      "Fichier filtré et sauvegardé : note-books/phase_1_data/12_filtrage_pays_nutri_score/chunk_28_filtered_part_0.csv\n",
      "Fichier filtré et sauvegardé : note-books/phase_1_data/12_filtrage_pays_nutri_score/chunk_31_filtered_part_0.csv\n",
      "Fichier filtré et sauvegardé : note-books/phase_1_data/12_filtrage_pays_nutri_score/chunk_25_filtered_part_0.csv\n",
      "Fichier filtré et sauvegardé : note-books/phase_1_data/12_filtrage_pays_nutri_score/chunk_24_filtered_part_0.csv\n",
      "Fichier filtré et sauvegardé : note-books/phase_1_data/12_filtrage_pays_nutri_score/chunk_27_filtered_part_0.csv\n",
      "Fichier filtré et sauvegardé : note-books/phase_1_data/12_filtrage_pays_nutri_score/chunk_26_filtered_part_0.csv\n",
      "Fichier filtré et sauvegardé : note-books/phase_1_data/12_filtrage_pays_nutri_score/chunk_20_filtered_part_0.csv\n",
      "Fichier filtré et sauvegardé : note-books/phase_1_data/12_filtrage_pays_nutri_score/chunk_21_filtered_part_0.csv\n",
      "Fichier filtré et sauvegardé : note-books/phase_1_data/12_filtrage_pays_nutri_score/chunk_22_filtered_part_0.csv\n",
      "Fichier filtré et sauvegardé : note-books/phase_1_data/12_filtrage_pays_nutri_score/chunk_23_filtered_part_0.csv\n",
      "Fichier filtré et sauvegardé : note-books/phase_1_data/12_filtrage_pays_nutri_score/chunk_11_filtered_part_0.csv\n",
      "Fichier filtré et sauvegardé : note-books/phase_1_data/12_filtrage_pays_nutri_score/chunk_16_filtered_part_0.csv\n",
      "Fichier filtré et sauvegardé : note-books/phase_1_data/12_filtrage_pays_nutri_score/chunk_17_filtered_part_0.csv\n",
      "Fichier filtré et sauvegardé : note-books/phase_1_data/12_filtrage_pays_nutri_score/chunk_14_filtered_part_0.csv\n",
      "Fichier filtré et sauvegardé : note-books/phase_1_data/12_filtrage_pays_nutri_score/chunk_15_filtered_part_0.csv\n",
      "Fichier filtré et sauvegardé : note-books/phase_1_data/12_filtrage_pays_nutri_score/chunk_19_filtered_part_0.csv\n"
     ]
    }
   ],
   "source": [
    "# Fonction pour normaliser et filtrer les pays affiliés au Nutri-Score\n",
    "def filtrer_et_normaliser_pays(input_directory, output_directory):\n",
    "    if not os.path.exists(output_directory):\n",
    "        os.makedirs(output_directory)\n",
    "    \n",
    "    for file_name in os.listdir(input_directory):\n",
    "        file_path = os.path.join(input_directory, file_name)\n",
    "        output_file_path = os.path.join(output_directory, file_name)\n",
    "\n",
    "        # Charger les données avec gestion d'encodage\n",
    "        try:\n",
    "            df = pd.read_csv(file_path, encoding='ISO-8859-1')\n",
    "        except UnicodeDecodeError:\n",
    "            print(f\"Problème d'encodage pour {file_name}. Réessai avec 'utf-8'.\")\n",
    "            df = pd.read_csv(file_path, encoding='utf-8', errors='replace')\n",
    "        \n",
    "        # Vérifier si la colonne 'countries' est présente\n",
    "        if 'countries' not in df.columns:\n",
    "            print(f\"Colonne 'countries' non trouvée dans {file_name}. Fichier ignoré.\")\n",
    "            continue\n",
    "        \n",
    "        # Normaliser les noms de pays\n",
    "        df['countries'] = df['countries'].apply(lambda x: correspondance_pays.get(x, x) if isinstance(x, str) else x)\n",
    "        \n",
    "        # Filtrer pour conserver uniquement les pays affiliés\n",
    "        df_filtered = df[df['countries'].isin(pays_affilies_nutri_score)]\n",
    "        \n",
    "        # Enregistrer les données filtrées dans un nouveau fichier\n",
    "        df_filtered.to_csv(output_file_path, index=False)\n",
    "        print(f\"Fichier filtré et sauvegardé : {output_file_path}\")\n",
    "\n",
    "# Répertoires d'entrée et de sortie\n",
    "input_directory = 'note-books/phase_1_data/09_translated_countries'\n",
    "output_directory = 'note-books/phase_1_data/12_filtrage_pays_nutri_score'\n",
    "\n",
    "# Exécuter la fonction\n",
    "filtrer_et_normaliser_pays(input_directory, output_directory)\n"
   ]
  },
  {
   "cell_type": "markdown",
   "metadata": {},
   "source": [
    "---\n",
    "\n",
    "### **5. Définition des Répertoires d'Entrée et de Sortie**\n",
    "\n",
    "Nous définissons ici les répertoires d’entrée pour les fichiers CSV traduits et de sortie pour les fichiers filtrés."
   ]
  },
  {
   "cell_type": "code",
   "execution_count": 5,
   "metadata": {},
   "outputs": [],
   "source": [
    "# Répertoires d'entrée et de sortie\n",
    "input_directory = 'note-books/phase_1_data/09_translated_countries'\n",
    "output_directory = 'note-books/phase_1_data/12_filtrage_pays_nutri_score'"
   ]
  },
  {
   "cell_type": "markdown",
   "metadata": {},
   "source": [
    "---\n",
    "\n",
    "### **6. Exécution de la Fonction de Filtrage et de Normalisation**\n",
    "\n",
    "Nous exécutons maintenant la fonction `filtrer_et_normaliser_pays` pour appliquer la normalisation et le filtrage."
   ]
  },
  {
   "cell_type": "code",
   "execution_count": 6,
   "metadata": {},
   "outputs": [
    {
     "name": "stdout",
     "output_type": "stream",
     "text": [
      "Fichier filtré et sauvegardé : note-books/phase_1_data/12_filtrage_pays_nutri_score/chunk_35_filtered_part_0.csv\n",
      "Fichier filtré et sauvegardé : note-books/phase_1_data/12_filtrage_pays_nutri_score/chunk_34_filtered_part_0.csv\n",
      "Colonne 'countries' non trouvée dans .DS_Store. Fichier ignoré.\n",
      "Fichier filtré et sauvegardé : note-books/phase_1_data/12_filtrage_pays_nutri_score/chunk_33_filtered_part_0.csv\n",
      "Fichier filtré et sauvegardé : note-books/phase_1_data/12_filtrage_pays_nutri_score/chunk_29_filtered_part_0.csv\n",
      "Fichier filtré et sauvegardé : note-books/phase_1_data/12_filtrage_pays_nutri_score/chunk_30_filtered_part_0.csv\n",
      "Fichier filtré et sauvegardé : note-books/phase_1_data/12_filtrage_pays_nutri_score/chunk_28_filtered_part_0.csv\n",
      "Fichier filtré et sauvegardé : note-books/phase_1_data/12_filtrage_pays_nutri_score/chunk_31_filtered_part_0.csv\n",
      "Fichier filtré et sauvegardé : note-books/phase_1_data/12_filtrage_pays_nutri_score/chunk_25_filtered_part_0.csv\n",
      "Fichier filtré et sauvegardé : note-books/phase_1_data/12_filtrage_pays_nutri_score/chunk_24_filtered_part_0.csv\n",
      "Fichier filtré et sauvegardé : note-books/phase_1_data/12_filtrage_pays_nutri_score/chunk_27_filtered_part_0.csv\n",
      "Fichier filtré et sauvegardé : note-books/phase_1_data/12_filtrage_pays_nutri_score/chunk_26_filtered_part_0.csv\n",
      "Fichier filtré et sauvegardé : note-books/phase_1_data/12_filtrage_pays_nutri_score/chunk_20_filtered_part_0.csv\n",
      "Fichier filtré et sauvegardé : note-books/phase_1_data/12_filtrage_pays_nutri_score/chunk_21_filtered_part_0.csv\n",
      "Fichier filtré et sauvegardé : note-books/phase_1_data/12_filtrage_pays_nutri_score/chunk_22_filtered_part_0.csv\n",
      "Fichier filtré et sauvegardé : note-books/phase_1_data/12_filtrage_pays_nutri_score/chunk_23_filtered_part_0.csv\n",
      "Fichier filtré et sauvegardé : note-books/phase_1_data/12_filtrage_pays_nutri_score/chunk_11_filtered_part_0.csv\n",
      "Fichier filtré et sauvegardé : note-books/phase_1_data/12_filtrage_pays_nutri_score/chunk_16_filtered_part_0.csv\n",
      "Fichier filtré et sauvegardé : note-books/phase_1_data/12_filtrage_pays_nutri_score/chunk_17_filtered_part_0.csv\n",
      "Fichier filtré et sauvegardé : note-books/phase_1_data/12_filtrage_pays_nutri_score/chunk_14_filtered_part_0.csv\n",
      "Fichier filtré et sauvegardé : note-books/phase_1_data/12_filtrage_pays_nutri_score/chunk_15_filtered_part_0.csv\n",
      "Fichier filtré et sauvegardé : note-books/phase_1_data/12_filtrage_pays_nutri_score/chunk_19_filtered_part_0.csv\n"
     ]
    }
   ],
   "source": [
    "# Exécuter la fonction\n",
    "filtrer_et_normaliser_pays(input_directory, output_directory)"
   ]
  },
  {
   "cell_type": "markdown",
   "metadata": {},
   "source": [
    "### **Explications**\n",
    "\n",
    "- **Normalisation des noms de pays** : La fonction utilise le dictionnaire `correspondance_pays` pour convertir les noms de pays dans d’autres langues en leur équivalent français.\n",
    "- **Filtrage des pays affiliés** : Une fois normalisés, seuls les pays affiliés au Nutri-Score sont conservés.\n",
    "- **Organisation structurée** : Les fichiers CSV filtrés et normalisés sont enregistrés dans le répertoire `12_filtrage_pays_nutri_score`.\n",
    "\n",
    "---"
   ]
  }
 ],
 "metadata": {
  "kernelspec": {
   "display_name": ".venv",
   "language": "python",
   "name": "python3"
  },
  "language_info": {
   "codemirror_mode": {
    "name": "ipython",
    "version": 3
   },
   "file_extension": ".py",
   "mimetype": "text/x-python",
   "name": "python",
   "nbconvert_exporter": "python",
   "pygments_lexer": "ipython3",
   "version": "3.12.6"
  }
 },
 "nbformat": 4,
 "nbformat_minor": 2
}
