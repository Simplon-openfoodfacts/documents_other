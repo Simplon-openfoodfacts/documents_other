{
 "cells": [
  {
   "cell_type": "markdown",
   "metadata": {},
   "source": [
    "---\n",
    "\n",
    "# **Notebook 12 : Filtrage et Normalisation des Noms de Pays pour les Pays Affiliés au Nutri-Score**\n",
    "\n",
    "---\n",
    "\n",
    "### **1. Importation des Bibliothèques**\n"
   ]
  },
  {
   "cell_type": "code",
   "execution_count": 1,
   "metadata": {},
   "outputs": [],
   "source": [
    "import os\n",
    "import pandas as pd"
   ]
  },
  {
   "cell_type": "markdown",
   "metadata": {},
   "source": [
    "### **2. Définition de la Liste des Pays Affiliés au Nutri-Score**\n",
    "\n",
    "Voici la liste des pays affiliés que nous allons garder pour l'analyse."
   ]
  },
  {
   "cell_type": "code",
   "execution_count": 2,
   "metadata": {},
   "outputs": [],
   "source": [
    "# Liste des pays affiliés au Nutri-Score en français\n",
    "pays_affilies_nutri_score = [\n",
    "    \"France\", \"Belgique\", \"Allemagne\", \"Luxembourg\",\n",
    "    \"Pays-Bas\", \"Espagne\", \"Suisse\"\n",
    "]"
   ]
  },
  {
   "cell_type": "markdown",
   "metadata": {},
   "source": [
    "### **3. Dictionnaire de Correspondance des Noms de Pays**\n",
    "\n",
    "Nous allons créer un dictionnaire qui mappe les noms de pays dans différentes langues vers leur équivalent en français."
   ]
  },
  {
   "cell_type": "code",
   "execution_count": 3,
   "metadata": {},
   "outputs": [],
   "source": [
    "# Dictionnaire de correspondance des noms de pays avec synonymes\n",
    "synonymes_pays = {\n",
    "    \"France\": [\"France\", \"Frankreich\", \"Francia\", \"França\"],\n",
    "    \"Belgique\": [\"Belgium\", \"Belgique\", \"België\", \"Belgie\"],\n",
    "    \"Allemagne\": [\"Germany\", \"Deutschland\", \"Allemagne\", \"Alemania\"],\n",
    "    \"Luxembourg\": [\"Luxembourg\", \"Luxemburg\"],\n",
    "    \"Pays-Bas\": [\"Netherlands\", \"Pays-Bas\", \"Nederland\", \"Holland\"],\n",
    "    \"Espagne\": [\"Spain\", \"Espagne\", \"España\"],\n",
    "    \"Suisse\": [\"Switzerland\", \"Suisse\", \"Schweiz\", \"Svizzera\"],\n",
    "    # Ajoutez d'autres correspondances si nécessaire\n",
    "}\n",
    "\n",
    "# Création du dictionnaire de correspondance\n",
    "correspondance_pays = {synonyme: pays for pays, synonymes in synonymes_pays.items() for synonyme in synonymes}\n"
   ]
  },
  {
   "cell_type": "markdown",
   "metadata": {},
   "source": [
    "---\n",
    "\n",
    "### **4. Fonction de Filtrage et de Normalisation des Données**\n",
    "\n",
    "Cette fonction parcourt les fichiers, normalise les noms de pays en utilisant le dictionnaire `correspondance_pays`, puis applique le filtre pour conserver uniquement les pays affiliés."
   ]
  },
  {
   "cell_type": "code",
   "execution_count": 8,
   "metadata": {},
   "outputs": [],
   "source": [
    "# Fonction pour normaliser et filtrer les pays affiliés au Nutri-Score\n",
    "def filtrer_et_normaliser_pays(input_directory, output_directory):\n",
    "    if not os.path.exists(output_directory):\n",
    "        os.makedirs(output_directory)\n",
    "    \n",
    "    for file_name in os.listdir(input_directory):\n",
    "        file_path = os.path.join(input_directory, file_name)\n",
    "        output_file_path = os.path.join(output_directory, file_name)\n",
    "\n",
    "        # Charger les données avec gestion d'encodage\n",
    "        try:\n",
    "            df = pd.read_csv(file_path, encoding='ISO-8859-1')\n",
    "        except UnicodeDecodeError:\n",
    "            print(f\"Problème d'encodage pour {file_name}. Réessai avec 'utf-8'.\")\n",
    "            df = pd.read_csv(file_path, encoding='utf-8', errors='replace')\n",
    "        \n",
    "        # Vérifier si la colonne 'countries' est présente\n",
    "        if 'countries' not in df.columns:\n",
    "            print(f\"Colonne 'countries' non trouvée dans {file_name}. Fichier ignoré.\")\n",
    "            continue\n",
    "        \n",
    "        # Normaliser les noms de pays\n",
    "        df['countries'] = df['countries'].apply(lambda x: correspondance_pays.get(x, x) if isinstance(x, str) else x)\n",
    "        \n",
    "        # Filtrer pour conserver uniquement les pays affiliés\n",
    "        df_filtered = df[df['countries'].isin(pays_affilies_nutri_score)]\n",
    "        \n",
    "        # Enregistrer les données filtrées dans un nouveau fichier\n",
    "        df_filtered.to_csv(output_file_path, index=False)\n",
    "        print(f\"Fichier filtré et sauvegardé : {output_file_path}\")\n",
    "\n",
    "# Répertoires d'entrée et de sortie\n",
    "input_directory = 'note-books/phase_1_data/09_translated_countries'\n",
    "output_directory = 'note-books/phase_1_data/12_filtrage_pays_nutri_score'\n",
    "\n",
    "# Exécuter la fonction\n",
    "filtrer_et_normaliser_pays(input_directory, output_directory)\n"
   ]
  },
  {
   "cell_type": "markdown",
   "metadata": {},
   "source": [
    "---\n",
    "\n",
    "### **5. Définition des Répertoires d'Entrée et de Sortie**\n",
    "\n",
    "Nous définissons ici les répertoires d’entrée pour les fichiers CSV traduits et de sortie pour les fichiers filtrés."
   ]
  },
  {
   "cell_type": "code",
   "execution_count": 9,
   "metadata": {},
   "outputs": [],
   "source": [
    "# Répertoires d'entrée et de sortie\n",
    "input_directory = 'note-books/phase_1_data/09_translated_countries'\n",
    "output_directory = 'note-books/phase_1_data/12_filtrage_pays_nutri_score'"
   ]
  },
  {
   "cell_type": "markdown",
   "metadata": {},
   "source": [
    "---\n",
    "\n",
    "### **6. Exécution de la Fonction de Filtrage et de Normalisation**\n",
    "\n",
    "Nous exécutons maintenant la fonction `filtrer_et_normaliser_pays` pour appliquer la normalisation et le filtrage."
   ]
  },
  {
   "cell_type": "code",
   "execution_count": 10,
   "metadata": {},
   "outputs": [
    {
     "name": "stdout",
     "output_type": "stream",
     "text": [
      "Fichier filtré et sauvegardé : note-books/phase_1_data/12_filtrage_pays_nutri_score/chunk_35_filtered_part_0.csv\n",
      "Fichier filtré et sauvegardé : note-books/phase_1_data/12_filtrage_pays_nutri_score/chunk_34_filtered_part_0.csv\n"
     ]
    },
    {
     "ename": "KeyError",
     "evalue": "'countries'",
     "output_type": "error",
     "traceback": [
      "\u001b[0;31m---------------------------------------------------------------------------\u001b[0m",
      "\u001b[0;31mKeyError\u001b[0m                                  Traceback (most recent call last)",
      "File \u001b[0;32m~/Dropbox/Mon Mac (Romualdraphique)/Desktop/code/Simplon/brief/Projet-OpenFood/documents_other/.venv/lib/python3.12/site-packages/pandas/core/indexes/base.py:3805\u001b[0m, in \u001b[0;36mIndex.get_loc\u001b[0;34m(self, key)\u001b[0m\n\u001b[1;32m   3804\u001b[0m \u001b[38;5;28;01mtry\u001b[39;00m:\n\u001b[0;32m-> 3805\u001b[0m     \u001b[38;5;28;01mreturn\u001b[39;00m \u001b[38;5;28;43mself\u001b[39;49m\u001b[38;5;241;43m.\u001b[39;49m\u001b[43m_engine\u001b[49m\u001b[38;5;241;43m.\u001b[39;49m\u001b[43mget_loc\u001b[49m\u001b[43m(\u001b[49m\u001b[43mcasted_key\u001b[49m\u001b[43m)\u001b[49m\n\u001b[1;32m   3806\u001b[0m \u001b[38;5;28;01mexcept\u001b[39;00m \u001b[38;5;167;01mKeyError\u001b[39;00m \u001b[38;5;28;01mas\u001b[39;00m err:\n",
      "File \u001b[0;32mindex.pyx:167\u001b[0m, in \u001b[0;36mpandas._libs.index.IndexEngine.get_loc\u001b[0;34m()\u001b[0m\n",
      "File \u001b[0;32mindex.pyx:196\u001b[0m, in \u001b[0;36mpandas._libs.index.IndexEngine.get_loc\u001b[0;34m()\u001b[0m\n",
      "File \u001b[0;32mpandas/_libs/hashtable_class_helper.pxi:7081\u001b[0m, in \u001b[0;36mpandas._libs.hashtable.PyObjectHashTable.get_item\u001b[0;34m()\u001b[0m\n",
      "File \u001b[0;32mpandas/_libs/hashtable_class_helper.pxi:7089\u001b[0m, in \u001b[0;36mpandas._libs.hashtable.PyObjectHashTable.get_item\u001b[0;34m()\u001b[0m\n",
      "\u001b[0;31mKeyError\u001b[0m: 'countries'",
      "\nThe above exception was the direct cause of the following exception:\n",
      "\u001b[0;31mKeyError\u001b[0m                                  Traceback (most recent call last)",
      "Cell \u001b[0;32mIn[10], line 2\u001b[0m\n\u001b[1;32m      1\u001b[0m \u001b[38;5;66;03m# Exécuter la fonction\u001b[39;00m\n\u001b[0;32m----> 2\u001b[0m \u001b[43mfiltrer_et_normaliser_pays\u001b[49m\u001b[43m(\u001b[49m\u001b[43minput_directory\u001b[49m\u001b[43m,\u001b[49m\u001b[43m \u001b[49m\u001b[43moutput_directory\u001b[49m\u001b[43m)\u001b[49m\n",
      "Cell \u001b[0;32mIn[8], line 18\u001b[0m, in \u001b[0;36mfiltrer_et_normaliser_pays\u001b[0;34m(input_directory, output_directory)\u001b[0m\n\u001b[1;32m     15\u001b[0m     df \u001b[38;5;241m=\u001b[39m pd\u001b[38;5;241m.\u001b[39mread_csv(file_path, encoding\u001b[38;5;241m=\u001b[39m\u001b[38;5;124m'\u001b[39m\u001b[38;5;124mutf-8\u001b[39m\u001b[38;5;124m'\u001b[39m, errors\u001b[38;5;241m=\u001b[39m\u001b[38;5;124m'\u001b[39m\u001b[38;5;124mreplace\u001b[39m\u001b[38;5;124m'\u001b[39m)\n\u001b[1;32m     17\u001b[0m \u001b[38;5;66;03m# Normaliser les noms de pays\u001b[39;00m\n\u001b[0;32m---> 18\u001b[0m df[\u001b[38;5;124m'\u001b[39m\u001b[38;5;124mcountries\u001b[39m\u001b[38;5;124m'\u001b[39m] \u001b[38;5;241m=\u001b[39m \u001b[43mdf\u001b[49m\u001b[43m[\u001b[49m\u001b[38;5;124;43m'\u001b[39;49m\u001b[38;5;124;43mcountries\u001b[39;49m\u001b[38;5;124;43m'\u001b[39;49m\u001b[43m]\u001b[49m\u001b[38;5;241m.\u001b[39mapply(\u001b[38;5;28;01mlambda\u001b[39;00m x: correspondance_pays\u001b[38;5;241m.\u001b[39mget(x, x) \u001b[38;5;28;01mif\u001b[39;00m \u001b[38;5;28misinstance\u001b[39m(x, \u001b[38;5;28mstr\u001b[39m) \u001b[38;5;28;01melse\u001b[39;00m x)\n\u001b[1;32m     20\u001b[0m \u001b[38;5;66;03m# Filtrer pour conserver uniquement les pays affiliés\u001b[39;00m\n\u001b[1;32m     21\u001b[0m df_filtered \u001b[38;5;241m=\u001b[39m df[df[\u001b[38;5;124m'\u001b[39m\u001b[38;5;124mcountries\u001b[39m\u001b[38;5;124m'\u001b[39m]\u001b[38;5;241m.\u001b[39misin(pays_affilies_nutri_score)]\n",
      "File \u001b[0;32m~/Dropbox/Mon Mac (Romualdraphique)/Desktop/code/Simplon/brief/Projet-OpenFood/documents_other/.venv/lib/python3.12/site-packages/pandas/core/frame.py:4102\u001b[0m, in \u001b[0;36mDataFrame.__getitem__\u001b[0;34m(self, key)\u001b[0m\n\u001b[1;32m   4100\u001b[0m \u001b[38;5;28;01mif\u001b[39;00m \u001b[38;5;28mself\u001b[39m\u001b[38;5;241m.\u001b[39mcolumns\u001b[38;5;241m.\u001b[39mnlevels \u001b[38;5;241m>\u001b[39m \u001b[38;5;241m1\u001b[39m:\n\u001b[1;32m   4101\u001b[0m     \u001b[38;5;28;01mreturn\u001b[39;00m \u001b[38;5;28mself\u001b[39m\u001b[38;5;241m.\u001b[39m_getitem_multilevel(key)\n\u001b[0;32m-> 4102\u001b[0m indexer \u001b[38;5;241m=\u001b[39m \u001b[38;5;28;43mself\u001b[39;49m\u001b[38;5;241;43m.\u001b[39;49m\u001b[43mcolumns\u001b[49m\u001b[38;5;241;43m.\u001b[39;49m\u001b[43mget_loc\u001b[49m\u001b[43m(\u001b[49m\u001b[43mkey\u001b[49m\u001b[43m)\u001b[49m\n\u001b[1;32m   4103\u001b[0m \u001b[38;5;28;01mif\u001b[39;00m is_integer(indexer):\n\u001b[1;32m   4104\u001b[0m     indexer \u001b[38;5;241m=\u001b[39m [indexer]\n",
      "File \u001b[0;32m~/Dropbox/Mon Mac (Romualdraphique)/Desktop/code/Simplon/brief/Projet-OpenFood/documents_other/.venv/lib/python3.12/site-packages/pandas/core/indexes/base.py:3812\u001b[0m, in \u001b[0;36mIndex.get_loc\u001b[0;34m(self, key)\u001b[0m\n\u001b[1;32m   3807\u001b[0m     \u001b[38;5;28;01mif\u001b[39;00m \u001b[38;5;28misinstance\u001b[39m(casted_key, \u001b[38;5;28mslice\u001b[39m) \u001b[38;5;129;01mor\u001b[39;00m (\n\u001b[1;32m   3808\u001b[0m         \u001b[38;5;28misinstance\u001b[39m(casted_key, abc\u001b[38;5;241m.\u001b[39mIterable)\n\u001b[1;32m   3809\u001b[0m         \u001b[38;5;129;01mand\u001b[39;00m \u001b[38;5;28many\u001b[39m(\u001b[38;5;28misinstance\u001b[39m(x, \u001b[38;5;28mslice\u001b[39m) \u001b[38;5;28;01mfor\u001b[39;00m x \u001b[38;5;129;01min\u001b[39;00m casted_key)\n\u001b[1;32m   3810\u001b[0m     ):\n\u001b[1;32m   3811\u001b[0m         \u001b[38;5;28;01mraise\u001b[39;00m InvalidIndexError(key)\n\u001b[0;32m-> 3812\u001b[0m     \u001b[38;5;28;01mraise\u001b[39;00m \u001b[38;5;167;01mKeyError\u001b[39;00m(key) \u001b[38;5;28;01mfrom\u001b[39;00m \u001b[38;5;21;01merr\u001b[39;00m\n\u001b[1;32m   3813\u001b[0m \u001b[38;5;28;01mexcept\u001b[39;00m \u001b[38;5;167;01mTypeError\u001b[39;00m:\n\u001b[1;32m   3814\u001b[0m     \u001b[38;5;66;03m# If we have a listlike key, _check_indexing_error will raise\u001b[39;00m\n\u001b[1;32m   3815\u001b[0m     \u001b[38;5;66;03m#  InvalidIndexError. Otherwise we fall through and re-raise\u001b[39;00m\n\u001b[1;32m   3816\u001b[0m     \u001b[38;5;66;03m#  the TypeError.\u001b[39;00m\n\u001b[1;32m   3817\u001b[0m     \u001b[38;5;28mself\u001b[39m\u001b[38;5;241m.\u001b[39m_check_indexing_error(key)\n",
      "\u001b[0;31mKeyError\u001b[0m: 'countries'"
     ]
    }
   ],
   "source": [
    "# Exécuter la fonction\n",
    "filtrer_et_normaliser_pays(input_directory, output_directory)"
   ]
  },
  {
   "cell_type": "markdown",
   "metadata": {},
   "source": [
    "### **Explications**\n",
    "\n",
    "- **Normalisation des noms de pays** : La fonction utilise le dictionnaire `correspondance_pays` pour convertir les noms de pays dans d’autres langues en leur équivalent français.\n",
    "- **Filtrage des pays affiliés** : Une fois normalisés, seuls les pays affiliés au Nutri-Score sont conservés.\n",
    "- **Organisation structurée** : Les fichiers CSV filtrés et normalisés sont enregistrés dans le répertoire `12_filtrage_pays_nutri_score`.\n",
    "\n",
    "---"
   ]
  }
 ],
 "metadata": {
  "kernelspec": {
   "display_name": ".venv",
   "language": "python",
   "name": "python3"
  },
  "language_info": {
   "codemirror_mode": {
    "name": "ipython",
    "version": 3
   },
   "file_extension": ".py",
   "mimetype": "text/x-python",
   "name": "python",
   "nbconvert_exporter": "python",
   "pygments_lexer": "ipython3",
   "version": "3.12.6"
  }
 },
 "nbformat": 4,
 "nbformat_minor": 2
}
