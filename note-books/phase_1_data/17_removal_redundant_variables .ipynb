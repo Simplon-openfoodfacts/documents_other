{
 "cells": [
  {
   "cell_type": "markdown",
   "metadata": {},
   "source": [
    "---\n",
    "\n",
    "# **Notebook 17 : Suppression des Colonnes Redondantes dans les Données Catégorisées**\n",
    "\n",
    "---\n",
    "\n",
    "### **1. Importation des Bibliothèques**"
   ]
  },
  {
   "cell_type": "code",
   "execution_count": 1,
   "metadata": {},
   "outputs": [],
   "source": [
    "import os\n",
    "import pandas as pd"
   ]
  },
  {
   "cell_type": "markdown",
   "metadata": {},
   "source": [
    "### **2. Définition des Répertoires d'Entrée et de Sortie**\n",
    "\n",
    "Nous allons définir le répertoire contenant les données à nettoyer (`14_categorized_data`) et créer un répertoire de sortie (`17_cleaned_data`) pour sauvegarder les fichiers avec les colonnes redondantes supprimées."
   ]
  },
  {
   "cell_type": "code",
   "execution_count": 2,
   "metadata": {},
   "outputs": [],
   "source": [
    "# Répertoires d'entrée et de sortie\n",
    "input_directory = 'note-books/phase_1_data/14_categorized_data'\n",
    "output_directory = 'note-books/phase_1_data/17_cleaned_data'\n",
    "os.makedirs(output_directory, exist_ok=True)"
   ]
  },
  {
   "cell_type": "markdown",
   "metadata": {},
   "source": [
    "---\n",
    "\n",
    "### **3. Détection et Suppression des Colonnes Redondantes**\n",
    "\n",
    "Cette fonction identifie les colonnes redondantes, telles que les colonnes contenant des informations dupliquées ou des valeurs constantes."
   ]
  },
  {
   "cell_type": "code",
   "execution_count": 3,
   "metadata": {},
   "outputs": [],
   "source": [
    "# Fonction de détection et suppression des colonnes redondantes\n",
    "def supprimer_variables_redondantes(df):\n",
    "    # Identification des colonnes constantes\n",
    "    colonnes_constantes = [col for col in df.columns if df[col].nunique() <= 1]\n",
    "    \n",
    "    # Identification des colonnes dupliquées\n",
    "    colonnes_dupliquees = []\n",
    "    for i in range(len(df.columns)):\n",
    "        col1 = df.columns[i]\n",
    "        for j in range(i + 1, len(df.columns)):\n",
    "            col2 = df.columns[j]\n",
    "            if df[col1].equals(df[col2]):\n",
    "                colonnes_dupliquees.append(col2)\n",
    "                \n",
    "    # Fusion des deux listes de colonnes redondantes\n",
    "    colonnes_redondantes = list(set(colonnes_constantes + colonnes_dupliquees))\n",
    "    \n",
    "    # Suppression des colonnes redondantes\n",
    "    df_cleaned = df.drop(columns=colonnes_redondantes)\n",
    "    \n",
    "    return df_cleaned, colonnes_redondantes"
   ]
  },
  {
   "cell_type": "markdown",
   "metadata": {},
   "source": [
    "---\n",
    "\n",
    "### **4. Application de la Fonction et Sauvegarde des Fichiers Nettoyés**\n",
    "\n",
    "Nous appliquons la fonction à chaque fichier dans le dossier `14_categorized_data` pour créer des versions nettoyées sans les colonnes redondantes, que nous enregistrons dans `17_cleaned_data`.\n"
   ]
  },
  {
   "cell_type": "code",
   "execution_count": 4,
   "metadata": {},
   "outputs": [
    {
     "name": "stdout",
     "output_type": "stream",
     "text": [
      "Fichier nettoyé sauvegardé : note-books/phase_1_data/17_cleaned_data/chunk_35_filtered_part_0.csv\n",
      "Colonnes supprimées dans chunk_35_filtered_part_0.csv : ['nutrition-score-fr_100g']\n",
      "Fichier nettoyé sauvegardé : note-books/phase_1_data/17_cleaned_data/chunk_34_filtered_part_0.csv\n",
      "Colonnes supprimées dans chunk_34_filtered_part_0.csv : ['nutrition-score-fr_100g']\n",
      "Fichier nettoyé sauvegardé : note-books/phase_1_data/17_cleaned_data/.DS_Store\n",
      "Colonnes supprimées dans .DS_Store : ['Unnamed: 0']\n",
      "Fichier nettoyé sauvegardé : note-books/phase_1_data/17_cleaned_data/chunk_33_filtered_part_0.csv\n",
      "Colonnes supprimées dans chunk_33_filtered_part_0.csv : ['nutrition-score-fr_100g']\n",
      "Fichier nettoyé sauvegardé : note-books/phase_1_data/17_cleaned_data/chunk_29_filtered_part_0.csv\n",
      "Colonnes supprimées dans chunk_29_filtered_part_0.csv : ['nutrition-score-fr_100g']\n",
      "Fichier nettoyé sauvegardé : note-books/phase_1_data/17_cleaned_data/chunk_30_filtered_part_0.csv\n",
      "Colonnes supprimées dans chunk_30_filtered_part_0.csv : ['nutrition-score-fr_100g']\n",
      "Fichier nettoyé sauvegardé : note-books/phase_1_data/17_cleaned_data/chunk_28_filtered_part_0.csv\n",
      "Colonnes supprimées dans chunk_28_filtered_part_0.csv : ['nutrition-score-fr_100g']\n",
      "Fichier nettoyé sauvegardé : note-books/phase_1_data/17_cleaned_data/chunk_31_filtered_part_0.csv\n",
      "Colonnes supprimées dans chunk_31_filtered_part_0.csv : ['nutrition-score-fr_100g']\n",
      "Fichier nettoyé sauvegardé : note-books/phase_1_data/17_cleaned_data/chunk_25_filtered_part_0.csv\n",
      "Colonnes supprimées dans chunk_25_filtered_part_0.csv : ['nutrition-score-fr_100g']\n",
      "Fichier nettoyé sauvegardé : note-books/phase_1_data/17_cleaned_data/chunk_24_filtered_part_0.csv\n",
      "Colonnes supprimées dans chunk_24_filtered_part_0.csv : ['nutrition-score-fr_100g']\n",
      "Fichier nettoyé sauvegardé : note-books/phase_1_data/17_cleaned_data/chunk_27_filtered_part_0.csv\n",
      "Colonnes supprimées dans chunk_27_filtered_part_0.csv : ['nutrition-score-fr_100g']\n",
      "Fichier nettoyé sauvegardé : note-books/phase_1_data/17_cleaned_data/chunk_26_filtered_part_0.csv\n",
      "Colonnes supprimées dans chunk_26_filtered_part_0.csv : ['nutrition-score-fr_100g']\n",
      "Fichier nettoyé sauvegardé : note-books/phase_1_data/17_cleaned_data/chunk_20_filtered_part_0.csv\n",
      "Colonnes supprimées dans chunk_20_filtered_part_0.csv : ['nutrition-score-fr_100g']\n",
      "Fichier nettoyé sauvegardé : note-books/phase_1_data/17_cleaned_data/chunk_21_filtered_part_0.csv\n",
      "Colonnes supprimées dans chunk_21_filtered_part_0.csv : ['nutrition-score-fr_100g']\n",
      "Fichier nettoyé sauvegardé : note-books/phase_1_data/17_cleaned_data/chunk_22_filtered_part_0.csv\n",
      "Colonnes supprimées dans chunk_22_filtered_part_0.csv : ['nutrition-score-fr_100g']\n",
      "Fichier nettoyé sauvegardé : note-books/phase_1_data/17_cleaned_data/chunk_23_filtered_part_0.csv\n",
      "Colonnes supprimées dans chunk_23_filtered_part_0.csv : ['nutrition-score-fr_100g']\n",
      "Fichier nettoyé sauvegardé : note-books/phase_1_data/17_cleaned_data/chunk_11_filtered_part_0.csv\n",
      "Colonnes supprimées dans chunk_11_filtered_part_0.csv : ['nutrition-score-fr_100g']\n",
      "Fichier nettoyé sauvegardé : note-books/phase_1_data/17_cleaned_data/chunk_16_filtered_part_0.csv\n",
      "Colonnes supprimées dans chunk_16_filtered_part_0.csv : ['nutrition-score-fr_100g']\n",
      "Fichier nettoyé sauvegardé : note-books/phase_1_data/17_cleaned_data/chunk_17_filtered_part_0.csv\n",
      "Colonnes supprimées dans chunk_17_filtered_part_0.csv : []\n",
      "Fichier nettoyé sauvegardé : note-books/phase_1_data/17_cleaned_data/chunk_14_filtered_part_0.csv\n",
      "Colonnes supprimées dans chunk_14_filtered_part_0.csv : ['nutrition-score-fr_100g']\n",
      "Fichier nettoyé sauvegardé : note-books/phase_1_data/17_cleaned_data/chunk_15_filtered_part_0.csv\n",
      "Colonnes supprimées dans chunk_15_filtered_part_0.csv : ['nutrition-score-fr_100g']\n",
      "Fichier nettoyé sauvegardé : note-books/phase_1_data/17_cleaned_data/chunk_19_filtered_part_0.csv\n",
      "Colonnes supprimées dans chunk_19_filtered_part_0.csv : ['nutrition-score-fr_100g']\n"
     ]
    }
   ],
   "source": [
    "# Parcourir les fichiers et appliquer le nettoyage\n",
    "for file_name in os.listdir(input_directory):\n",
    "    file_path = os.path.join(input_directory, file_name)\n",
    "    output_file_path = os.path.join(output_directory, file_name)\n",
    "    \n",
    "    # Charger le fichier avec encodage\n",
    "    try:\n",
    "        df = pd.read_csv(file_path, encoding='ISO-8859-1')\n",
    "    except UnicodeDecodeError:\n",
    "        print(f\"Problème d'encodage pour {file_name}. Réessai avec 'utf-8'.\")\n",
    "        df = pd.read_csv(file_path, encoding='utf-8', errors='replace')\n",
    "    \n",
    "    # Application de la fonction pour supprimer les colonnes redondantes\n",
    "    df_cleaned, colonnes_supprimees = supprimer_variables_redondantes(df)\n",
    "    \n",
    "    # Sauvegarder le fichier nettoyé\n",
    "    df_cleaned.to_csv(output_file_path, index=False)\n",
    "    print(f\"Fichier nettoyé sauvegardé : {output_file_path}\")\n",
    "    print(f\"Colonnes supprimées dans {file_name} : {colonnes_supprimees}\")"
   ]
  },
  {
   "cell_type": "markdown",
   "metadata": {},
   "source": [
    "---\n",
    "\n",
    "### **5. Explications**\n",
    "\n",
    "- **Colonnes constantes** : Les colonnes avec une seule valeur unique sont supprimées car elles n'apportent pas d'information pertinente.\n",
    "- **Colonnes dupliquées** : Les colonnes avec des valeurs identiques à d'autres sont identifiées comme redondantes et supprimées.\n",
    "- **Exportation des données** : Les fichiers nettoyés sans colonnes redondantes sont enregistrés dans `17_cleaned_data`.\n",
    "\n",
    "--- "
   ]
  }
 ],
 "metadata": {
  "kernelspec": {
   "display_name": ".venv",
   "language": "python",
   "name": "python3"
  },
  "language_info": {
   "codemirror_mode": {
    "name": "ipython",
    "version": 3
   },
   "file_extension": ".py",
   "mimetype": "text/x-python",
   "name": "python",
   "nbconvert_exporter": "python",
   "pygments_lexer": "ipython3",
   "version": "3.12.6"
  }
 },
 "nbformat": 4,
 "nbformat_minor": 2
}
