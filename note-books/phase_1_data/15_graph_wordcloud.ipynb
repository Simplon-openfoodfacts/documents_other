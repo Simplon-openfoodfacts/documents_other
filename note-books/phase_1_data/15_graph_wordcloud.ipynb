{
 "cells": [
  {
   "cell_type": "markdown",
   "metadata": {},
   "source": [
    "---\n",
    "\n",
    "# **Notebook 15 : Visualisations des Données de Produits**\n",
    "\n",
    "---\n",
    "\n",
    "### **1. Importation des Bibliothèques**\n",
    "\n",
    "Importons les bibliothèques nécessaires pour la manipulation des données et la création des visualisations, y compris un graphique de type Wordcloud."
   ]
  },
  {
   "cell_type": "code",
   "execution_count": 1,
   "metadata": {},
   "outputs": [],
   "source": [
    "import os\n",
    "import pandas as pd\n",
    "import matplotlib.pyplot as plt\n",
    "import seaborn as sns\n",
    "from wordcloud import WordCloud"
   ]
  },
  {
   "cell_type": "markdown",
   "metadata": {},
   "source": [
    "---\n",
    "\n",
    "### **2. Chargement des Données**\n",
    "\n",
    "Dans cette section, nous chargeons et traitons les fichiers CSV nettoyés, puis consolidons les données pour les visualisations."
   ]
  },
  {
   "cell_type": "code",
   "execution_count": 2,
   "metadata": {},
   "outputs": [
    {
     "ename": "FileNotFoundError",
     "evalue": "[Errno 2] No such file or directory: 'note-books/phase_1_data/15_translated_corrected_data'",
     "output_type": "error",
     "traceback": [
      "\u001b[0;31m---------------------------------------------------------------------------\u001b[0m",
      "\u001b[0;31mFileNotFoundError\u001b[0m                         Traceback (most recent call last)",
      "Cell \u001b[0;32mIn[2], line 7\u001b[0m\n\u001b[1;32m      4\u001b[0m \u001b[38;5;66;03m# Chargement de toutes les données dans un seul DataFrame\u001b[39;00m\n\u001b[1;32m      5\u001b[0m full_data \u001b[38;5;241m=\u001b[39m pd\u001b[38;5;241m.\u001b[39mDataFrame()\n\u001b[0;32m----> 7\u001b[0m \u001b[38;5;28;01mfor\u001b[39;00m file_name \u001b[38;5;129;01min\u001b[39;00m \u001b[43mos\u001b[49m\u001b[38;5;241;43m.\u001b[39;49m\u001b[43mlistdir\u001b[49m\u001b[43m(\u001b[49m\u001b[43minput_directory\u001b[49m\u001b[43m)\u001b[49m:\n\u001b[1;32m      8\u001b[0m     file_path \u001b[38;5;241m=\u001b[39m os\u001b[38;5;241m.\u001b[39mpath\u001b[38;5;241m.\u001b[39mjoin(input_directory, file_name)\n\u001b[1;32m     10\u001b[0m     \u001b[38;5;66;03m# Charger le fichier avec encodage\u001b[39;00m\n",
      "\u001b[0;31mFileNotFoundError\u001b[0m: [Errno 2] No such file or directory: 'note-books/phase_1_data/15_translated_corrected_data'"
     ]
    }
   ],
   "source": [
    "# Répertoire contenant les fichiers nettoyés\n",
    "input_directory = 'note-books/phase_1_data/14_categorized_data'\n",
    "\n",
    "# Chargement de toutes les données dans un seul DataFrame\n",
    "full_data = pd.DataFrame()\n",
    "\n",
    "for file_name in os.listdir(input_directory):\n",
    "    file_path = os.path.join(input_directory, file_name)\n",
    "    \n",
    "    # Charger le fichier avec encodage\n",
    "    try:\n",
    "        df = pd.read_csv(file_path, encoding='utf-8')\n",
    "    except UnicodeDecodeError:\n",
    "        print(f\"Problème d'encodage pour {file_name}, réessayé avec 'ISO-8859-1'.\")\n",
    "        df = pd.read_csv(file_path, encoding='ISO-8859-1', errors='replace')\n",
    "    \n",
    "    full_data = pd.concat([full_data, df], ignore_index=True)"
   ]
  },
  {
   "cell_type": "markdown",
   "metadata": {},
   "source": [
    "---\n",
    "\n",
    "### **3. Visualisation des Produits par Année (Bargraph)**\n",
    "\n",
    "Créons un graphique en barres montrant le nombre de produits par année en utilisant la colonne `created_datetime` pour extraire les années."
   ]
  },
  {
   "cell_type": "code",
   "execution_count": null,
   "metadata": {},
   "outputs": [],
   "source": [
    "# Extraire l'année de la date de création\n",
    "full_data['année'] = pd.to_datetime(full_data['created_datetime'], errors='coerce').dt.year\n",
    "\n",
    "# Compter le nombre de produits par année\n",
    "produits_par_année = full_data['année'].value_counts().sort_index()\n",
    "\n",
    "# Création du bargraph\n",
    "plt.figure(figsize=(10, 6))\n",
    "sns.barplot(x=produits_par_année.index, y=produits_par_année.values, palette='viridis')\n",
    "plt.title(\"Nombre de Produits Créés par Année\")\n",
    "plt.xlabel(\"Année\")\n",
    "plt.ylabel(\"Nombre de Produits\")\n",
    "plt.xticks(rotation=45)\n",
    "plt.tight_layout()\n",
    "\n",
    "# Sauvegarder le graphique\n",
    "output_graph_path_year = 'note-books/phase_1_data/graphique/produits_par_année.png'\n",
    "plt.savefig(output_graph_path_year)\n",
    "plt.show()\n",
    "\n",
    "print(f\"Graphique des produits par année sauvegardé dans {output_graph_path_year}\")"
   ]
  },
  {
   "cell_type": "markdown",
   "metadata": {},
   "source": [
    "---\n",
    "\n",
    "### **4. Tableau de Répartition des Produits par Pays**\n",
    "\n",
    "Créons un tableau récapitulatif du nombre de produits par pays et sauvegardons-le en format CSV, ainsi qu'une visualisation sous forme de graphique en barres."
   ]
  },
  {
   "cell_type": "code",
   "execution_count": null,
   "metadata": {},
   "outputs": [],
   "source": [
    "# Nettoyage et comptage des occurrences des pays\n",
    "produits_par_pays = full_data['countries'].str.split(',').explode().str.strip()\n",
    "produits_par_pays_counts = produits_par_pays.value_counts().reset_index()\n",
    "produits_par_pays_counts.columns = ['Pays', 'Nombre de Produits']\n",
    "\n",
    "# Afficher le tableau pour confirmation\n",
    "print(\"Tableau de répartition des produits par pays :\")\n",
    "print(produits_par_pays_counts)\n",
    "\n",
    "# Sauvegarder le tableau dans un fichier CSV\n",
    "output_csv_path_pays = 'note-books/phase_1_data/graphique/tableau_repartition_pays.csv'\n",
    "produits_par_pays_counts.to_csv(output_csv_path_pays, index=False)\n",
    "print(f\"Tableau de répartition des produits par pays sauvegardé dans {output_csv_path_pays}\")\n",
    "\n",
    "# Création du graphique\n",
    "plt.figure(figsize=(10, 12))\n",
    "sns.barplot(x='Nombre de Produits', y='Pays', data=produits_par_pays_counts.head(20), palette='viridis')\n",
    "plt.title(\"Répartition des Produits par Pays (Top 20)\")\n",
    "plt.xlabel(\"Nombre de Produits\")\n",
    "plt.ylabel(\"Pays\")\n",
    "plt.tight_layout()\n",
    "\n",
    "# Sauvegarder le graphique\n",
    "output_graph_path_country = 'note-books/phase_1_data/graphique/produits_par_pays.png'\n",
    "plt.savefig(output_graph_path_country)\n",
    "plt.show()\n",
    "\n",
    "print(f\"Graphique de répartition des produits par pays sauvegardé dans {output_graph_path_country}\")"
   ]
  },
  {
   "cell_type": "markdown",
   "metadata": {},
   "source": [
    "---\n",
    "\n",
    "### **5. Création d’un Wordcloud pour les Catégories**\n",
    "\n",
    "Cette étape génère un Wordcloud basé sur les occurrences des catégories de produits dans la colonne `categories`."
   ]
  },
  {
   "cell_type": "code",
   "execution_count": null,
   "metadata": {},
   "outputs": [],
   "source": [
    "# Fusionner toutes les catégories pour le Wordcloud\n",
    "text = ' '.join(full_data['categories'].dropna().astype(str))\n",
    "\n",
    "# Création du Wordcloud\n",
    "wordcloud = WordCloud(width=800, height=400, background_color='white', colormap='viridis').generate(text)\n",
    "\n",
    "# Affichage du Wordcloud\n",
    "plt.figure(figsize=(12, 6))\n",
    "plt.imshow(wordcloud, interpolation='bilinear')\n",
    "plt.axis('off')\n",
    "plt.title(\"Wordcloud des Catégories de Produits\")\n",
    "plt.tight_layout()\n",
    "\n",
    "# Sauvegarder le Wordcloud\n",
    "output_wordcloud_path = 'note-books/phase_1_data/graphique/wordcloud_categories.png'\n",
    "plt.savefig(output_wordcloud_path)\n",
    "plt.show()\n",
    "\n",
    "print(f\"Wordcloud des catégories sauvegardé dans {output_wordcloud_path}\")"
   ]
  },
  {
   "cell_type": "markdown",
   "metadata": {},
   "source": [
    "---\n",
    "\n",
    "### **Explications**\n",
    "\n",
    "- **Produits par année** : Nous visualisons le nombre de produits créés chaque année pour observer l'évolution dans le temps.\n",
    "- **Répartition des produits par pays** : Ce tableau et graphique montrent la répartition des produits par pays pour identifier les pays avec le plus de produits.\n",
    "- **Wordcloud des catégories** : Le Wordcloud offre une vue d’ensemble des catégories de produits, mettant en évidence celles qui sont les plus fréquentes.\n",
    "\n",
    "--- "
   ]
  }
 ],
 "metadata": {
  "kernelspec": {
   "display_name": ".venv",
   "language": "python",
   "name": "python3"
  },
  "language_info": {
   "codemirror_mode": {
    "name": "ipython",
    "version": 3
   },
   "file_extension": ".py",
   "mimetype": "text/x-python",
   "name": "python",
   "nbconvert_exporter": "python",
   "pygments_lexer": "ipython3",
   "version": "3.12.6"
  }
 },
 "nbformat": 4,
 "nbformat_minor": 2
}
