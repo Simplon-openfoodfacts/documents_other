{
 "cells": [
  {
   "cell_type": "markdown",
   "metadata": {},
   "source": [
    "\n",
    "\n",
    "---\n",
    "\n",
    "\n",
    "# **Notebook 7 : Suppression des colonnes redondantes (`_tags`, `_en`)**\n",
    "\n",
    "---\n",
    "\n",
    "### **1. Importation des bibliothèques**\n",
    "\n",
    "La première section est dédiée à l'importation des bibliothèques nécessaires pour manipuler les fichiers et les données.\n",
    "\n"
   ]
  },
  {
   "cell_type": "markdown",
   "metadata": {},
   "source": [
    "# 1. Importation des bibliothèques\n"
   ]
  },
  {
   "cell_type": "code",
   "execution_count": 1,
   "metadata": {},
   "outputs": [],
   "source": [
    "import os\n",
    "import pandas as pd"
   ]
  },
  {
   "cell_type": "markdown",
   "metadata": {},
   "source": [
    "---\n",
    "\n",
    "### **2. Définition de la fonction pour supprimer les colonnes redondantes**\n",
    "\n",
    "Cette étape consiste à lire les fichiers de chunks, supprimer les colonnes redondantes qui se terminent par **`_tags`** et **`_en`**, et sauvegarder les fichiers nettoyés.\n",
    "\n",
    "# 2. Définition de la fonction pour suppression des colonnes redondantes\n",
    "\n"
   ]
  },
  {
   "cell_type": "code",
   "execution_count": 2,
   "metadata": {},
   "outputs": [],
   "source": [
    "def supprimer_variables_redondantes(input_directory, output_directory, chunk_size):\n",
    "    # Vérification et création du dossier de sortie s'il n'existe pas\n",
    "    if not os.path.exists(output_directory):\n",
    "        os.makedirs(output_directory)\n",
    "    \n",
    "    # Parcourir les fichiers dans le dossier des chunks\n",
    "    for file_name in os.listdir(input_directory):\n",
    "        input_file_path = os.path.join(input_directory, file_name)\n",
    "        \n",
    "        # Lire les fichiers en chunks\n",
    "        chunk_iter = pd.read_csv(input_file_path, sep=',', chunksize=chunk_size, low_memory=False, on_bad_lines=\"skip\")\n",
    "        \n",
    "        for i, chunk in enumerate(chunk_iter):\n",
    "            # Identification des colonnes à supprimer\n",
    "            colonnes_redondantes = [col for col in chunk.columns if col.endswith('_tags') or col.endswith('_en')]\n",
    "            \n",
    "            # Suppression des colonnes redondantes\n",
    "            chunk_cleaned = chunk.drop(columns=colonnes_redondantes, errors='ignore')\n",
    "            \n",
    "            # Sauvegarde du chunk nettoyé\n",
    "            output_file_path = os.path.join(output_directory, f\"{file_name}_no_redundant_columns_chunk_{i+1}.csv\")\n",
    "            chunk_cleaned.to_csv(output_file_path, index=False)\n",
    "            print(f\"Chunk {i+1} de {file_name} nettoyé et sauvegardé dans {output_file_path}.\")"
   ]
  },
  {
   "cell_type": "markdown",
   "metadata": {},
   "source": [
    "---\n",
    "\n",
    "### **3. Exécution de la fonction avec le dossier `07_chunk_no_redundant_columns`**"
   ]
  },
  {
   "cell_type": "code",
   "execution_count": null,
   "metadata": {},
   "outputs": [],
   "source": [
    "# Chemins vers les répertoires d'entrée et de sortie\n",
    "input_directory = 'note-books/phase_1_data/06_chunk_no_duplicates'\n",
    "output_directory = 'note-books/phase_1_data/07_chunk_no_redundant_columns'\n",
    "\n",
    "# Taille des chunks\n",
    "chunk_size = 10000  # Ajustez selon vos besoins\n",
    "\n",
    "# Appel de la fonction pour supprimer les colonnes redondantes\n",
    "supprimer_variables_redondantes(input_directory, output_directory, chunk_size)"
   ]
  },
  {
   "cell_type": "markdown",
   "metadata": {},
   "source": [
    "### **Explication :**\n",
    "\n",
    "- **`col.endswith('_tags') or col.endswith('_en')`** : Cette condition permet d'identifier toutes les colonnes dont les noms se terminent par **`_tags`** ou **`_en`**, typiquement des colonnes redondantes dans les fichiers de données massives.\n",
    "- **`drop(columns=..., errors='ignore')`** : Supprime les colonnes spécifiées, et **`errors='ignore'`** assure qu'aucune erreur ne survient si une colonne à supprimer est absente dans certains chunks.\n"
   ]
  }
 ],
 "metadata": {
  "kernelspec": {
   "display_name": ".venv",
   "language": "python",
   "name": "python3"
  },
  "language_info": {
   "codemirror_mode": {
    "name": "ipython",
    "version": 3
   },
   "file_extension": ".py",
   "mimetype": "text/x-python",
   "name": "python",
   "nbconvert_exporter": "python",
   "pygments_lexer": "ipython3",
   "version": "3.12.6"
  }
 },
 "nbformat": 4,
 "nbformat_minor": 2
}
