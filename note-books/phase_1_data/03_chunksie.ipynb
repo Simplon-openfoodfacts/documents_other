{
 "cells": [
  {
   "cell_type": "markdown",
   "metadata": {},
   "source": [
    "---\n",
    "\n",
    "# **Notebook : Analyse et Nettoyage de Données Open Food Facts avec Chunks**\n",
    "\n",
    "---\n",
    "\n",
    "\n",
    "# **Phase 2**\n",
    "\n",
    "---\n",
    "\n",
    "### **1. Importation des bibliothèques**\n",
    "\n",
    "La première section est dédiée à l'importation des bibliothèques nécessaires pour manipuler les fichiers et les données.\n",
    "\n"
   ]
  },
  {
   "cell_type": "markdown",
   "metadata": {},
   "source": [
    "# 1. Importation des bibliothèques\n"
   ]
  },
  {
   "cell_type": "code",
   "execution_count": 27,
   "metadata": {},
   "outputs": [],
   "source": [
    "import os\n",
    "import pandas as pd"
   ]
  },
  {
   "cell_type": "markdown",
   "metadata": {},
   "source": [
    "---\n",
    "\n",
    "### **2. Définition de la fonction de filtrage avec gestion des lignes corrompues**\n",
    "\n",
    "Cette fonction va lire les fichiers des chunks, filtrer les produits avec un Nutri-Score valide, et sauvegarder les résultats dans le dossier **`03_chunk_nutri`**, en ignorant les lignes problématiques."
   ]
  },
  {
   "cell_type": "code",
   "execution_count": 28,
   "metadata": {},
   "outputs": [],
   "source": [
    "# 2. Définition de la fonction de filtrage avec gestion des lignes corrompues\n",
    "\n",
    "def filtrer_chunks_par_nutriscore(input_directory, output_directory, chunk_size):\n",
    "    # Vérifier l'existence du dossier de sortie\n",
    "    if not os.path.exists(output_directory):\n",
    "        os.makedirs(output_directory)\n",
    "    \n",
    "    # Parcourir les fichiers dans le dossier des chunks\n",
    "    for file_name in os.listdir(input_directory):\n",
    "        input_file_path = os.path.join(input_directory, file_name)\n",
    "        \n",
    "        # Lire le fichier en morceaux (chunks)\n",
    "        chunk_iter = pd.read_csv(input_file_path, sep=',', chunksize=chunk_size, encoding='utf-8',low_memory=False, on_bad_lines=\"skip\")\n",
    "\n",
    "        \n",
    "        for i, chunk in enumerate(chunk_iter):\n",
    "            if 'nutriscore_grade' in chunk.columns:\n",
    "                # Filtrer les valeurs de nutriscore valide (A-E, a-e)\n",
    "                chunk = chunk[chunk['nutriscore_grade'].str.upper().isin(['A', 'B', 'C', 'D', 'E'])]\n",
    "                \n",
    "                # Vérifier qu'il y a des données après le filtre\n",
    "                if not chunk.empty:\n",
    "                    output_file_path = os.path.join(output_directory, f\"{file_name}_filtered_chunk_{i+1}.csv\")\n",
    "                    chunk.to_csv(output_file_path, index=False)\n",
    "                    print(f\"Chunk {i+1} de {file_name} sauvegardé dans {output_file_path}.\")\n",
    "                else:\n",
    "                    print(f\"Chunk {i+1} de {file_name} est vide après filtrage et est ignoré.\")\n",
    "            else:\n",
    "                print(f\"Chunk {i+1} de {file_name} ne contient pas de colonne 'nutriscore_grade'. Il est ignoré.\")\n"
   ]
  },
  {
   "cell_type": "markdown",
   "metadata": {},
   "source": [
    "### **3. Application de la fonction avec le dossier `03_chunk_nutri`**\n",
    "\n",
    "Dans cette partie, nous appliquons la fonction aux fichiers dans le dossier **`02_chunk-CSV`**, et sauvegardons les fichiers filtrés dans **`03_chunk_nutri`**.\n",
    "\n",
    "# Chemin vers les chunks précédemment créés et le répertoire de sortie\n"
   ]
  },
  {
   "cell_type": "code",
   "execution_count": 29,
   "metadata": {},
   "outputs": [
    {
     "name": "stdout",
     "output_type": "stream",
     "text": [
      "Colonnes du fichier : chunk_7.csv\n",
      "Index(['code', 'url', 'creator', 'created_t', 'created_datetime',\n",
      "       'last_modified_t', 'last_modified_datetime', 'last_modified_by',\n",
      "       'last_updated_t', 'last_updated_datetime',\n",
      "       ...\n",
      "       'glycemic-index_100g', 'water-hardness_100g', 'choline_100g',\n",
      "       'phylloquinone_100g', 'beta-glucan_100g', 'inositol_100g',\n",
      "       'carnitine_100g', 'sulphate_100g', 'nitrate_100g', 'acidity_100g'],\n",
      "      dtype='object', length=206)\n",
      "Colonnes du fichier : chunk_6.csv\n",
      "Index(['code', 'url', 'creator', 'created_t', 'created_datetime',\n",
      "       'last_modified_t', 'last_modified_datetime', 'last_modified_by',\n",
      "       'last_updated_t', 'last_updated_datetime',\n",
      "       ...\n",
      "       'glycemic-index_100g', 'water-hardness_100g', 'choline_100g',\n",
      "       'phylloquinone_100g', 'beta-glucan_100g', 'inositol_100g',\n",
      "       'carnitine_100g', 'sulphate_100g', 'nitrate_100g', 'acidity_100g'],\n",
      "      dtype='object', length=206)\n",
      "Colonnes du fichier : chunk_4.csv\n",
      "Index(['code', 'url', 'creator', 'created_t', 'created_datetime',\n",
      "       'last_modified_t', 'last_modified_datetime', 'last_modified_by',\n",
      "       'last_updated_t', 'last_updated_datetime',\n",
      "       ...\n",
      "       'glycemic-index_100g', 'water-hardness_100g', 'choline_100g',\n",
      "       'phylloquinone_100g', 'beta-glucan_100g', 'inositol_100g',\n",
      "       'carnitine_100g', 'sulphate_100g', 'nitrate_100g', 'acidity_100g'],\n",
      "      dtype='object', length=206)\n",
      "Colonnes du fichier : chunk_5.csv\n",
      "Index(['code', 'url', 'creator', 'created_t', 'created_datetime',\n",
      "       'last_modified_t', 'last_modified_datetime', 'last_modified_by',\n",
      "       'last_updated_t', 'last_updated_datetime',\n",
      "       ...\n",
      "       'glycemic-index_100g', 'water-hardness_100g', 'choline_100g',\n",
      "       'phylloquinone_100g', 'beta-glucan_100g', 'inositol_100g',\n",
      "       'carnitine_100g', 'sulphate_100g', 'nitrate_100g', 'acidity_100g'],\n",
      "      dtype='object', length=206)\n",
      "Chunk 1 de chunk_8.csv sauvegardé dans note-books/phase_1_data/03_chunk_nutri/chunk_8.csv_filtered_chunk_1.csv.\n",
      "Chunk 1 de chunk_9.csv sauvegardé dans note-books/phase_1_data/03_chunk_nutri/chunk_9.csv_filtered_chunk_1.csv.\n",
      "Chunk 1 de chunk_17.csv sauvegardé dans note-books/phase_1_data/03_chunk_nutri/chunk_17.csv_filtered_chunk_1.csv.\n",
      "Chunk 1 de chunk_16.csv sauvegardé dans note-books/phase_1_data/03_chunk_nutri/chunk_16.csv_filtered_chunk_1.csv.\n",
      "Chunk 1 de chunk_28.csv sauvegardé dans note-books/phase_1_data/03_chunk_nutri/chunk_28.csv_filtered_chunk_1.csv.\n",
      "Chunk 1 de chunk_14.csv sauvegardé dans note-books/phase_1_data/03_chunk_nutri/chunk_14.csv_filtered_chunk_1.csv.\n",
      "Chunk 1 de chunk_15.csv sauvegardé dans note-books/phase_1_data/03_chunk_nutri/chunk_15.csv_filtered_chunk_1.csv.\n",
      "Chunk 1 de chunk_29.csv sauvegardé dans note-books/phase_1_data/03_chunk_nutri/chunk_29.csv_filtered_chunk_1.csv.\n",
      "Chunk 1 de chunk_11.csv sauvegardé dans note-books/phase_1_data/03_chunk_nutri/chunk_11.csv_filtered_chunk_1.csv.\n",
      "Chunk 1 de chunk_10.csv sauvegardé dans note-books/phase_1_data/03_chunk_nutri/chunk_10.csv_filtered_chunk_1.csv.\n",
      "Chunk 1 de chunk_12.csv sauvegardé dans note-books/phase_1_data/03_chunk_nutri/chunk_12.csv_filtered_chunk_1.csv.\n",
      "Chunk 1 de chunk_13.csv sauvegardé dans note-books/phase_1_data/03_chunk_nutri/chunk_13.csv_filtered_chunk_1.csv.\n",
      "Chunk 1 de chunk_22.csv sauvegardé dans note-books/phase_1_data/03_chunk_nutri/chunk_22.csv_filtered_chunk_1.csv.\n",
      "Chunk 1 de chunk_23.csv sauvegardé dans note-books/phase_1_data/03_chunk_nutri/chunk_23.csv_filtered_chunk_1.csv.\n",
      "Chunk 1 de chunk_21.csv sauvegardé dans note-books/phase_1_data/03_chunk_nutri/chunk_21.csv_filtered_chunk_1.csv.\n",
      "Chunk 1 de chunk_35.csv sauvegardé dans note-books/phase_1_data/03_chunk_nutri/chunk_35.csv_filtered_chunk_1.csv.\n",
      "Chunk 1 de chunk_34.csv sauvegardé dans note-books/phase_1_data/03_chunk_nutri/chunk_34.csv_filtered_chunk_1.csv.\n",
      "Chunk 1 de chunk_20.csv sauvegardé dans note-books/phase_1_data/03_chunk_nutri/chunk_20.csv_filtered_chunk_1.csv.\n",
      "Chunk 1 de chunk_24.csv sauvegardé dans note-books/phase_1_data/03_chunk_nutri/chunk_24.csv_filtered_chunk_1.csv.\n",
      "Chunk 1 de chunk_30.csv sauvegardé dans note-books/phase_1_data/03_chunk_nutri/chunk_30.csv_filtered_chunk_1.csv.\n",
      "Chunk 1 de chunk_18.csv sauvegardé dans note-books/phase_1_data/03_chunk_nutri/chunk_18.csv_filtered_chunk_1.csv.\n",
      "Chunk 1 de chunk_19.csv sauvegardé dans note-books/phase_1_data/03_chunk_nutri/chunk_19.csv_filtered_chunk_1.csv.\n",
      "Chunk 1 de chunk_31.csv sauvegardé dans note-books/phase_1_data/03_chunk_nutri/chunk_31.csv_filtered_chunk_1.csv.\n",
      "Chunk 1 de chunk_25.csv sauvegardé dans note-books/phase_1_data/03_chunk_nutri/chunk_25.csv_filtered_chunk_1.csv.\n",
      "Chunk 1 de chunk_33.csv sauvegardé dans note-books/phase_1_data/03_chunk_nutri/chunk_33.csv_filtered_chunk_1.csv.\n",
      "Chunk 1 de chunk_27.csv sauvegardé dans note-books/phase_1_data/03_chunk_nutri/chunk_27.csv_filtered_chunk_1.csv.\n",
      "Chunk 1 de chunk_26.csv sauvegardé dans note-books/phase_1_data/03_chunk_nutri/chunk_26.csv_filtered_chunk_1.csv.\n",
      "Chunk 1 de chunk_32.csv sauvegardé dans note-books/phase_1_data/03_chunk_nutri/chunk_32.csv_filtered_chunk_1.csv.\n",
      "Chunk 1 de chunk_1.csv sauvegardé dans note-books/phase_1_data/03_chunk_nutri/chunk_1.csv_filtered_chunk_1.csv.\n",
      "Chunk 1 de chunk_2.csv sauvegardé dans note-books/phase_1_data/03_chunk_nutri/chunk_2.csv_filtered_chunk_1.csv.\n",
      "Chunk 1 de chunk_3.csv sauvegardé dans note-books/phase_1_data/03_chunk_nutri/chunk_3.csv_filtered_chunk_1.csv.\n",
      "Chunk 1 de chunk_7.csv sauvegardé dans note-books/phase_1_data/03_chunk_nutri/chunk_7.csv_filtered_chunk_1.csv.\n",
      "Chunk 1 de chunk_6.csv sauvegardé dans note-books/phase_1_data/03_chunk_nutri/chunk_6.csv_filtered_chunk_1.csv.\n",
      "Chunk 1 de chunk_4.csv sauvegardé dans note-books/phase_1_data/03_chunk_nutri/chunk_4.csv_filtered_chunk_1.csv.\n",
      "Chunk 1 de chunk_5.csv sauvegardé dans note-books/phase_1_data/03_chunk_nutri/chunk_5.csv_filtered_chunk_1.csv.\n"
     ]
    }
   ],
   "source": [
    "# Code de vérification des colonnes\n",
    "for file_name in os.listdir(input_directory):\n",
    "    input_file_path = os.path.join(input_directory, file_name)\n",
    "    chunk_iter = pd.read_csv(input_file_path, sep=',', chunksize=100000, low_memory=False, on_bad_lines=\"skip\")\n",
    "    for chunk in chunk_iter:\n",
    "        print(\"Colonnes du fichier :\", file_name)\n",
    "        print(chunk.columns)\n",
    "        break  # Lire uniquement les colonnes du premier chunk pour vérification\n",
    "\n",
    "\n",
    "# Chemin vers les chunks précédemment créés et le répertoire de sortie\n",
    "\n",
    "input_directory = 'note-books/phase_1_data/02_chunk-CSV'\n",
    "output_directory = 'note-books/phase_1_data/03_chunk_nutri'\n",
    "\n",
    "\n",
    "# Filtrer les fichiers de chunks et les sauvegarder dans le dossier de sortie\n",
    "filtrer_chunks_par_nutriscore(input_directory, output_directory, chunk_size=100000)\n"
   ]
  },
  {
   "cell_type": "markdown",
   "metadata": {},
   "source": [
    "### **Explication :**\n",
    "- **`on_bad_lines=\"skip\"`** : Cette option permet d'ignorer automatiquement les lignes corrompues ou mal formatées lors de la lecture des fichiers CSV.\n",
    "- **`filtrer_nutriscore()`** : La fonction filtre les produits avec un Nutri-Score valide et sauvegarde chaque chunk filtré dans **`03_chunk_nutri`**.\n",
    "\n",
    "---\n",
    "\n",
    "Après avoir exécuté ce code, les chunks filtrés seront stockés dans le dossier **`03_chunk_nutri`**, contenant uniquement les produits avec un Nutri-Score valide (A, B, C, D, E ou leurs équivalents minuscules)."
   ]
  },
  {
   "cell_type": "markdown",
   "metadata": {},
   "source": []
  }
 ],
 "metadata": {
  "kernelspec": {
   "display_name": ".venv",
   "language": "python",
   "name": "python3"
  },
  "language_info": {
   "codemirror_mode": {
    "name": "ipython",
    "version": 3
   },
   "file_extension": ".py",
   "mimetype": "text/x-python",
   "name": "python",
   "nbconvert_exporter": "python",
   "pygments_lexer": "ipython3",
   "version": "3.12.6"
  }
 },
 "nbformat": 4,
 "nbformat_minor": 2
}
