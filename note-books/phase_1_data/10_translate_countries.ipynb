{
 "cells": [
  {
   "cell_type": "markdown",
   "metadata": {},
   "source": [
    "\n",
    "---\n",
    "\n",
    "# **Notebook 10 : Traduction des Noms de Pays en Français**\n",
    "\n",
    "---\n",
    "\n",
    "### **1. Importation des Bibliothèques**\n",
    "\n",
    "Dans cette section, nous importons les bibliothèques nécessaires pour la lecture des fichiers, la manipulation des données, et la traduction.\n",
    "\n"
   ]
  },
  {
   "cell_type": "code",
   "execution_count": 1,
   "metadata": {},
   "outputs": [],
   "source": [
    "# Importation des bibliothèques\n",
    "import os\n",
    "import pandas as pd\n",
    "from googletrans import Translator  # Assurez-vous d'avoir installé googletrans==4.0.0-rc1\n",
    "import time\n"
   ]
  },
  {
   "cell_type": "markdown",
   "metadata": {},
   "source": [
    "\n",
    "### **2. Définition de la fonction de regroupement et de traduction des pays**\n",
    "\n",
    "Cette fonction lit les fichiers de chunks, extrait tous les noms de pays uniques, les traduit une seule fois, et applique les traductions sur chaque chunk.\n",
    "\n"
   ]
  },
  {
   "cell_type": "code",
   "execution_count": 2,
   "metadata": {},
   "outputs": [],
   "source": [
    "def traduire_pays_en_francais(input_directory, output_directory):\n",
    "    # Initialiser le traducteur\n",
    "    translator = Translator()\n",
    "    \n",
    "    # Récupérer tous les noms de pays uniques\n",
    "    pays_uniques = set()\n",
    "    for file_name in os.listdir(input_directory):\n",
    "        input_file_path = os.path.join(input_directory, file_name)\n",
    "        chunk_iter = pd.read_csv(input_file_path, sep=',', chunksize=10000, low_memory=False, on_bad_lines=\"skip\")\n",
    "        \n",
    "        for chunk in chunk_iter:\n",
    "            if 'countries' in chunk.columns:\n",
    "                # Ajouter les pays uniques dans l'ensemble\n",
    "                chunk['countries_cleaned'] = chunk['countries'].str.split(',').apply(lambda x: [p.strip() for p in x if p.strip()])\n",
    "                pays_uniques.update([p for sublist in chunk['countries_cleaned'] for p in sublist])\n",
    "\n",
    "    # Traduire tous les pays uniques en français\n",
    "    pays_traduits = {}\n",
    "    for pays in pays_uniques:\n",
    "        try:\n",
    "            traduction = translator.translate(pays, src='auto', dest='fr').text\n",
    "            pays_traduits[pays] = traduction\n",
    "            time.sleep(0.2)  # Délai pour éviter de surcharger l'API\n",
    "        except Exception as e:\n",
    "            print(f\"Erreur de traduction pour {pays}: {e}\")\n",
    "            pays_traduits[pays] = None  # Ajouter None pour les pays non traduits\n",
    "    \n",
    "    # Appliquer les traductions sur chaque fichier de chunk et sauvegarder les résultats\n",
    "    if not os.path.exists(output_directory):\n",
    "        os.makedirs(output_directory)\n",
    "    \n",
    "    for file_name in os.listdir(input_directory):\n",
    "        input_file_path = os.path.join(input_directory, file_name)\n",
    "        output_file_path = os.path.join(output_directory, file_name)\n",
    "        \n",
    "        # Lire chaque chunk, traduire les pays, et enregistrer\n",
    "        chunk_iter = pd.read_csv(input_file_path, sep=',', chunksize=10000, low_memory=False, on_bad_lines=\"skip\")\n",
    "        for i, chunk in enumerate(chunk_iter):\n",
    "            if 'countries' in chunk.columns:\n",
    "                # Appliquer les traductions de pays\n",
    "                chunk['countries_cleaned'] = chunk['countries'].str.split(',').apply(lambda x: [p.strip() for p in x if p.strip()])\n",
    "                chunk['countries_translated'] = chunk['countries_cleaned'].apply(\n",
    "                    lambda country_list: [pays_traduits.get(country, country) for country in country_list if pays_traduits.get(country)]\n",
    "                )\n",
    "                \n",
    "                # Enregistrer chaque chunk traduit\n",
    "                chunk.to_csv(output_file_path, mode='a', index=False, header=(i == 0))\n",
    "                \n",
    "                print(f\"Chunk {i+1} de {file_name} traité et enregistré.\")\n"
   ]
  },
  {
   "cell_type": "markdown",
   "metadata": {},
   "source": [
    "### **3. DDéfinition des répertoires d'entrée et de sortie**\n",
    "\n",
    "Dans cette section, configurez les répertoires d'entrée et de sortie pour les chunks.\n"
   ]
  },
  {
   "cell_type": "code",
   "execution_count": 3,
   "metadata": {},
   "outputs": [],
   "source": [
    "# Répertoires d'entrée et de sortie\n",
    "input_directory = 'note-books/phase_1_data/07_chunk_no_redundant_columns'\n",
    "output_directory = 'note-books/phase_1_data/09_translated_countries'\n"
   ]
  },
  {
   "cell_type": "markdown",
   "metadata": {},
   "source": [
    "### **4. Exécution de la Fonction de Traduction**\n",
    "\n",
    "Exécutez la fonction traduire_pays_en_francais pour appliquer les traductions et sauvegarder les résultats."
   ]
  },
  {
   "cell_type": "code",
   "execution_count": null,
   "metadata": {},
   "outputs": [],
   "source": [
    "# Exécuter la fonction\n",
    "traduire_pays_en_francais(input_directory, output_directory)\n"
   ]
  },
  {
   "cell_type": "markdown",
   "metadata": {},
   "source": [
    "\n",
    "---\n",
    "\n",
    "### **Explications :**\n",
    "\n",
    "- **Traduction par lots** : : Cette méthode extrait les noms de pays uniques et les traduit une seule fois, réduisant le nombre de requêtes API.\n",
    "- **Application sur chaque chunk**  : Les traductions sont appliquées au niveau des chunks pour un traitement efficace.\n",
    "- **Gestion des erreurs** : Les pays qui ne peuvent pas être traduits sont ignorés dans le résultat final.\n",
    "\n",
    "---"
   ]
  }
 ],
 "metadata": {
  "kernelspec": {
   "display_name": ".venv",
   "language": "python",
   "name": "python3"
  },
  "language_info": {
   "codemirror_mode": {
    "name": "ipython",
    "version": 3
   },
   "file_extension": ".py",
   "mimetype": "text/x-python",
   "name": "python",
   "nbconvert_exporter": "python",
   "pygments_lexer": "ipython3",
   "version": "3.12.6"
  }
 },
 "nbformat": 4,
 "nbformat_minor": 2
}
