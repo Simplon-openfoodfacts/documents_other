{
 "cells": [
  {
   "cell_type": "markdown",
   "metadata": {},
   "source": [
    "---\n",
    "\n",
    "# Notebook : Préparation des données pour la prédiction du Nutri-Score\n",
    "\n",
    "**Objectif :** Sélectionner et trier les colonnes pertinentes pour la prédiction de `nutriscore_grade` en fonction d'une liste d'ingrédients.\n",
    "\n",
    "---\n",
    "\n",
    "## Étape 1 : Importer les bibliothèques nécessaires et charger les données consolidées"
   ]
  },
  {
   "cell_type": "code",
   "execution_count": null,
   "metadata": {},
   "outputs": [],
   "source": [
    "import pandas as pd\n",
    "import os\n",
    "\n",
    "# Charger le fichier consolidé\n",
    "file_path = 'note-books/phase_2_training/02_data_consolidation/data_consolidated.csv'\n",
    "df = pd.read_csv(file_path)\n",
    "\n",
    "# Afficher un aperçu des colonnes et des premières lignes\n",
    "print(\"Colonnes disponibles dans le jeu de données :\")\n",
    "print(df.columns.tolist())\n",
    "print(\"\\nAperçu des premières lignes :\")\n",
    "df.head()"
   ]
  },
  {
   "cell_type": "markdown",
   "metadata": {},
   "source": [
    "**Explication :**  \n",
    "- Nous chargeons le fichier consolidé avec `pd.read_csv` et affichons la liste des colonnes disponibles ainsi que les premières lignes pour vérifier les données.\n",
    "\n",
    "---\n",
    "\n",
    "## Étape 2 : Sélectionner les colonnes pertinentes pour la prédiction\n",
    "\n",
    "En fonction de notre analyse, nous sélectionnons les colonnes importantes pour l’entraînement du modèle."
   ]
  },
  {
   "cell_type": "code",
   "execution_count": null,
   "metadata": {},
   "outputs": [],
   "source": [
    "# Liste des colonnes pertinentes pour la prédiction de nutriscore_grade\n",
    "selected_columns = [\n",
    "    'code', 'product_name', 'brands', 'categories', 'countries', 'main_category',\n",
    "    'nutriscore_grade',  # Cible\n",
    "    'pnns_groups_1', 'pnns_groups_2', 'food_groups',\n",
    "    'energy-kcal_100g', 'energy_100g', 'fat_100g', 'saturated-fat_100g', \n",
    "    'carbohydrates_100g', 'sugars_100g', 'proteins_100g', 'salt_100g', 'sodium_100g'\n",
    "]\n",
    "\n",
    "# Créer un DataFrame avec les colonnes sélectionnées\n",
    "df_selected = df[selected_columns]\n",
    "\n",
    "# Afficher les premières lignes pour vérifier la sélection\n",
    "df_selected.head()"
   ]
  },
  {
   "cell_type": "markdown",
   "metadata": {},
   "source": [
    "**Explication :**  \n",
    "- `selected_columns` est la liste des colonnes que nous avons jugées pertinentes.\n",
    "- `df[selected_columns]` crée un DataFrame `df_selected` avec uniquement ces colonnes.\n",
    "\n",
    "---\n",
    "\n",
    "## Étape 3 : Gérer les valeurs manquantes\n",
    "\n",
    "Pour garantir la qualité des données, nous allons gérer les valeurs manquantes, en particulier dans la colonne cible `nutriscore_grade` et les colonnes nutritionnelles."
   ]
  },
  {
   "cell_type": "code",
   "execution_count": null,
   "metadata": {},
   "outputs": [],
   "source": [
    "# Supprimer les lignes où nutriscore_grade est manquant\n",
    "df_selected = df_selected.dropna(subset=['nutriscore_grade'])\n",
    "\n",
    "# Remplir les valeurs manquantes dans les colonnes nutritionnelles avec 0 (si pertinent)\n",
    "nutrition_columns = [\n",
    "    'energy-kcal_100g', 'energy_100g', 'fat_100g', 'saturated-fat_100g', \n",
    "    'carbohydrates_100g', 'sugars_100g', 'proteins_100g', 'salt_100g', 'sodium_100g'\n",
    "]\n",
    "\n",
    "df_selected[nutrition_columns] = df_selected[nutrition_columns].fillna(0)\n",
    "\n",
    "# Afficher le nombre de valeurs manquantes pour vérifier le remplissage\n",
    "print(\"Nombre de valeurs manquantes par colonne :\")\n",
    "print(df_selected.isnull().sum())"
   ]
  },
  {
   "cell_type": "markdown",
   "metadata": {},
   "source": [
    "**Explication :**  \n",
    "- Nous supprimons les lignes où `nutriscore_grade` est manquant, car il s’agit de la variable cible.\n",
    "- Pour les valeurs nutritionnelles, nous remplissons les valeurs manquantes par `0`, car ces colonnes représentent des quantités (par exemple, s’il n’y a pas de sucre, la valeur est `0`).\n",
    "\n",
    "---\n",
    "\n",
    "## Étape 4 : Enregistrer les données triées et préparées\n",
    "\n",
    "Nous enregistrons le DataFrame nettoyé et trié pour l’entraînement du modèle dans un nouveau fichier CSV.\n"
   ]
  },
  {
   "cell_type": "code",
   "execution_count": null,
   "metadata": {},
   "outputs": [],
   "source": [
    "# Définir le dossier de sortie\n",
    "output_folder = 'note-books/phase_2_training/03_feature_selection'\n",
    "\n",
    "# Créer le dossier s'il n'existe pas\n",
    "os.makedirs(output_folder, exist_ok=True)\n",
    "\n",
    "# Définir le chemin complet pour le fichier de données préparées\n",
    "output_path = os.path.join(output_folder, 'data_selected_features.csv')\n",
    "\n",
    "# Sauvegarder le DataFrame sélectionné\n",
    "df_selected.to_csv(output_path, index=False)\n",
    "\n",
    "print(f\"Fichier des données préparées sauvegardé sous : {output_path}\")"
   ]
  },
  {
   "cell_type": "markdown",
   "metadata": {},
   "source": [
    "\n",
    "**Explication :**  \n",
    "- `os.makedirs(output_folder, exist_ok=True)` crée le dossier `03_feature_selection` s’il n'existe pas déjà.\n",
    "- `df_selected.to_csv(output_path, index=False)` enregistre les données nettoyées et triées dans un fichier `data_selected_features.csv` pour une utilisation future.\n",
    "\n",
    "---\n",
    "\n",
    "### Résumé\n",
    "\n",
    "Dans ce notebook, nous avons :\n",
    "1. Chargé les données consolidées.\n",
    "2. Sélectionné les colonnes pertinentes pour la prédiction de `nutriscore_grade`.\n",
    "3. Géré les valeurs manquantes en supprimant les lignes sans `nutriscore_grade` et en remplissant les valeurs nutritionnelles manquantes par `0`.\n",
    "4. Sauvegardé le fichier final sous `data_selected_features.csv` dans le dossier `03_feature_selection`.\n",
    "\n",
    "Le fichier est maintenant prêt pour les étapes d’analyse de corrélation et de modélisation dans le prochain notebook. \n",
    "\n",
    "--- \n",
    "\n"
   ]
  }
 ],
 "metadata": {
  "kernelspec": {
   "display_name": ".venv",
   "language": "python",
   "name": "python3"
  },
  "language_info": {
   "name": "python",
   "version": "3.12.6"
  }
 },
 "nbformat": 4,
 "nbformat_minor": 2
}
