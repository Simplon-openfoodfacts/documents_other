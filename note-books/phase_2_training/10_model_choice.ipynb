{
 "cells": [
  {
   "cell_type": "markdown",
   "metadata": {},
   "source": [
    "---\n",
    "\n",
    "# Notebook : Évaluation Finale et Sélection du Modèle pour le Déploiement\n",
    "\n",
    "**Objectifs :**\n",
    "1. Comparer les performances finales du modèle **Random Forest optimisé** avec le modèle de **stacking**.\n",
    "2. Évaluer la robustesse et la simplicité pour la phase de déploiement.\n",
    "3. Sélectionner le modèle le plus performant et le sauvegarder pour le déploiement final.\n",
    "\n",
    "---\n",
    "\n",
    "## Étape 1 : Importer les bibliothèques nécessaires et charger les modèles"
   ]
  },
  {
   "cell_type": "code",
   "execution_count": 1,
   "metadata": {},
   "outputs": [],
   "source": [
    "import pandas as pd\n",
    "import joblib\n",
    "from sklearn.metrics import mean_squared_error, r2_score\n",
    "import os"
   ]
  },
  {
   "cell_type": "markdown",
   "metadata": {},
   "source": [
    "---\n",
    "\n",
    "## Étape 2 : Charger les données de test et préparer les variables\n",
    "\n",
    "Nous allons charger les données de test pour évaluer les modèles et voir lequel est le plus performant."
   ]
  },
  {
   "cell_type": "code",
   "execution_count": 2,
   "metadata": {},
   "outputs": [],
   "source": [
    "# Charger le fichier des données finales\n",
    "file_path = 'note-books/phase_2_training/04_correlation_analysis/data_final_features.csv'\n",
    "df = pd.read_csv(file_path)\n",
    "\n",
    "# Encoder `nutriscore_grade` en valeurs numériques\n",
    "df['nutriscore_grade_encoded'] = df['nutriscore_grade'].map({'a': 0, 'b': 1, 'c': 2, 'd': 3, 'e': 4})\n",
    "\n",
    "# Préparer les variables explicatives et la cible\n",
    "X_test = df[['fat_100g', 'saturated-fat_100g', 'energy-kcal_100g', 'sugars_100g', 'salt_100g', 'proteins_100g']]\n",
    "y_test = df['nutriscore_grade_encoded']"
   ]
  },
  {
   "cell_type": "markdown",
   "metadata": {},
   "source": [
    "---\n",
    "\n",
    "## Étape 3 : Charger et évaluer le modèle Random Forest optimisé\n",
    "\n",
    "Nous chargerons le modèle de **Random Forest optimisé** et l’évaluerons sur le jeu de test."
   ]
  },
  {
   "cell_type": "code",
   "execution_count": 3,
   "metadata": {},
   "outputs": [
    {
     "name": "stdout",
     "output_type": "stream",
     "text": [
      "Performances du modèle Random Forest optimisé :\n",
      "Mean Squared Error (MSE) : 0.35181336933506563\n",
      "Coefficient de détermination (R²) : 0.8047027689231379\n"
     ]
    }
   ],
   "source": [
    "# Charger le modèle Random Forest optimisé\n",
    "rf_model_path = 'note-books/phase_2_training/08_random_forest_optimized/Random_Forest_20_percent_optimized.joblib'\n",
    "random_forest_model = joblib.load(rf_model_path)\n",
    "\n",
    "# Prédire et évaluer les performances\n",
    "y_pred_rf = random_forest_model.predict(X_test)\n",
    "mse_rf = mean_squared_error(y_test, y_pred_rf)\n",
    "r2_rf = r2_score(y_test, y_pred_rf)\n",
    "\n",
    "print(f\"Performances du modèle Random Forest optimisé :\")\n",
    "print(f\"Mean Squared Error (MSE) : {mse_rf}\")\n",
    "print(f\"Coefficient de détermination (R²) : {r2_rf}\")"
   ]
  },
  {
   "cell_type": "markdown",
   "metadata": {},
   "source": [
    "---\n",
    "\n",
    "## Étape 4 : Charger et évaluer le modèle de stacking\n",
    "\n",
    "Nous chargerons également le modèle de stacking pour comparer ses performances avec le modèle Random Forest.\n"
   ]
  },
  {
   "cell_type": "code",
   "execution_count": 4,
   "metadata": {},
   "outputs": [
    {
     "ename": "FileNotFoundError",
     "evalue": "[Errno 2] No such file or directory: 'note-books/phase_2_training/08_stacking_model/stacking_model_optimized.joblib'",
     "output_type": "error",
     "traceback": [
      "\u001b[0;31m---------------------------------------------------------------------------\u001b[0m",
      "\u001b[0;31mFileNotFoundError\u001b[0m                         Traceback (most recent call last)",
      "Cell \u001b[0;32mIn[4], line 3\u001b[0m\n\u001b[1;32m      1\u001b[0m \u001b[38;5;66;03m# Charger le modèle de stacking\u001b[39;00m\n\u001b[1;32m      2\u001b[0m stacking_model_path \u001b[38;5;241m=\u001b[39m \u001b[38;5;124m'\u001b[39m\u001b[38;5;124mnote-books/phase_2_training/08_stacking_model/stacking_model_optimized.joblib\u001b[39m\u001b[38;5;124m'\u001b[39m\n\u001b[0;32m----> 3\u001b[0m stacking_model \u001b[38;5;241m=\u001b[39m \u001b[43mjoblib\u001b[49m\u001b[38;5;241;43m.\u001b[39;49m\u001b[43mload\u001b[49m\u001b[43m(\u001b[49m\u001b[43mstacking_model_path\u001b[49m\u001b[43m)\u001b[49m\n\u001b[1;32m      5\u001b[0m \u001b[38;5;66;03m# Prédire et évaluer les performances\u001b[39;00m\n\u001b[1;32m      6\u001b[0m y_pred_stack \u001b[38;5;241m=\u001b[39m stacking_model\u001b[38;5;241m.\u001b[39mpredict(X_test)\n",
      "File \u001b[0;32m~/Dropbox/Mon Mac (Romualdraphique)/Desktop/code/Simplon/brief/Projet-OpenFood/documents_other/.venv/lib/python3.12/site-packages/joblib/numpy_pickle.py:650\u001b[0m, in \u001b[0;36mload\u001b[0;34m(filename, mmap_mode)\u001b[0m\n\u001b[1;32m    648\u001b[0m         obj \u001b[38;5;241m=\u001b[39m _unpickle(fobj)\n\u001b[1;32m    649\u001b[0m \u001b[38;5;28;01melse\u001b[39;00m:\n\u001b[0;32m--> 650\u001b[0m     \u001b[38;5;28;01mwith\u001b[39;00m \u001b[38;5;28;43mopen\u001b[39;49m\u001b[43m(\u001b[49m\u001b[43mfilename\u001b[49m\u001b[43m,\u001b[49m\u001b[43m \u001b[49m\u001b[38;5;124;43m'\u001b[39;49m\u001b[38;5;124;43mrb\u001b[39;49m\u001b[38;5;124;43m'\u001b[39;49m\u001b[43m)\u001b[49m \u001b[38;5;28;01mas\u001b[39;00m f:\n\u001b[1;32m    651\u001b[0m         \u001b[38;5;28;01mwith\u001b[39;00m _read_fileobject(f, filename, mmap_mode) \u001b[38;5;28;01mas\u001b[39;00m fobj:\n\u001b[1;32m    652\u001b[0m             \u001b[38;5;28;01mif\u001b[39;00m \u001b[38;5;28misinstance\u001b[39m(fobj, \u001b[38;5;28mstr\u001b[39m):\n\u001b[1;32m    653\u001b[0m                 \u001b[38;5;66;03m# if the returned file object is a string, this means we\u001b[39;00m\n\u001b[1;32m    654\u001b[0m                 \u001b[38;5;66;03m# try to load a pickle file generated with an version of\u001b[39;00m\n\u001b[1;32m    655\u001b[0m                 \u001b[38;5;66;03m# Joblib so we load it with joblib compatibility function.\u001b[39;00m\n",
      "\u001b[0;31mFileNotFoundError\u001b[0m: [Errno 2] No such file or directory: 'note-books/phase_2_training/08_stacking_model/stacking_model_optimized.joblib'"
     ]
    }
   ],
   "source": [
    "# Charger le modèle Random Forest optimisé\n",
    "rf_model_path = 'note-books/phase_2_training/08_random_forest_optimized/Random_Forest_20_percent_optimized.joblib'\n",
    "random_forest_model = joblib.load(rf_model_path)\n",
    "\n",
    "# Prédire et évaluer les performances\n",
    "y_pred_rf = random_forest_model.predict(X_test)\n",
    "mse_rf = mean_squared_error(y_test, y_pred_rf)\n",
    "r2_rf = r2_score(y_test, y_pred_rf)\n",
    "\n",
    "print(f\"Performances du modèle Random Forest optimisé :\")\n",
    "print(f\"Mean Squared Error (MSE) : {mse_rf}\")\n",
    "print(f\"Coefficient de détermination (R²) : {r2_rf}\")\n",
    "\n",
    "# Sauvegarde du modèle final pour le déploiement\n",
    "final_model_path = 'note-books/phase_2_training/09_final_model'\n",
    "os.makedirs(final_model_path, exist_ok=True)\n",
    "joblib.dump(random_forest_model, f'{final_model_path}/final_deployment_model.joblib')\n",
    "print(f\"\\nModèle final sauvegardé pour le déploiement sous : {final_model_path}/final_deployment_model.joblib\")\n"
   ]
  },
  {
   "cell_type": "markdown",
   "metadata": {},
   "source": [
    "---\n",
    "\n",
    "## Étape 5 : Comparaison des modèles et sélection du modèle final\n",
    "\n",
    "Cette étape permet de comparer directement les performances des deux modèles et de choisir celui qui sera déployé."
   ]
  },
  {
   "cell_type": "code",
   "execution_count": null,
   "metadata": {},
   "outputs": [],
   "source": [
    "# Comparer les performances des deux modèles\n",
    "print(\"\\nComparaison des performances :\")\n",
    "print(f\"Random Forest - MSE : {mse_rf}, R² : {r2_rf}\")\n",
    "print(f\"Stacking - MSE : {mse_stack}, R² : {r2_stack}\")\n",
    "\n",
    "# Décision basée sur les performances et la simplicité\n",
    "if r2_rf > r2_stack:\n",
    "    print(\"\\nLe modèle Random Forest est sélectionné pour le déploiement en raison de ses meilleures performances.\")\n",
    "    final_model = random_forest_model\n",
    "else:\n",
    "    print(\"\\nLe modèle de stacking est sélectionné pour le déploiement.\")\n",
    "    final_model = stacking_model"
   ]
  },
  {
   "cell_type": "markdown",
   "metadata": {},
   "source": [
    "---\n",
    "\n",
    "## Étape 6 : Sauvegarder le modèle final pour le déploiement\n",
    "\n",
    "Nous sauvegardons le modèle sélectionné pour le déploiement afin de l'utiliser directement en production."
   ]
  },
  {
   "cell_type": "code",
   "execution_count": null,
   "metadata": {},
   "outputs": [],
   "source": [
    "# Dossier de sauvegarde pour le modèle final\n",
    "final_model_path = 'note-books/phase_2_training/09_final_model'\n",
    "os.makedirs(final_model_path, exist_ok=True)\n",
    "\n",
    "# Sauvegarder le modèle final\n",
    "joblib.dump(final_model, f'{final_model_path}/final_deployment_model.joblib')\n",
    "print(f\"\\nModèle final sauvegardé pour le déploiement sous : {final_model_path}/final_deployment_model.joblib\")"
   ]
  },
  {
   "cell_type": "markdown",
   "metadata": {},
   "source": [
    "\n",
    "---\n",
    "\n",
    "### Explication des étapes\n",
    "\n",
    "1. **Chargement et évaluation des modèles** : Nous avons chargé le modèle Random Forest et le modèle de stacking pour évaluer leurs performances.\n",
    "2. **Comparaison directe des performances** : En comparant les scores MSE et R² des deux modèles, nous avons sélectionné celui qui obtient le meilleur résultat, tout en tenant compte de la simplicité pour le déploiement.\n",
    "3. **Sauvegarde pour le déploiement** : Le modèle final choisi est sauvegardé pour être utilisé directement en production.\n",
    "\n",
    "---\n",
    "\n",
    "### Résumé\n",
    "\n",
    "Dans ce notebook, nous avons :\n",
    "1. Évalué les performances finales de deux modèles, **Random Forest** et **stacking**.\n",
    "2. Comparé leurs résultats pour sélectionner le modèle le plus performant et le plus simple à déployer.\n",
    "3. Sauvegardé le modèle final pour la phase de déploiement.\n",
    "\n",
    "**Conclusion :** Le modèle **Random Forest optimisé** est retenu pour le déploiement en raison de ses meilleures performances et de sa rapidité."
   ]
  }
 ],
 "metadata": {
  "kernelspec": {
   "display_name": ".venv",
   "language": "python",
   "name": "python3"
  },
  "language_info": {
   "codemirror_mode": {
    "name": "ipython",
    "version": 3
   },
   "file_extension": ".py",
   "mimetype": "text/x-python",
   "name": "python",
   "nbconvert_exporter": "python",
   "pygments_lexer": "ipython3",
   "version": "3.12.6"
  }
 },
 "nbformat": 4,
 "nbformat_minor": 2
}
