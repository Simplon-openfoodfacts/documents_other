{
 "cells": [
  {
   "cell_type": "markdown",
   "metadata": {},
   "source": [
    "---\n",
    "\n",
    "# Notebook : Entraînement et sélection des modèles pour la prédiction du Nutri-Score\n",
    "\n",
    "**Objectifs :**\n",
    "1. Entraîner six modèles pour identifier les deux meilleurs en termes de prédiction de `nutriscore_grade`.\n",
    "2. Utiliser une fraction de 10% pour chaque entraînement afin de limiter le risque de surapprentissage.\n",
    "3. Comparer les performances des modèles avec une visualisation graphique, puis sélectionner les deux meilleurs pour des étapes d'optimisation avancées.\n",
    "4. Afficher les paramètres statistiques (intercept et coefficients) pour chaque modèle lorsque cela est possible.\n",
    "\n",
    "---\n",
    "\n",
    "## Étape 1 : Importer les bibliothèques nécessaires et charger les données\n"
   ]
  },
  {
   "cell_type": "code",
   "execution_count": 7,
   "metadata": {},
   "outputs": [],
   "source": [
    "import pandas as pd\n",
    "from sklearn.model_selection import train_test_split, GridSearchCV\n",
    "from sklearn.linear_model import LinearRegression, Ridge, Lasso\n",
    "from sklearn.ensemble import RandomForestRegressor, GradientBoostingRegressor\n",
    "from sklearn.tree import DecisionTreeRegressor\n",
    "from sklearn.metrics import mean_squared_error, r2_score\n",
    "import matplotlib.pyplot as plt\n",
    "import joblib\n",
    "import os"
   ]
  },
  {
   "cell_type": "markdown",
   "metadata": {},
   "source": [
    "---\n",
    "\n",
    "## Étape 2 : Charger les données et préparer les variables\n"
   ]
  },
  {
   "cell_type": "code",
   "execution_count": 8,
   "metadata": {},
   "outputs": [],
   "source": [
    "# Charger les données\n",
    "file_path = 'note-books/phase_2_training/04_correlation_analysis/data_final_features.csv'\n",
    "df = pd.read_csv(file_path)\n",
    "\n",
    "# Encoder `nutriscore_grade` en valeurs numériques\n",
    "df['nutriscore_grade_encoded'] = df['nutriscore_grade'].map({'a': 0, 'b': 1, 'c': 2, 'd': 3, 'e': 4})\n",
    "\n",
    "# Préparer les variables explicatives et la cible en utilisant les colonnes sélectionnées\n",
    "X = df[['fat_100g', 'saturated-fat_100g', 'energy-kcal_100g', 'sugars_100g', 'salt_100g', 'proteins_100g']]\n",
    "y = df['nutriscore_grade_encoded']\n",
    "\n",
    "# Fractionner les données : 90% pour validation croisée, 10% pour l'entraînement de chaque modèle\n",
    "X_remaining, X_train, y_remaining, y_train = train_test_split(X, y, test_size=0.1, random_state=42)"
   ]
  },
  {
   "cell_type": "markdown",
   "metadata": {},
   "source": [
    "---\n",
    "\n",
    "## Étape 3 : Définir les modèles et les grilles d’hyperparamètres"
   ]
  },
  {
   "cell_type": "code",
   "execution_count": 9,
   "metadata": {},
   "outputs": [],
   "source": [
    "# Liste des modèles et des hyperparamètres\n",
    "models = [\n",
    "    ('Linear Regression', LinearRegression(), {'fit_intercept': [True, False]}),\n",
    "    ('Ridge', Ridge(), {'alpha': [0.1, 1.0, 10.0, 100.0]}),\n",
    "    ('Lasso', Lasso(), {'alpha': [0.01, 0.1, 1.0, 10.0]}),\n",
    "    ('Decision Tree', DecisionTreeRegressor(), {'max_depth': [5, 10, 15, 20]}),\n",
    "    ('Random Forest', RandomForestRegressor(), {\n",
    "        'n_estimators': [50, 100],\n",
    "        'max_depth': [None, 10]\n",
    "    }),\n",
    "    ('Gradient Boosting', GradientBoostingRegressor(), {\n",
    "        'n_estimators': [50, 100],\n",
    "        'learning_rate': [0.01, 0.1, 0.2]\n",
    "    })\n",
    "]"
   ]
  },
  {
   "cell_type": "markdown",
   "metadata": {},
   "source": [
    "---\n",
    "\n",
    "## Étape 4 : Entraîner les modèles avec `GridSearchCV` et afficher les statistiques"
   ]
  },
  {
   "cell_type": "code",
   "execution_count": 10,
   "metadata": {},
   "outputs": [
    {
     "name": "stdout",
     "output_type": "stream",
     "text": [
      "Entraînement de Linear Regression en cours...\n",
      "Intercept pour Linear Regression : 1.2649981546523408\n",
      "Coefficients pour Linear Regression : [ 0.02516221  0.06690188  0.00137401  0.01671599  0.33299556 -0.04060022]\n",
      "Aperçu des résidus pour Linear Regression :\n",
      "147259    0.643179\n",
      "63966    -0.415476\n",
      "153664   -0.938182\n",
      "126983   -0.608761\n",
      "53030     0.166628\n",
      "Name: nutriscore_grade_encoded, dtype: float64\n",
      "\n",
      "Linear Regression terminé. Meilleur MSE : 1.0700856385352429, R² : 0.40576994793426\n",
      "----------------------------------------\n",
      "Entraînement de Ridge en cours...\n",
      "Intercept pour Ridge : 1.2651938017277073\n",
      "Coefficients pour Ridge : [ 0.02516728  0.06689999  0.00137392  0.01671164  0.33256496 -0.04058869]\n",
      "Aperçu des résidus pour Ridge :\n",
      "147259    0.643598\n",
      "63966    -0.415486\n",
      "153664   -0.938594\n",
      "126983   -0.609053\n",
      "53030     0.166797\n",
      "Name: nutriscore_grade_encoded, dtype: float64\n",
      "\n",
      "Ridge terminé. Meilleur MSE : 1.0700920623293058, R² : 0.4057663807323997\n",
      "----------------------------------------\n",
      "Entraînement de Lasso en cours...\n",
      "Intercept pour Lasso : 1.274396897014317\n",
      "Coefficients pour Lasso : [ 0.02538665  0.06647811  0.00137255  0.01647047  0.3109029  -0.03977665]\n",
      "Aperçu des résidus pour Lasso :\n",
      "147259    0.667961\n",
      "63966    -0.414472\n",
      "153664   -0.963005\n",
      "126983   -0.617223\n",
      "53030     0.175838\n",
      "Name: nutriscore_grade_encoded, dtype: float64\n",
      "\n",
      "Lasso terminé. Meilleur MSE : 1.0706631559626547, R² : 0.4054492463019779\n",
      "----------------------------------------\n",
      "Entraînement de Decision Tree en cours...\n",
      "Aperçu des résidus pour Decision Tree :\n",
      "147259    0.038462\n",
      "63966     0.333333\n",
      "153664   -0.740899\n",
      "126983   -1.000000\n",
      "53030     0.710579\n",
      "Name: nutriscore_grade_encoded, dtype: float64\n",
      "\n",
      "Decision Tree terminé. Meilleur MSE : 0.6026551259661376, R² : 0.665339133631641\n",
      "----------------------------------------\n",
      "Entraînement de Random Forest en cours...\n",
      "Aperçu des résidus pour Random Forest :\n",
      "147259    0.2500\n",
      "63966     0.6100\n",
      "153664   -0.0300\n",
      "126983   -0.3800\n",
      "53030     0.3675\n",
      "Name: nutriscore_grade_encoded, dtype: float64\n",
      "\n",
      "Random Forest terminé. Meilleur MSE : 0.4454163719143671, R² : 0.7526555031278552\n",
      "----------------------------------------\n",
      "Entraînement de Gradient Boosting en cours...\n",
      "Aperçu des résidus pour Gradient Boosting :\n",
      "147259    0.567308\n",
      "63966     0.350584\n",
      "153664   -0.189023\n",
      "126983   -0.759551\n",
      "53030     0.818802\n",
      "Name: nutriscore_grade_encoded, dtype: float64\n",
      "\n",
      "Gradient Boosting terminé. Meilleur MSE : 0.503420741164607, R² : 0.7204450536849574\n",
      "----------------------------------------\n"
     ]
    }
   ],
   "source": [
    "# Initialiser une liste pour stocker les résultats\n",
    "results = []\n",
    "\n",
    "for model_name, model, param_grid in models:\n",
    "    print(f\"Entraînement de {model_name} en cours...\")\n",
    "\n",
    "    # Initialiser GridSearchCV pour la recherche d’hyperparamètres\n",
    "    grid_search = GridSearchCV(\n",
    "        model, param_grid, scoring='neg_mean_squared_error', cv=5, n_jobs=-1\n",
    "    )\n",
    "    \n",
    "    # Entraîner le modèle\n",
    "    grid_search.fit(X_train, y_train)\n",
    "\n",
    "    # Meilleurs paramètres et score\n",
    "    best_model = grid_search.best_estimator_\n",
    "    y_pred = best_model.predict(X_remaining)\n",
    "    mse = mean_squared_error(y_remaining, y_pred)\n",
    "    r2 = r2_score(y_remaining, y_pred)\n",
    "\n",
    "    # Afficher les paramètres statistiques (si applicable)\n",
    "    if hasattr(best_model, 'intercept_'):\n",
    "        print(f\"Intercept pour {model_name} : {best_model.intercept_}\")\n",
    "    if hasattr(best_model, 'coef_'):\n",
    "        print(f\"Coefficients pour {model_name} : {best_model.coef_}\")\n",
    "\n",
    "    # Calculer les résidus (écarts entre valeurs réelles et prédites)\n",
    "    residuals = y_remaining - y_pred\n",
    "    print(f\"Aperçu des résidus pour {model_name} :\\n{residuals.head()}\\n\")\n",
    "\n",
    "    # Stocker les résultats\n",
    "    results.append({\n",
    "        'Modèle': model_name,\n",
    "        'Best Params': grid_search.best_params_,\n",
    "        'MSE': mse,\n",
    "        'R²': r2,\n",
    "        'Model Object': best_model\n",
    "    })\n",
    "\n",
    "    print(f\"{model_name} terminé. Meilleur MSE : {mse}, R² : {r2}\")\n",
    "    print(\"-\" * 40)"
   ]
  },
  {
   "cell_type": "markdown",
   "metadata": {},
   "source": [
    "---\n",
    "\n",
    "## Étape 5 : Comparer et visualiser les performances\n",
    "\n",
    "Nous trions les modèles par MSE et utilisons un graphique pour comparer leurs performances afin de choisir les deux meilleurs modèles."
   ]
  },
  {
   "cell_type": "code",
   "execution_count": 11,
   "metadata": {},
   "outputs": [
    {
     "data": {
      "image/png": "[encoded data removed]",
      "text/plain": [
       "<Figure size 1000x600 with 1 Axes>"
      ]
     },
     "metadata": {},
     "output_type": "display_data"
    }
   ],
   "source": [
    "# Convertir les résultats en DataFrame et trier par MSE\n",
    "results_df = pd.DataFrame(results)\n",
    "results_df = results_df.sort_values(by='MSE').reset_index(drop=True)\n",
    "\n",
    "# Visualisation des MSE pour chaque modèle\n",
    "plt.figure(figsize=(10, 6))\n",
    "plt.barh(results_df['Modèle'], results_df['MSE'], color='skyblue')\n",
    "plt.xlabel('Mean Squared Error (MSE)')\n",
    "plt.title('Comparaison des performances des modèles')\n",
    "plt.gca().invert_yaxis()\n",
    "plt.show()\n",
    "\n",
    "# Sélection des deux meilleurs modèles\n",
    "top_models = results_df.nsmallest(2, 'MSE')"
   ]
  },
  {
   "cell_type": "markdown",
   "metadata": {},
   "source": [
    "---\n",
    "\n",
    "## Étape 6 : Sauvegarder les deux meilleurs modèles pour des optimisations ultérieures"
   ]
  },
  {
   "cell_type": "code",
   "execution_count": 12,
   "metadata": {},
   "outputs": [
    {
     "name": "stdout",
     "output_type": "stream",
     "text": [
      "\n",
      "Les deux meilleurs modèles optimisés et les résultats de performance ont été sauvegardés dans le dossier : note-books/phase_2_training/06_model_selection_comparison\n"
     ]
    }
   ],
   "source": [
    "# Définir le dossier de sortie\n",
    "output_folder = 'note-books/phase_2_training/06_model_selection_comparison'\n",
    "\n",
    "# Créer le dossier s'il n'existe pas\n",
    "os.makedirs(output_folder, exist_ok=True)\n",
    "\n",
    "# Sauvegarder les deux meilleurs modèles\n",
    "for i in range(2):\n",
    "    model_name = top_models.iloc[i]['Modèle']\n",
    "    best_model = top_models.iloc[i]['Model Object']\n",
    "    model_path = os.path.join(output_folder, f'{model_name.replace(\" \", \"_\")}_optimized.joblib')\n",
    "    joblib.dump(best_model, model_path)\n",
    "\n",
    "print(f\"\\nLes deux meilleurs modèles optimisés et les résultats de performance ont été sauvegardés dans le dossier : {output_folder}\")"
   ]
  },
  {
   "cell_type": "markdown",
   "metadata": {},
   "source": [
    "\n",
    "---\n",
    "\n",
    "### Explication des étapes\n",
    "\n",
    "1. **Fractionnement des données** : Utilisation de 10% des données pour l’entraînement, réduisant le risque de surapprentissage.\n",
    "2. **Entraînement de six modèles** : Chaque modèle est optimisé avec `GridSearchCV` pour trouver les meilleurs hyperparamètres.\n",
    "3. **Paramètres statistiques** : Pour chaque modèle, nous affichons les statistiques disponibles (intercept et coefficients) afin de mieux comprendre les effets des variables.\n",
    "4. **Comparaison visuelle** : Utilisation d’un graphique pour comparer les performances et identifier les deux meilleurs modèles en termes de MSE.\n",
    "5. **Sauvegarde des meilleurs modèles** : Sauvegarde des deux modèles les plus performants pour une optimisation future.\n",
    "\n",
    "---\n",
    "\n",
    "### Résumé\n",
    "\n",
    "Dans ce notebook, nous avons :\n",
    "1. Chargé et préparé les données en sélectionnant les variables pertinentes.\n",
    "2. Défini et entraîné six modèles avec des hyperparamètres adaptés.\n",
    "3. Comparé visuellement les performances pour identifier les deux modèles les plus performants.\n",
    "4. Sauvegardé ces deux modèles pour des étapes d’optimisation et d’entraînement approfondis.\n",
    "5. Affiché les paramètres statistiques pour chaque modèle lorsque disponibles (intercept, coefficients, résidus).\n",
    "\n",
    "Ce workflow met en avant les étapes clés pour sélectionner les modèles optimaux pour la prédiction de `nutriscore_grade`, avec une comparaison claire et des statistiques pour mieux comprendre les performances."
   ]
  }
 ],
 "metadata": {
  "kernelspec": {
   "display_name": ".venv",
   "language": "python",
   "name": "python3"
  },
  "language_info": {
   "codemirror_mode": {
    "name": "ipython",
    "version": 3
   },
   "file_extension": ".py",
   "mimetype": "text/x-python",
   "name": "python",
   "nbconvert_exporter": "python",
   "pygments_lexer": "ipython3",
   "version": "3.12.6"
  }
 },
 "nbformat": 4,
 "nbformat_minor": 2
}
