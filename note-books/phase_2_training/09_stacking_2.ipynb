{
 "cells": [
  {
   "cell_type": "markdown",
   "metadata": {},
   "source": [
    "---\n",
    "\n",
    "# Notebook : Stacking avec Random Forest, Gradient Boosting, et Régression Linéaire\n",
    "\n",
    "**Objectifs :**\n",
    "1. Construire un modèle de stacking combinant **Random Forest**, **Gradient Boosting**, et **Régression Linéaire** comme modèles de base.\n",
    "2. Utiliser un **meta-modèle** (Régression Linéaire) pour effectuer les prédictions finales, en apprenant à partir des prédictions de base de chaque modèle.\n",
    "3. Évaluer les performances du modèle de stacking optimisé sur le jeu de test.\n",
    "\n",
    "---\n",
    "\n",
    "## Étape 1 : Importer les bibliothèques nécessaires et charger les données"
   ]
  },
  {
   "cell_type": "code",
   "execution_count": 1,
   "metadata": {},
   "outputs": [],
   "source": [
    "import pandas as pd\n",
    "from sklearn.model_selection import train_test_split, cross_val_score\n",
    "from sklearn.ensemble import RandomForestRegressor, GradientBoostingRegressor, StackingRegressor\n",
    "from sklearn.linear_model import LinearRegression\n",
    "from sklearn.metrics import mean_squared_error, r2_score\n",
    "import numpy as np\n",
    "import joblib\n",
    "import os"
   ]
  },
  {
   "cell_type": "markdown",
   "metadata": {},
   "source": [
    "---\n",
    "\n",
    "## Étape 2 : Charger et préparer les données"
   ]
  },
  {
   "cell_type": "code",
   "execution_count": 2,
   "metadata": {},
   "outputs": [],
   "source": [
    "# Charger les données complètes\n",
    "file_path = 'note-books/phase_2_training/04_correlation_analysis/data_final_features.csv'\n",
    "df = pd.read_csv(file_path)\n",
    "\n",
    "# Encoder `nutriscore_grade` en valeurs numériques\n",
    "df['nutriscore_grade_encoded'] = df['nutriscore_grade'].map({'a': 0, 'b': 1, 'c': 2, 'd': 3, 'e': 4})\n",
    "\n",
    "# Préparer les variables explicatives et la cible\n",
    "X = df[['fat_100g', 'saturated-fat_100g', 'energy-kcal_100g', 'sugars_100g', 'salt_100g', 'proteins_100g']]\n",
    "y = df['nutriscore_grade_encoded']\n",
    "\n",
    "# Diviser les données en ensembles d'entraînement et de test (80/20)\n",
    "X_train, X_test, y_train, y_test = train_test_split(X, y, test_size=0.2, random_state=42)"
   ]
  },
  {
   "cell_type": "markdown",
   "metadata": {},
   "source": [
    "---\n",
    "\n",
    "## Étape 3 : Définir les modèles de base et le meta-modèle\n",
    "\n",
    "Nous allons définir trois modèles de base : Random Forest, Gradient Boosting et Régression Linéaire. Le modèle de stacking utilisera une **Régression Linéaire** comme meta-modèle.\n"
   ]
  },
  {
   "cell_type": "code",
   "execution_count": 3,
   "metadata": {},
   "outputs": [],
   "source": [
    "# Modèles de base\n",
    "base_models = [\n",
    "    ('random_forest', RandomForestRegressor(n_estimators=100, random_state=42)),\n",
    "    ('gradient_boosting', GradientBoostingRegressor(n_estimators=100, learning_rate=0.1, random_state=42)),\n",
    "    ('linear_regression', LinearRegression())\n",
    "]\n",
    "\n",
    "# Meta-modèle\n",
    "meta_model = LinearRegression()\n",
    "\n",
    "# Créer le Stacking Regressor\n",
    "stacking_model = StackingRegressor(estimators=base_models, final_estimator=meta_model, n_jobs=-1)"
   ]
  },
  {
   "cell_type": "markdown",
   "metadata": {},
   "source": [
    "---\n",
    "\n",
    "## Étape 4 : Entraîner le modèle de stacking"
   ]
  },
  {
   "cell_type": "code",
   "execution_count": 4,
   "metadata": {},
   "outputs": [
    {
     "name": "stdout",
     "output_type": "stream",
     "text": [
      "Entraînement du modèle de stacking terminé.\n"
     ]
    }
   ],
   "source": [
    "# Entraîner le modèle de stacking sur l'ensemble d'entraînement\n",
    "stacking_model.fit(X_train, y_train)\n",
    "print(\"Entraînement du modèle de stacking terminé.\")"
   ]
  },
  {
   "cell_type": "markdown",
   "metadata": {},
   "source": [
    "---\n",
    "\n",
    "## Étape 5 : Évaluer les performances du modèle de stacking\n",
    "\n",
    "Nous allons maintenant évaluer les performances sur le jeu de test en utilisant le MSE et le coefficient de détermination R²."
   ]
  },
  {
   "cell_type": "code",
   "execution_count": 5,
   "metadata": {},
   "outputs": [
    {
     "name": "stdout",
     "output_type": "stream",
     "text": [
      "Évaluation des performances du modèle de stacking :\n",
      "Mean Squared Error (MSE) : 0.35625504122547597\n",
      "Coefficient de détermination (R²) : 0.8028500739601341\n"
     ]
    }
   ],
   "source": [
    "# Prédire sur le jeu de test\n",
    "y_pred = stacking_model.predict(X_test)\n",
    "\n",
    "# Calculer les métriques de performance\n",
    "mse = mean_squared_error(y_test, y_pred)\n",
    "r2 = r2_score(y_test, y_pred)\n",
    "\n",
    "print(\"Évaluation des performances du modèle de stacking :\")\n",
    "print(f\"Mean Squared Error (MSE) : {mse}\")\n",
    "print(f\"Coefficient de détermination (R²) : {r2}\")"
   ]
  },
  {
   "cell_type": "markdown",
   "metadata": {},
   "source": [
    "---\n",
    "\n",
    "## Étape 6 : Sauvegarder le modèle de stacking\n",
    "\n",
    "Si les performances sont satisfaisantes, sauvegardons le modèle pour une utilisation ultérieure.\n"
   ]
  },
  {
   "cell_type": "code",
   "execution_count": 6,
   "metadata": {},
   "outputs": [
    {
     "name": "stdout",
     "output_type": "stream",
     "text": [
      "Modèle de stacking sauvegardé sous : note-books/phase_2_training/08_stacking_advanced/stacking_model_optimized.joblib\n"
     ]
    }
   ],
   "source": [
    "# Définir le chemin de sauvegarde\n",
    "output_folder = 'note-books/phase_2_training/08_stacking_advanced'\n",
    "os.makedirs(output_folder, exist_ok=True)\n",
    "stacking_model_path = os.path.join(output_folder, 'stacking_model_optimized.joblib')\n",
    "\n",
    "# Sauvegarder le modèle de stacking\n",
    "joblib.dump(stacking_model, stacking_model_path)\n",
    "print(f\"Modèle de stacking sauvegardé sous : {stacking_model_path}\")"
   ]
  },
  {
   "cell_type": "markdown",
   "metadata": {},
   "source": [
    "---\n",
    "\n",
    "### Explication des étapes\n",
    "\n",
    "1. **Construction du stacking** : Le modèle de stacking utilise trois modèles de base (Random Forest, Gradient Boosting, et Régression Linéaire) pour capturer les différentes relations dans les données.\n",
    "2. **Entraînement et évaluation** : Le stacking est entraîné sur l'ensemble d'entraînement, puis évalué sur le jeu de test pour vérifier sa performance.\n",
    "3. **Sauvegarde** : Le modèle de stacking est sauvegardé pour des tests supplémentaires ou pour un déploiement.\n",
    "\n",
    "---\n",
    "\n",
    "### Résumé\n",
    "\n",
    "Dans ce notebook, nous avons :\n",
    "1. Défini et entraîné un modèle de stacking avancé utilisant Random Forest, Gradient Boosting, et Régression Linéaire comme modèles de base.\n",
    "2. Utilisé la Régression Linéaire comme meta-modèle pour générer les prédictions finales.\n",
    "3. Évalué les performances sur le jeu de test et sauvegardé le modèle.\n",
    "\n"
   ]
  }
 ],
 "metadata": {
  "kernelspec": {
   "display_name": ".venv",
   "language": "python",
   "name": "python3"
  },
  "language_info": {
   "codemirror_mode": {
    "name": "ipython",
    "version": 3
   },
   "file_extension": ".py",
   "mimetype": "text/x-python",
   "name": "python",
   "nbconvert_exporter": "python",
   "pygments_lexer": "ipython3",
   "version": "3.12.6"
  }
 },
 "nbformat": 4,
 "nbformat_minor": 2
}
