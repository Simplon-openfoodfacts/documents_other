{
 "cells": [
  {
   "cell_type": "markdown",
   "metadata": {},
   "source": [
    "---\n",
    "\n",
    "# Notebook : Réunion des fichiers CSV en un fichier consolidé\n",
    "\n",
    "**Objectif :** Ce notebook a pour but de rassembler tous les fichiers CSV situés dans le dossier `note-books/phase_2_training/01_tri_CSV` en un seul fichier, sans faire de tri ni de nettoyage. Cela nous permettra de disposer d'un fichier de données unique pour faciliter les analyses futures.\n",
    "\n",
    "---\n",
    "\n",
    "## Étape 1 : Importer les bibliothèques nécessaires"
   ]
  },
  {
   "cell_type": "code",
   "execution_count": null,
   "metadata": {},
   "outputs": [],
   "source": [
    "import pandas as pd\n",
    "import os"
   ]
  },
  {
   "cell_type": "markdown",
   "metadata": {},
   "source": [
    "**Explication :**  \n",
    "- `pandas` est utilisé pour manipuler les données, en particulier les fichiers CSV.\n",
    "- `os` nous aide à naviguer dans le système de fichiers et à créer des dossiers.\n",
    "\n",
    "---\n",
    "\n",
    "## Étape 2 : Lister tous les fichiers CSV dans le dossier cible"
   ]
  },
  {
   "cell_type": "code",
   "execution_count": null,
   "metadata": {},
   "outputs": [],
   "source": [
    "# Spécifiez le dossier contenant les fichiers CSV\n",
    "folder_path = 'note-books/phase_2_training/01_tri_CSV'\n",
    "\n",
    "# Lister tous les fichiers CSV dans le dossier\n",
    "csv_files = [f for f in os.listdir(folder_path) if f.endswith('.csv')]\n",
    "\n",
    "# Afficher la liste des fichiers trouvés\n",
    "print(\"Fichiers CSV trouvés dans le dossier :\")\n",
    "print(csv_files)"
   ]
  },
  {
   "cell_type": "markdown",
   "metadata": {},
   "source": [
    "**Explication :**  \n",
    "- `os.listdir(folder_path)` liste tous les fichiers dans le dossier, et nous filtrons pour ne garder que ceux qui se terminent par `.csv`.\n",
    "- Cela nous permet de vérifier que tous les fichiers CSV ont bien été trouvés.\n",
    "\n",
    "---\n",
    "## Étape 3 : Charger chaque fichier CSV et les ajouter à une liste"
   ]
  },
  {
   "cell_type": "code",
   "execution_count": null,
   "metadata": {},
   "outputs": [],
   "source": [
    "# Initialiser une liste pour stocker les DataFrames\n",
    "dataframes = []\n",
    "\n",
    "# Charger chaque fichier CSV et l'ajouter à la liste des DataFrames\n",
    "for file in csv_files:\n",
    "    file_path = os.path.join(folder_path, file)\n",
    "    df = pd.read_csv(file_path)\n",
    "    dataframes.append(df)\n",
    "    print(f\"{file} chargé avec succès.\")"
   ]
  },
  {
   "cell_type": "code",
   "execution_count": null,
   "metadata": {},
   "outputs": [],
   "source": [
    "**Explication :**  \n",
    "- Nous chargeons chaque fichier CSV dans un DataFrame, puis l'ajoutons à la liste `dataframes`.\n",
    "- Cela permet de préparer chaque fichier pour la concaténation.\n",
    "\n",
    "---\n",
    "\n",
    "## Étape 4 : Concaténer tous les DataFrames en un seul"
   ]
  },
  {
   "cell_type": "code",
   "execution_count": null,
   "metadata": {},
   "outputs": [],
   "source": [
    "# Concaténer tous les DataFrames en un seul\n",
    "data_consolidated = pd.concat(dataframes, ignore_index=True)\n",
    "\n",
    "# Afficher un aperçu des premières lignes du fichier consolidé\n",
    "print(\"Aperçu des données consolidées :\")\n",
    "print(data_consolidated.head())"
   ]
  },
  {
   "cell_type": "markdown",
   "metadata": {},
   "source": [
    "**Explication :**  \n",
    "- `pd.concat(dataframes, ignore_index=True)` combine tous les DataFrames de la liste `dataframes` en un seul DataFrame `data_consolidated`.\n",
    "\n",
    "---\n",
    "\n",
    "## Étape 5 : Créer le dossier de sortie et sauvegarder le fichier consolidé\n",
    "\n",
    "Avant de sauvegarder, nous vérifions si le dossier de destination `02_data_consolidation` existe ; s'il n'existe pas, nous le créons avec `os.makedirs()`."
   ]
  },
  {
   "cell_type": "code",
   "execution_count": null,
   "metadata": {},
   "outputs": [],
   "source": [
    "# Définir le dossier de sortie\n",
    "output_folder = 'note-books/phase_2_training/02_data_consolidation'\n",
    "\n",
    "# Créer le dossier s'il n'existe pas\n",
    "os.makedirs(output_folder, exist_ok=True)\n",
    "\n",
    "# Définir le chemin complet pour le fichier consolidé\n",
    "output_path = os.path.join(output_folder, 'data_consolidated.csv')\n",
    "\n",
    "# Sauvegarder le fichier consolidé\n",
    "data_consolidated.to_csv(output_path, index=False)\n",
    "\n",
    "print(f\"Fichier consolidé sauvegardé sous : {output_path}\")"
   ]
  },
  {
   "cell_type": "markdown",
   "metadata": {},
   "source": [
    "**Explication :**  \n",
    "- `os.makedirs(output_folder, exist_ok=True)` crée le dossier `02_data_consolidation` s'il n'existe pas déjà.\n",
    "- `data_consolidated.to_csv(output_path, index=False)` enregistre le DataFrame consolidé dans le dossier `02_data_consolidation` avec le nom `data_consolidated.csv`.\n",
    "\n",
    "---\n",
    "\n",
    "### Résumé\n",
    "\n",
    "Ce notebook :\n",
    "1. Importe les bibliothèques nécessaires.\n",
    "2. Liste les fichiers CSV dans le dossier source.\n",
    "3. Charge chaque fichier CSV et les concatène en un seul DataFrame.\n",
    "4. Crée un dossier `02_data_consolidation` pour ranger le fichier de sortie.\n",
    "5. Sauvegarde le DataFrame consolidé dans `02_data_consolidation/data_consolidated.csv`."
   ]
  }
 ],
 "metadata": {
  "kernelspec": {
   "display_name": ".venv",
   "language": "python",
   "name": "python3"
  },
  "language_info": {
   "codemirror_mode": {
    "name": "ipython",
    "version": 3
   },
   "file_extension": ".py",
   "mimetype": "text/x-python",
   "name": "python",
   "nbconvert_exporter": "python",
   "pygments_lexer": "ipython3",
   "version": "3.12.6"
  }
 },
 "nbformat": 4,
 "nbformat_minor": 2
}
