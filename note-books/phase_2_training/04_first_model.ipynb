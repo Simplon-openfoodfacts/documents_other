{
 "cells": [
  {
   "cell_type": "markdown",
   "metadata": {},
   "source": [
    "# Notebook : Modélisation avec Régression Linéaire\n",
    "\n",
    "**Objectif :** Entraîner un modèle de régression linéaire pour prédire le `nutriscore_grade`, évaluer ses performances, et extraire des paramètres statistiques pour analyse.\n",
    "\n",
    "---\n",
    "\n",
    "## Étape 1 : Importer les bibliothèques nécessaires et charger les données\n"
   ]
  },
  {
   "cell_type": "code",
   "execution_count": 18,
   "metadata": {},
   "outputs": [],
   "source": [
    "import pandas as pd\n",
    "from sklearn.model_selection import train_test_split\n",
    "from sklearn.linear_model import LinearRegression\n",
    "from sklearn.metrics import mean_squared_error, r2_score\n",
    "import os\n",
    "import joblib"
   ]
  },
  {
   "cell_type": "markdown",
   "metadata": {},
   "source": [
    "### Charger le fichier de données finales avec les variables sélectionnées\n"
   ]
  },
  {
   "cell_type": "code",
   "execution_count": 19,
   "metadata": {},
   "outputs": [
    {
     "name": "stdout",
     "output_type": "stream",
     "text": [
      "Aperçu des premières lignes du jeu de données sélectionné :\n"
     ]
    },
    {
     "data": {
      "text/html": [
       "<div>\n",
       "<style scoped>\n",
       "    .dataframe tbody tr th:only-of-type {\n",
       "        vertical-align: middle;\n",
       "    }\n",
       "\n",
       "    .dataframe tbody tr th {\n",
       "        vertical-align: top;\n",
       "    }\n",
       "\n",
       "    .dataframe thead th {\n",
       "        text-align: right;\n",
       "    }\n",
       "</style>\n",
       "<table border=\"1\" class=\"dataframe\">\n",
       "  <thead>\n",
       "    <tr style=\"text-align: right;\">\n",
       "      <th></th>\n",
       "      <th>fat_100g</th>\n",
       "      <th>saturated-fat_100g</th>\n",
       "      <th>energy-kcal_100g</th>\n",
       "      <th>sugars_100g</th>\n",
       "      <th>salt_100g</th>\n",
       "      <th>proteins_100g</th>\n",
       "      <th>product_name</th>\n",
       "      <th>brands</th>\n",
       "      <th>categories</th>\n",
       "      <th>nutriscore_grade</th>\n",
       "    </tr>\n",
       "  </thead>\n",
       "  <tbody>\n",
       "    <tr>\n",
       "      <th>0</th>\n",
       "      <td>5.1</td>\n",
       "      <td>0.8</td>\n",
       "      <td>277.0</td>\n",
       "      <td>5.0</td>\n",
       "      <td>1.17</td>\n",
       "      <td>7.4</td>\n",
       "      <td>Pain de mie extra moelleux sans sucres ajoutÃ©s</td>\n",
       "      <td>Lidl,MaÃ®tre Jean Pierre</td>\n",
       "      <td>Pains de mie</td>\n",
       "      <td>b</td>\n",
       "    </tr>\n",
       "    <tr>\n",
       "      <th>1</th>\n",
       "      <td>14.7</td>\n",
       "      <td>8.1</td>\n",
       "      <td>361.0</td>\n",
       "      <td>3.2</td>\n",
       "      <td>0.68</td>\n",
       "      <td>0.0</td>\n",
       "      <td>Vegan Protein Bar Almond Cookie Dough</td>\n",
       "      <td>IronMaxx</td>\n",
       "      <td>NahrungsergÃ¤nzungsmittel</td>\n",
       "      <td>d</td>\n",
       "    </tr>\n",
       "    <tr>\n",
       "      <th>2</th>\n",
       "      <td>5.3</td>\n",
       "      <td>3.4</td>\n",
       "      <td>93.0</td>\n",
       "      <td>6.4</td>\n",
       "      <td>0.20</td>\n",
       "      <td>4.9</td>\n",
       "      <td>cuajada</td>\n",
       "      <td>Milbona</td>\n",
       "      <td>Lcteos</td>\n",
       "      <td>b</td>\n",
       "    </tr>\n",
       "    <tr>\n",
       "      <th>3</th>\n",
       "      <td>20.0</td>\n",
       "      <td>0.0</td>\n",
       "      <td>247.0</td>\n",
       "      <td>0.8</td>\n",
       "      <td>2.50</td>\n",
       "      <td>16.0</td>\n",
       "      <td>Salad cheese Greek Style</td>\n",
       "      <td>Milbona</td>\n",
       "      <td>Lcteos</td>\n",
       "      <td>d</td>\n",
       "    </tr>\n",
       "    <tr>\n",
       "      <th>4</th>\n",
       "      <td>1.0</td>\n",
       "      <td>0.5</td>\n",
       "      <td>377.0</td>\n",
       "      <td>3.7</td>\n",
       "      <td>0.08</td>\n",
       "      <td>13.6</td>\n",
       "      <td>Fusilli</td>\n",
       "      <td>Lidl</td>\n",
       "      <td>Pflanzliche Lebensmittel und GetrÃ¤nke</td>\n",
       "      <td>a</td>\n",
       "    </tr>\n",
       "  </tbody>\n",
       "</table>\n",
       "</div>"
      ],
      "text/plain": [
       "   fat_100g  saturated-fat_100g  energy-kcal_100g  sugars_100g  salt_100g  \\\n",
       "0       5.1                 0.8             277.0          5.0       1.17   \n",
       "1      14.7                 8.1             361.0          3.2       0.68   \n",
       "2       5.3                 3.4              93.0          6.4       0.20   \n",
       "3      20.0                 0.0             247.0          0.8       2.50   \n",
       "4       1.0                 0.5             377.0          3.7       0.08   \n",
       "\n",
       "   proteins_100g                                     product_name  \\\n",
       "0            7.4  Pain de mie extra moelleux sans sucres ajoutÃ©s   \n",
       "1            0.0            Vegan Protein Bar Almond Cookie Dough   \n",
       "2            4.9                                          cuajada   \n",
       "3           16.0                         Salad cheese Greek Style   \n",
       "4           13.6                                          Fusilli   \n",
       "\n",
       "                     brands                              categories  \\\n",
       "0  Lidl,MaÃ®tre Jean Pierre                            Pains de mie   \n",
       "1                  IronMaxx               NahrungsergÃ¤nzungsmittel   \n",
       "2                   Milbona                                  Lcteos   \n",
       "3                   Milbona                                  Lcteos   \n",
       "4                      Lidl  Pflanzliche Lebensmittel und GetrÃ¤nke   \n",
       "\n",
       "  nutriscore_grade  \n",
       "0                b  \n",
       "1                d  \n",
       "2                b  \n",
       "3                d  \n",
       "4                a  "
      ]
     },
     "execution_count": 19,
     "metadata": {},
     "output_type": "execute_result"
    }
   ],
   "source": [
    "\n",
    "file_path = 'note-books/phase_2_training/04_correlation_analysis/data_final_features.csv'\n",
    "df = pd.read_csv(file_path)\n",
    "\n",
    "# Afficher un aperçu des données\n",
    "print(\"Aperçu des premières lignes du jeu de données sélectionné :\")\n",
    "df.head()"
   ]
  },
  {
   "cell_type": "markdown",
   "metadata": {},
   "source": [
    "**Explication :**\n",
    "- Le fichier `data_final_features.csv` contient les variables nutritionnelles pour prédire `nutriscore_grade` et des identifiants de produit.\n",
    "\n",
    "---\n",
    "\n",
    "## Étape 2 : Préparer les données pour la modélisation\n",
    "\n",
    "Nous séparons la variable cible (`nutriscore_grade`) des variables explicatives, puis divisons les données en ensembles d’entraînement et de test (80/20)."
   ]
  },
  {
   "cell_type": "code",
   "execution_count": 20,
   "metadata": {},
   "outputs": [
    {
     "name": "stdout",
     "output_type": "stream",
     "text": [
      "Ensemble d'entraînement : (133647, 6)\n",
      "Ensemble de test : (33412, 6)\n"
     ]
    }
   ],
   "source": [
    "# Encoder `nutriscore_grade` en valeurs numériques pour la prédiction\n",
    "df['nutriscore_grade_encoded'] = df['nutriscore_grade'].map({'a': 0, 'b': 1, 'c': 2, 'd': 3, 'e': 4})\n",
    "\n",
    "# Définir les variables explicatives et la cible\n",
    "# Vérifiez d'abord quelles colonnes d'énergie sont disponibles\n",
    "# Utiliser seulement 'energy-kcal_100g' si 'energy_100g' est absent\n",
    "energy_column = 'energy_100g' if 'energy_100g' in df.columns else 'energy-kcal_100g'\n",
    "\n",
    "# Redéfinir les variables explicatives en fonction de la disponibilité des colonnes\n",
    "X = df[['fat_100g', 'saturated-fat_100g', energy_column, 'sugars_100g', 'salt_100g', 'proteins_100g']]\n",
    "y = df['nutriscore_grade_encoded']  # Utiliser la version encodée comme cible\n",
    "\n",
    "# Diviser les données en ensembles d'entraînement et de test (80/20)\n",
    "X_train, X_test, y_train, y_test = train_test_split(X, y, test_size=0.2, random_state=42)\n",
    "\n",
    "print(\"Ensemble d'entraînement :\", X_train.shape)\n",
    "print(\"Ensemble de test :\", X_test.shape)"
   ]
  },
  {
   "cell_type": "markdown",
   "metadata": {},
   "source": [
    "**Explication :**\n",
    "- Nous utilisons les variables nutritionnelles dans `X` pour prédire `nutriscore_grade`.\n",
    "- `train_test_split` divise les données en 80 % pour l’entraînement et 20 % pour le test.\n",
    "\n",
    "---\n",
    "\n",
    "## Étape 3 : Entraîner le modèle de régression linéaire"
   ]
  },
  {
   "cell_type": "code",
   "execution_count": 21,
   "metadata": {},
   "outputs": [
    {
     "name": "stdout",
     "output_type": "stream",
     "text": [
      "Modèle de régression linéaire entraîné.\n"
     ]
    }
   ],
   "source": [
    "# Initialiser le modèle de régression linéaire\n",
    "model = LinearRegression()\n",
    "\n",
    "# Entraîner le modèle sur l'ensemble d'entraînement\n",
    "model.fit(X_train, y_train)\n",
    "\n",
    "print(\"Modèle de régression linéaire entraîné.\")"
   ]
  },
  {
   "cell_type": "markdown",
   "metadata": {},
   "source": [
    "**Explication :**\n",
    "- `LinearRegression()` initialise le modèle.\n",
    "- `model.fit(X_train, y_train)` ajuste le modèle aux données d’entraînement.\n",
    "\n",
    "---\n",
    "\n",
    "## Étape 4 : Évaluer les performances du modèle\n",
    "\n",
    "Nous évaluons les performances en utilisant le **Mean Squared Error (MSE)** et le **coefficient de détermination (R²)** sur l’ensemble de test."
   ]
  },
  {
   "cell_type": "code",
   "execution_count": 22,
   "metadata": {},
   "outputs": [
    {
     "name": "stdout",
     "output_type": "stream",
     "text": [
      "Évaluation du modèle :\n",
      "Mean Squared Error (MSE) : 1.0783356102786747\n",
      "Coefficient de détermination (R²) : 0.4032539579473836\n"
     ]
    }
   ],
   "source": [
    "# Prédire les valeurs sur l'ensemble de test\n",
    "y_pred = model.predict(X_test)\n",
    "\n",
    "# Calculer le Mean Squared Error (MSE)\n",
    "mse = mean_squared_error(y_test, y_pred)\n",
    "\n",
    "# Calculer le coefficient de détermination R²\n",
    "r2 = r2_score(y_test, y_pred)\n",
    "\n",
    "print(\"Évaluation du modèle :\")\n",
    "print(f\"Mean Squared Error (MSE) : {mse}\")\n",
    "print(f\"Coefficient de détermination (R²) : {r2}\")"
   ]
  },
  {
   "cell_type": "markdown",
   "metadata": {},
   "source": [
    "**Explication :**\n",
    "- `model.predict(X_test)` génère des prédictions.\n",
    "- `mean_squared_error` et `r2_score` évaluent la précision du modèle.\n",
    "\n",
    "---\n",
    "\n",
    "## Étape 5 : Extraire les paramètres statistiques du modèle\n",
    "\n",
    "Les paramètres statistiques incluent les coefficients des variables, l’intercept, et les résidus (erreurs de prédiction)."
   ]
  },
  {
   "cell_type": "code",
   "execution_count": 23,
   "metadata": {},
   "outputs": [
    {
     "name": "stdout",
     "output_type": "stream",
     "text": [
      "Paramètres statistiques du modèle :\n",
      "Intercept : 1.2730532391101386\n",
      "Coefficients :\n",
      "fat_100g : 0.02685592754921234\n",
      "saturated-fat_100g : 0.06416192347869022\n",
      "energy-kcal_100g : 0.001302954398841145\n",
      "sugars_100g : 0.017150569664145767\n",
      "salt_100g : 0.34865011810405594\n",
      "proteins_100g : -0.04239648898691274\n",
      "\n",
      "Aperçu des résidus :\n",
      "113533   -0.331524\n",
      "21047     2.128490\n",
      "6075      0.044995\n",
      "96947     1.628544\n",
      "6273      1.677489\n",
      "Name: nutriscore_grade_encoded, dtype: float64\n"
     ]
    }
   ],
   "source": [
    "# Coefficients des variables et intercept\n",
    "coefficients = model.coef_\n",
    "intercept = model.intercept_\n",
    "\n",
    "# Calcul des résidus (différence entre les valeurs prédites et réelles)\n",
    "residuals = y_test - y_pred\n",
    "\n",
    "print(\"Paramètres statistiques du modèle :\")\n",
    "print(f\"Intercept : {intercept}\")\n",
    "print(\"Coefficients :\")\n",
    "for feature, coef in zip(X.columns, coefficients):\n",
    "    print(f\"{feature} : {coef}\")\n",
    "\n",
    "print(\"\\nAperçu des résidus :\")\n",
    "print(residuals[:5])  # Affiche les cinq premiers résidus pour exemple"
   ]
  },
  {
   "cell_type": "markdown",
   "metadata": {},
   "source": [
    "**Explication :**\n",
    "- `model.intercept_` et `model.coef_` donnent respectivement l'intercept et les coefficients de chaque variable explicative.\n",
    "- Les résidus montrent l'écart entre les valeurs observées et prédites.\n",
    "\n",
    "---\n",
    "\n",
    "## Étape 6 : Sauvegarder le modèle, les métriques de performance et les paramètres statistiques"
   ]
  },
  {
   "cell_type": "code",
   "execution_count": 24,
   "metadata": {},
   "outputs": [
    {
     "name": "stdout",
     "output_type": "stream",
     "text": [
      "Modèle et métriques sauvegardés dans le dossier : note-books/phase_2_training/05_model_baseline\n"
     ]
    }
   ],
   "source": [
    "# Définir le dossier de sortie\n",
    "output_folder = 'note-books/phase_2_training/05_model_baseline'\n",
    "os.makedirs(output_folder, exist_ok=True)\n",
    "\n",
    "# Sauvegarder le modèle de régression linéaire\n",
    "model_path = os.path.join(output_folder, 'linear_regression_model.joblib')\n",
    "joblib.dump(model, model_path)\n",
    "\n",
    "# Sauvegarder les métriques de performance\n",
    "metrics_path = os.path.join(output_folder, 'performance_metrics.txt')\n",
    "with open(metrics_path, 'w') as f:\n",
    "    f.write(f\"Mean Squared Error (MSE) : {mse}\\n\")\n",
    "    f.write(f\"Coefficient de détermination (R²) : {r2}\\n\")\n",
    "\n",
    "# Sauvegarder les paramètres statistiques du modèle\n",
    "params_path = os.path.join(output_folder, 'model_parameters.txt')\n",
    "with open(params_path, 'w') as f:\n",
    "    f.write(f\"Intercept : {intercept}\\n\")\n",
    "    f.write(\"Coefficients :\\n\")\n",
    "    for feature, coef in zip(X.columns, coefficients):\n",
    "        f.write(f\"{feature} : {coef}\\n\")\n",
    "    f.write(\"\\nAperçu des résidus :\\n\")\n",
    "    f.write(\"\\n\".join(map(str, residuals[:5])))  # Sauvegarde les cinq premiers résidus pour exemple\n",
    "\n",
    "print(f\"Modèle et métriques sauvegardés dans le dossier : {output_folder}\")"
   ]
  },
  {
   "cell_type": "markdown",
   "metadata": {},
   "source": [
    "\n",
    "**Explication :**\n",
    "- `joblib.dump(model, model_path)` enregistre le modèle.\n",
    "- Les métriques et paramètres statistiques sont sauvegardés dans des fichiers texte pour référence.\n",
    "\n",
    "---\n",
    "\n",
    "### Résumé\n",
    "\n",
    "Dans ce notebook, nous avons :\n",
    "1. Chargé et préparé les données pour la modélisation.\n",
    "2. Divisé les données en ensembles d’entraînement et de test (80/20).\n",
    "3. Entraîné un modèle de régression linéaire pour prédire `nutriscore_grade`.\n",
    "4. Évalué les performances avec le MSE et R² pour établir une première référence.\n",
    "5. Extrait et sauvegardé les paramètres statistiques du modèle, incluant les coefficients, l'intercept, et un aperçu des résidus.\n"
   ]
  }
 ],
 "metadata": {
  "kernelspec": {
   "display_name": ".venv",
   "language": "python",
   "name": "python3"
  },
  "language_info": {
   "codemirror_mode": {
    "name": "ipython",
    "version": 3
   },
   "file_extension": ".py",
   "mimetype": "text/x-python",
   "name": "python",
   "nbconvert_exporter": "python",
   "pygments_lexer": "ipython3",
   "version": "3.12.6"
  }
 },
 "nbformat": 4,
 "nbformat_minor": 2
}
